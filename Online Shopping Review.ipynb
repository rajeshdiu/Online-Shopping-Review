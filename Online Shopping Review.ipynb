{
 "cells": [
  {
   "cell_type": "code",
   "execution_count": 1,
   "id": "78f19ae7",
   "metadata": {},
   "outputs": [],
   "source": [
    "import pandas as pd\n",
    "import numpy as np\n",
    "import matplotlib.pyplot as plt \n",
    "import seaborn as sns\n",
    "from sklearn.model_selection import train_test_split\n",
    "from sklearn.naive_bayes import MultinomialNB\n",
    "from sklearn.ensemble import RandomForestClassifier\n",
    "from sklearn.linear_model import LogisticRegression\n",
    "from sklearn.metrics import accuracy_score\n",
    "from sklearn.preprocessing import LabelEncoder\n",
    "from sklearn.preprocessing import OrdinalEncoder\n",
    "from sklearn.metrics import accuracy_score,classification_report,confusion_matrix,precision_score,recall_score,f1_score\n",
    "from sklearn.tree import DecisionTreeClassifier\n",
    "from sklearn.ensemble import RandomForestClassifier\n",
    "from sklearn.svm import SVC\n",
    "from sklearn import tree\n",
    "import plotly.offline as py\n",
    "from sklearn.neighbors import KNeighborsClassifier\n",
    "import warnings\n",
    "from sklearn.naive_bayes import GaussianNB\n",
    "from sklearn.feature_selection import SelectKBest\n",
    "from sklearn.feature_selection import f_classif"
   ]
  },
  {
   "cell_type": "code",
   "execution_count": 2,
   "id": "bf877ed7",
   "metadata": {},
   "outputs": [],
   "source": [
    "df=pd.read_csv(\"C:\\\\Users\\\\User\\\\Desktop\\\\Data Science\\\\Research Work\\\\MyProject\\\\Online-Shopping-Review\\\\Dataset\\\\Online Shopping Review.csv\")"
   ]
  },
  {
   "cell_type": "markdown",
   "id": "4e4cb2c2",
   "metadata": {},
   "source": [
    "# Rename The Column Names"
   ]
  },
  {
   "cell_type": "code",
   "execution_count": 3,
   "id": "9522cd3f",
   "metadata": {},
   "outputs": [],
   "source": [
    "my_cols=[\"Time\",\"Name\",\"Age\",\"Gender\",\"About Shopping\",\"Shopping For\",\"Finding For\",\n",
    "         \"Visiting Issue\",\"Compared to OS\",\"Complacency\",\"Find ERP\",\"Payment Complacency\",\n",
    "         \"CheckOut Experience\",\"Product Receive TimeLine\",\"Rider Review\",\"CS Experience\"]"
   ]
  },
  {
   "cell_type": "code",
   "execution_count": 4,
   "id": "d9f0a78e",
   "metadata": {},
   "outputs": [],
   "source": [
    "df.columns=my_cols"
   ]
  },
  {
   "cell_type": "code",
   "execution_count": 5,
   "id": "91c2e964",
   "metadata": {},
   "outputs": [
    {
     "data": {
      "text/plain": [
       "['Time',\n",
       " 'Name',\n",
       " 'Age',\n",
       " 'Gender',\n",
       " 'About_Shopping',\n",
       " 'Shopping_For',\n",
       " 'Finding_For',\n",
       " 'Visiting_Issue',\n",
       " 'Compared_to_OS',\n",
       " 'Complacency',\n",
       " 'Find_ERP',\n",
       " 'Payment_Complacency',\n",
       " 'CheckOut_Experience',\n",
       " 'Product_Receive_TimeLine',\n",
       " 'Rider_Review',\n",
       " 'CS_Experience']"
      ]
     },
     "execution_count": 5,
     "metadata": {},
     "output_type": "execute_result"
    }
   ],
   "source": [
    "#Using ' ' to replace the column names\n",
    "columns= list(df.columns)\n",
    "adder = \"\"\n",
    "new_columns =[]\n",
    "for each_column in columns:\n",
    "    for letter in each_column:\n",
    "        if letter==\" \":\n",
    "            adder = adder + \"_\"\n",
    "        else:\n",
    "            adder = adder + letter\n",
    "    new_columns.append(adder)\n",
    "    adder=\"\"\n",
    "new_columns"
   ]
  },
  {
   "cell_type": "code",
   "execution_count": 6,
   "id": "ea19b77f",
   "metadata": {},
   "outputs": [],
   "source": [
    "df.columns=new_columns"
   ]
  },
  {
   "cell_type": "code",
   "execution_count": 7,
   "id": "e7e2e2e7",
   "metadata": {},
   "outputs": [
    {
     "data": {
      "text/html": [
       "<div>\n",
       "<style scoped>\n",
       "    .dataframe tbody tr th:only-of-type {\n",
       "        vertical-align: middle;\n",
       "    }\n",
       "\n",
       "    .dataframe tbody tr th {\n",
       "        vertical-align: top;\n",
       "    }\n",
       "\n",
       "    .dataframe thead th {\n",
       "        text-align: right;\n",
       "    }\n",
       "</style>\n",
       "<table border=\"1\" class=\"dataframe\">\n",
       "  <thead>\n",
       "    <tr style=\"text-align: right;\">\n",
       "      <th></th>\n",
       "      <th>Time</th>\n",
       "      <th>Name</th>\n",
       "      <th>Age</th>\n",
       "      <th>Gender</th>\n",
       "      <th>About_Shopping</th>\n",
       "      <th>Shopping_For</th>\n",
       "      <th>Finding_For</th>\n",
       "      <th>Visiting_Issue</th>\n",
       "      <th>Compared_to_OS</th>\n",
       "      <th>Complacency</th>\n",
       "      <th>Find_ERP</th>\n",
       "      <th>Payment_Complacency</th>\n",
       "      <th>CheckOut_Experience</th>\n",
       "      <th>Product_Receive_TimeLine</th>\n",
       "      <th>Rider_Review</th>\n",
       "      <th>CS_Experience</th>\n",
       "    </tr>\n",
       "  </thead>\n",
       "  <tbody>\n",
       "    <tr>\n",
       "      <th>0</th>\n",
       "      <td>6/17/2022 0:46:08</td>\n",
       "      <td>Rajesh Das</td>\n",
       "      <td>25</td>\n",
       "      <td>Male</td>\n",
       "      <td>Newspaper</td>\n",
       "      <td>Friend</td>\n",
       "      <td>Yes</td>\n",
       "      <td>Product Information</td>\n",
       "      <td>Pricing</td>\n",
       "      <td>Neutral</td>\n",
       "      <td>Yes</td>\n",
       "      <td>Very Safe</td>\n",
       "      <td>3</td>\n",
       "      <td>No</td>\n",
       "      <td>2</td>\n",
       "      <td>3</td>\n",
       "    </tr>\n",
       "    <tr>\n",
       "      <th>1</th>\n",
       "      <td>6/17/2022 1:55:47</td>\n",
       "      <td>Radhika</td>\n",
       "      <td>22</td>\n",
       "      <td>Female</td>\n",
       "      <td>Social Media</td>\n",
       "      <td>Friend</td>\n",
       "      <td>Yes</td>\n",
       "      <td>Product Information</td>\n",
       "      <td>Website performance</td>\n",
       "      <td>Very satisfied</td>\n",
       "      <td>Yes</td>\n",
       "      <td>Safe</td>\n",
       "      <td>3</td>\n",
       "      <td>Yes</td>\n",
       "      <td>5</td>\n",
       "      <td>5</td>\n",
       "    </tr>\n",
       "    <tr>\n",
       "      <th>2</th>\n",
       "      <td>6/17/2022 1:52:21</td>\n",
       "      <td>Sourav Pathok</td>\n",
       "      <td>23</td>\n",
       "      <td>Male</td>\n",
       "      <td>Social Media</td>\n",
       "      <td>Other</td>\n",
       "      <td>Maybe</td>\n",
       "      <td>About Company</td>\n",
       "      <td>Overall</td>\n",
       "      <td>Satisfied</td>\n",
       "      <td>Yes</td>\n",
       "      <td>Safe</td>\n",
       "      <td>1</td>\n",
       "      <td>Yes</td>\n",
       "      <td>1</td>\n",
       "      <td>1</td>\n",
       "    </tr>\n",
       "    <tr>\n",
       "      <th>3</th>\n",
       "      <td>6/17/2022 1:57:38</td>\n",
       "      <td>Ritu</td>\n",
       "      <td>21</td>\n",
       "      <td>Female</td>\n",
       "      <td>Social Media</td>\n",
       "      <td>Friend</td>\n",
       "      <td>Yes</td>\n",
       "      <td>Buying Products</td>\n",
       "      <td>Website performance</td>\n",
       "      <td>Very satisfied</td>\n",
       "      <td>Yes</td>\n",
       "      <td>Safe</td>\n",
       "      <td>5</td>\n",
       "      <td>Yes</td>\n",
       "      <td>5</td>\n",
       "      <td>5</td>\n",
       "    </tr>\n",
       "    <tr>\n",
       "      <th>4</th>\n",
       "      <td>6/17/2022 2:01:02</td>\n",
       "      <td>Nandini</td>\n",
       "      <td>24</td>\n",
       "      <td>Female</td>\n",
       "      <td>Friend</td>\n",
       "      <td>Parent</td>\n",
       "      <td>Yes</td>\n",
       "      <td>Buying Products</td>\n",
       "      <td>Website performance</td>\n",
       "      <td>Very satisfied</td>\n",
       "      <td>Yes</td>\n",
       "      <td>Safe</td>\n",
       "      <td>5</td>\n",
       "      <td>Yes</td>\n",
       "      <td>5</td>\n",
       "      <td>5</td>\n",
       "    </tr>\n",
       "  </tbody>\n",
       "</table>\n",
       "</div>"
      ],
      "text/plain": [
       "                Time           Name  Age  Gender About_Shopping Shopping_For  \\\n",
       "0  6/17/2022 0:46:08     Rajesh Das   25    Male      Newspaper       Friend   \n",
       "1  6/17/2022 1:55:47        Radhika   22  Female   Social Media       Friend   \n",
       "2  6/17/2022 1:52:21  Sourav Pathok   23    Male   Social Media        Other   \n",
       "3  6/17/2022 1:57:38           Ritu   21  Female   Social Media       Friend   \n",
       "4  6/17/2022 2:01:02       Nandini    24  Female         Friend       Parent   \n",
       "\n",
       "  Finding_For       Visiting_Issue       Compared_to_OS     Complacency  \\\n",
       "0         Yes  Product Information              Pricing         Neutral   \n",
       "1         Yes  Product Information  Website performance  Very satisfied   \n",
       "2       Maybe        About Company              Overall       Satisfied   \n",
       "3         Yes      Buying Products  Website performance  Very satisfied   \n",
       "4         Yes      Buying Products  Website performance  Very satisfied   \n",
       "\n",
       "  Find_ERP Payment_Complacency  CheckOut_Experience Product_Receive_TimeLine  \\\n",
       "0      Yes           Very Safe                    3                       No   \n",
       "1      Yes                Safe                    3                      Yes   \n",
       "2      Yes                Safe                    1                      Yes   \n",
       "3      Yes                Safe                    5                      Yes   \n",
       "4      Yes                Safe                    5                      Yes   \n",
       "\n",
       "   Rider_Review  CS_Experience  \n",
       "0             2              3  \n",
       "1             5              5  \n",
       "2             1              1  \n",
       "3             5              5  \n",
       "4             5              5  "
      ]
     },
     "execution_count": 7,
     "metadata": {},
     "output_type": "execute_result"
    }
   ],
   "source": [
    "df.head()"
   ]
  },
  {
   "cell_type": "markdown",
   "id": "6a9136ab",
   "metadata": {},
   "source": [
    "# Drop  Unnecessary Columns"
   ]
  },
  {
   "cell_type": "code",
   "execution_count": 8,
   "id": "f291d149",
   "metadata": {},
   "outputs": [],
   "source": [
    "df1=df.drop([\"Time\",\"Name\"],axis=1)"
   ]
  },
  {
   "cell_type": "code",
   "execution_count": 9,
   "id": "067e0caa",
   "metadata": {},
   "outputs": [
    {
     "data": {
      "text/plain": [
       "(982, 14)"
      ]
     },
     "execution_count": 9,
     "metadata": {},
     "output_type": "execute_result"
    }
   ],
   "source": [
    "df1.shape"
   ]
  },
  {
   "cell_type": "code",
   "execution_count": 10,
   "id": "f807cf1a",
   "metadata": {},
   "outputs": [
    {
     "name": "stdout",
     "output_type": "stream",
     "text": [
      "<class 'pandas.core.frame.DataFrame'>\n",
      "RangeIndex: 982 entries, 0 to 981\n",
      "Data columns (total 14 columns):\n",
      " #   Column                    Non-Null Count  Dtype \n",
      "---  ------                    --------------  ----- \n",
      " 0   Age                       982 non-null    int64 \n",
      " 1   Gender                    982 non-null    object\n",
      " 2   About_Shopping            982 non-null    object\n",
      " 3   Shopping_For              982 non-null    object\n",
      " 4   Finding_For               982 non-null    object\n",
      " 5   Visiting_Issue            982 non-null    object\n",
      " 6   Compared_to_OS            982 non-null    object\n",
      " 7   Complacency               982 non-null    object\n",
      " 8   Find_ERP                  982 non-null    object\n",
      " 9   Payment_Complacency       982 non-null    object\n",
      " 10  CheckOut_Experience       982 non-null    int64 \n",
      " 11  Product_Receive_TimeLine  982 non-null    object\n",
      " 12  Rider_Review              982 non-null    int64 \n",
      " 13  CS_Experience             982 non-null    int64 \n",
      "dtypes: int64(4), object(10)\n",
      "memory usage: 107.5+ KB\n"
     ]
    }
   ],
   "source": [
    "df1.info()"
   ]
  },
  {
   "cell_type": "code",
   "execution_count": 11,
   "id": "dca82d71",
   "metadata": {},
   "outputs": [
    {
     "data": {
      "text/html": [
       "<div>\n",
       "<style scoped>\n",
       "    .dataframe tbody tr th:only-of-type {\n",
       "        vertical-align: middle;\n",
       "    }\n",
       "\n",
       "    .dataframe tbody tr th {\n",
       "        vertical-align: top;\n",
       "    }\n",
       "\n",
       "    .dataframe thead th {\n",
       "        text-align: right;\n",
       "    }\n",
       "</style>\n",
       "<table border=\"1\" class=\"dataframe\">\n",
       "  <thead>\n",
       "    <tr style=\"text-align: right;\">\n",
       "      <th></th>\n",
       "      <th>Age</th>\n",
       "      <th>CheckOut_Experience</th>\n",
       "      <th>Rider_Review</th>\n",
       "      <th>CS_Experience</th>\n",
       "    </tr>\n",
       "  </thead>\n",
       "  <tbody>\n",
       "    <tr>\n",
       "      <th>count</th>\n",
       "      <td>982.000000</td>\n",
       "      <td>982.000000</td>\n",
       "      <td>982.000000</td>\n",
       "      <td>982.000000</td>\n",
       "    </tr>\n",
       "    <tr>\n",
       "      <th>mean</th>\n",
       "      <td>29.800407</td>\n",
       "      <td>4.255601</td>\n",
       "      <td>4.159878</td>\n",
       "      <td>3.906314</td>\n",
       "    </tr>\n",
       "    <tr>\n",
       "      <th>std</th>\n",
       "      <td>9.324531</td>\n",
       "      <td>0.976192</td>\n",
       "      <td>1.021631</td>\n",
       "      <td>1.215505</td>\n",
       "    </tr>\n",
       "    <tr>\n",
       "      <th>min</th>\n",
       "      <td>11.000000</td>\n",
       "      <td>1.000000</td>\n",
       "      <td>1.000000</td>\n",
       "      <td>1.000000</td>\n",
       "    </tr>\n",
       "    <tr>\n",
       "      <th>25%</th>\n",
       "      <td>23.000000</td>\n",
       "      <td>4.000000</td>\n",
       "      <td>4.000000</td>\n",
       "      <td>3.000000</td>\n",
       "    </tr>\n",
       "    <tr>\n",
       "      <th>50%</th>\n",
       "      <td>28.000000</td>\n",
       "      <td>5.000000</td>\n",
       "      <td>4.000000</td>\n",
       "      <td>4.000000</td>\n",
       "    </tr>\n",
       "    <tr>\n",
       "      <th>75%</th>\n",
       "      <td>34.000000</td>\n",
       "      <td>5.000000</td>\n",
       "      <td>5.000000</td>\n",
       "      <td>5.000000</td>\n",
       "    </tr>\n",
       "    <tr>\n",
       "      <th>max</th>\n",
       "      <td>76.000000</td>\n",
       "      <td>5.000000</td>\n",
       "      <td>5.000000</td>\n",
       "      <td>5.000000</td>\n",
       "    </tr>\n",
       "  </tbody>\n",
       "</table>\n",
       "</div>"
      ],
      "text/plain": [
       "              Age  CheckOut_Experience  Rider_Review  CS_Experience\n",
       "count  982.000000           982.000000    982.000000     982.000000\n",
       "mean    29.800407             4.255601      4.159878       3.906314\n",
       "std      9.324531             0.976192      1.021631       1.215505\n",
       "min     11.000000             1.000000      1.000000       1.000000\n",
       "25%     23.000000             4.000000      4.000000       3.000000\n",
       "50%     28.000000             5.000000      4.000000       4.000000\n",
       "75%     34.000000             5.000000      5.000000       5.000000\n",
       "max     76.000000             5.000000      5.000000       5.000000"
      ]
     },
     "execution_count": 11,
     "metadata": {},
     "output_type": "execute_result"
    }
   ],
   "source": [
    "df1.describe()"
   ]
  },
  {
   "cell_type": "markdown",
   "id": "2e149853",
   "metadata": {},
   "source": [
    "# Checking Null Values"
   ]
  },
  {
   "cell_type": "code",
   "execution_count": 12,
   "id": "49061635",
   "metadata": {},
   "outputs": [
    {
     "data": {
      "image/png": "[encoded data removed]",
      "text/plain": [
       "<Figure size 432x288 with 2 Axes>"
      ]
     },
     "metadata": {
      "needs_background": "light"
     },
     "output_type": "display_data"
    }
   ],
   "source": [
    "sns.heatmap(df1.isnull())\n",
    "plt.show()"
   ]
  },
  {
   "cell_type": "code",
   "execution_count": 13,
   "id": "bd3ed6e4",
   "metadata": {},
   "outputs": [
    {
     "data": {
      "text/html": [
       "<div>\n",
       "<style scoped>\n",
       "    .dataframe tbody tr th:only-of-type {\n",
       "        vertical-align: middle;\n",
       "    }\n",
       "\n",
       "    .dataframe tbody tr th {\n",
       "        vertical-align: top;\n",
       "    }\n",
       "\n",
       "    .dataframe thead th {\n",
       "        text-align: right;\n",
       "    }\n",
       "</style>\n",
       "<table border=\"1\" class=\"dataframe\">\n",
       "  <thead>\n",
       "    <tr style=\"text-align: right;\">\n",
       "      <th></th>\n",
       "      <th>Age</th>\n",
       "      <th>Gender</th>\n",
       "      <th>About_Shopping</th>\n",
       "      <th>Shopping_For</th>\n",
       "      <th>Finding_For</th>\n",
       "      <th>Visiting_Issue</th>\n",
       "      <th>Compared_to_OS</th>\n",
       "      <th>Complacency</th>\n",
       "      <th>Find_ERP</th>\n",
       "      <th>Payment_Complacency</th>\n",
       "      <th>CheckOut_Experience</th>\n",
       "      <th>Product_Receive_TimeLine</th>\n",
       "      <th>Rider_Review</th>\n",
       "      <th>CS_Experience</th>\n",
       "    </tr>\n",
       "  </thead>\n",
       "  <tbody>\n",
       "  </tbody>\n",
       "</table>\n",
       "</div>"
      ],
      "text/plain": [
       "Empty DataFrame\n",
       "Columns: [Age, Gender, About_Shopping, Shopping_For, Finding_For, Visiting_Issue, Compared_to_OS, Complacency, Find_ERP, Payment_Complacency, CheckOut_Experience, Product_Receive_TimeLine, Rider_Review, CS_Experience]\n",
       "Index: []"
      ]
     },
     "execution_count": 13,
     "metadata": {},
     "output_type": "execute_result"
    }
   ],
   "source": [
    "df1[df1.isnull().any(axis=1)].head()"
   ]
  },
  {
   "cell_type": "code",
   "execution_count": 14,
   "id": "6995d82c",
   "metadata": {},
   "outputs": [
    {
     "data": {
      "text/plain": [
       "Age                         0\n",
       "Gender                      0\n",
       "About_Shopping              0\n",
       "Shopping_For                0\n",
       "Finding_For                 0\n",
       "Visiting_Issue              0\n",
       "Compared_to_OS              0\n",
       "Complacency                 0\n",
       "Find_ERP                    0\n",
       "Payment_Complacency         0\n",
       "CheckOut_Experience         0\n",
       "Product_Receive_TimeLine    0\n",
       "Rider_Review                0\n",
       "CS_Experience               0\n",
       "dtype: int64"
      ]
     },
     "execution_count": 14,
     "metadata": {},
     "output_type": "execute_result"
    }
   ],
   "source": [
    "df1.isnull().sum()"
   ]
  },
  {
   "cell_type": "code",
   "execution_count": 15,
   "id": "24f81185",
   "metadata": {},
   "outputs": [
    {
     "name": "stdout",
     "output_type": "stream",
     "text": [
      "       Column Name  Data Type    #Distinct  NA Values\n",
      "              Time     object        982          0\n",
      "              Name     object        934          0\n",
      "               Age      int64         52          0\n",
      "            Gender     object          3          0\n",
      "    About_Shopping     object          6          0\n",
      "      Shopping_For     object          6          0\n",
      "       Finding_For     object          3          0\n",
      "    Visiting_Issue     object          5          0\n",
      "    Compared_to_OS     object          8          0\n",
      "       Complacency     object          5          0\n",
      "          Find_ERP     object          3          0\n",
      "Payment_Complacency     object          5          0\n",
      "CheckOut_Experience      int64          5          0\n",
      "Product_Receive_TimeLine     object          3          0\n",
      "      Rider_Review      int64          5          0\n",
      "     CS_Experience      int64          5          0\n"
     ]
    }
   ],
   "source": [
    "print(\"%18s %10s   %10s %10s\" % (\"Column Name\", \"Data Type\", \"#Distinct\", \"NA Values\"))\n",
    "for col in df.columns:\n",
    "    dtyp = df[col].dtype\n",
    "    uniq = df[col].nunique()\n",
    "    na = df[col].isna().sum()\n",
    "    print(\"%18s %10s %10s %10s\" % (col, dtyp, uniq, na))"
   ]
  },
  {
   "cell_type": "markdown",
   "id": "fada1095",
   "metadata": {},
   "source": [
    "# Seperate Categorical and Numerical Features"
   ]
  },
  {
   "cell_type": "code",
   "execution_count": 16,
   "id": "854ee328",
   "metadata": {},
   "outputs": [],
   "source": [
    "categorical_features=[]\n",
    "numerical_features=[]"
   ]
  },
  {
   "cell_type": "code",
   "execution_count": 17,
   "id": "04c18d31",
   "metadata": {},
   "outputs": [],
   "source": [
    "for i in df1.columns.tolist():\n",
    "    if df1[i].dtype==\"object\":\n",
    "        categorical_features.append(i)\n",
    "    else:\n",
    "        numerical_features.append(i)"
   ]
  },
  {
   "cell_type": "code",
   "execution_count": 18,
   "id": "f2120234",
   "metadata": {},
   "outputs": [
    {
     "name": "stdout",
     "output_type": "stream",
     "text": [
      "----------------------------------------\n",
      "Numerical Features\n",
      "----------------------------------------\n",
      "Feature:  Age\n",
      "Feature:  CheckOut_Experience\n",
      "Feature:  Rider_Review\n",
      "Feature:  CS_Experience\n"
     ]
    }
   ],
   "source": [
    "print(\"-\"*40)\n",
    "print(\"Numerical Features\")\n",
    "print(\"-\"*40)\n",
    "for i in numerical_features:\n",
    "    print('Feature: ',i)"
   ]
  },
  {
   "cell_type": "code",
   "execution_count": 19,
   "id": "43b26576",
   "metadata": {},
   "outputs": [
    {
     "name": "stdout",
     "output_type": "stream",
     "text": [
      "----------------------------------------\n",
      "Categorical Features\n",
      "----------------------------------------\n",
      "Feature: Gender\n",
      "Feature: About_Shopping\n",
      "Feature: Shopping_For\n",
      "Feature: Finding_For\n",
      "Feature: Visiting_Issue\n",
      "Feature: Compared_to_OS\n",
      "Feature: Complacency\n",
      "Feature: Find_ERP\n",
      "Feature: Payment_Complacency\n",
      "Feature: Product_Receive_TimeLine\n"
     ]
    }
   ],
   "source": [
    "print(\"-\"*40)\n",
    "print(\"Categorical Features\")\n",
    "print(\"-\"*40)\n",
    "for i in categorical_features:\n",
    "    print('Feature:',i)"
   ]
  },
  {
   "cell_type": "markdown",
   "id": "83491fa7",
   "metadata": {},
   "source": [
    "# Checking Unique Value Per Column"
   ]
  },
  {
   "cell_type": "code",
   "execution_count": 20,
   "id": "d2a9f417",
   "metadata": {},
   "outputs": [
    {
     "name": "stdout",
     "output_type": "stream",
     "text": [
      "-------------------\n",
      "Column Name Is Gender\n",
      "-------------------\n",
      "['Male' 'Female' 'Other']\n",
      "-------------------\n",
      "Column Name Is About_Shopping\n",
      "-------------------\n",
      "['Newspaper' 'Social Media' 'Friend' 'TV' 'Other' 'Search Engine']\n",
      "-------------------\n",
      "Column Name Is Shopping_For\n",
      "-------------------\n",
      "['Friend' 'Other' 'Parent' 'Colleague' 'Boss' 'Me']\n",
      "-------------------\n",
      "Column Name Is Finding_For\n",
      "-------------------\n",
      "['Yes' 'Maybe' 'No']\n",
      "-------------------\n",
      "Column Name Is Visiting_Issue\n",
      "-------------------\n",
      "['Product Information' 'About Company' 'Buying Products'\n",
      " 'Contact Information' 'Other']\n",
      "-------------------\n",
      "Column Name Is Compared_to_OS\n",
      "-------------------\n",
      "['Pricing' 'Website performance' 'Overall' 'Product catalog'\n",
      " 'Product information' 'Shipping options' 'Online help'\n",
      " 'Payment experience']\n",
      "-------------------\n",
      "Column Name Is Complacency\n",
      "-------------------\n",
      "['Neutral' 'Very satisfied' 'Satisfied' 'Dissatisfied' 'Very dissatisfied']\n",
      "-------------------\n",
      "Column Name Is Find_ERP\n",
      "-------------------\n",
      "['Yes' 'Maybe' 'No']\n",
      "-------------------\n",
      "Column Name Is Payment_Complacency\n",
      "-------------------\n",
      "['Very Safe' 'Safe' 'Neutral' 'Not Safe' 'Very Unsafe']\n",
      "-------------------\n",
      "Column Name Is CheckOut_Experience\n",
      "-------------------\n",
      "[3 1 5 4 2]\n",
      "-------------------\n",
      "Column Name Is Product_Receive_TimeLine\n",
      "-------------------\n",
      "['No' 'Yes' 'Maybe']\n",
      "-------------------\n",
      "Column Name Is Rider_Review\n",
      "-------------------\n",
      "[2 5 1 4 3]\n",
      "-------------------\n",
      "Column Name Is CS_Experience\n",
      "-------------------\n",
      "[3 5 1 4 2]\n"
     ]
    }
   ],
   "source": [
    "for col in new_columns[3:]:\n",
    "    print(\"-------------------\")\n",
    "    print(\"Column Name Is\",col)\n",
    "    print(\"-------------------\")\n",
    "    print(df[col].unique())  "
   ]
  },
  {
   "cell_type": "code",
   "execution_count": 21,
   "id": "199fe67f",
   "metadata": {},
   "outputs": [
    {
     "name": "stdout",
     "output_type": "stream",
     "text": [
      "-------------------\n",
      "Column Name Is Gender\n",
      "-------------------\n",
      "Male      504\n",
      "Female    475\n",
      "Other       3\n",
      "Name: Gender, dtype: int64\n",
      "-------------------\n",
      "Column Name Is About_Shopping\n",
      "-------------------\n",
      "Social Media     253\n",
      "Friend           202\n",
      "Search Engine    193\n",
      "Newspaper        184\n",
      "TV                97\n",
      "Other             53\n",
      "Name: About_Shopping, dtype: int64\n",
      "-------------------\n",
      "Column Name Is Shopping_For\n",
      "-------------------\n",
      "Parent       227\n",
      "Friend       187\n",
      "Me           182\n",
      "Colleague    167\n",
      "Boss         144\n",
      "Other         75\n",
      "Name: Shopping_For, dtype: int64\n",
      "-------------------\n",
      "Column Name Is Finding_For\n",
      "-------------------\n",
      "Yes      442\n",
      "No       285\n",
      "Maybe    255\n",
      "Name: Finding_For, dtype: int64\n",
      "-------------------\n",
      "Column Name Is Visiting_Issue\n",
      "-------------------\n",
      "Buying Products        269\n",
      "Product Information    256\n",
      "About Company          201\n",
      "Contact Information    190\n",
      "Other                   66\n",
      "Name: Visiting_Issue, dtype: int64\n",
      "-------------------\n",
      "Column Name Is Compared_to_OS\n",
      "-------------------\n",
      "Website performance    174\n",
      "Product catalog        168\n",
      "Product information    143\n",
      "Pricing                125\n",
      "Shipping options       125\n",
      "Payment experience      95\n",
      "Online help             88\n",
      "Overall                 64\n",
      "Name: Compared_to_OS, dtype: int64\n",
      "-------------------\n",
      "Column Name Is Complacency\n",
      "-------------------\n",
      "Very satisfied       375\n",
      "Satisfied            293\n",
      "Neutral              161\n",
      "Dissatisfied         111\n",
      "Very dissatisfied     42\n",
      "Name: Complacency, dtype: int64\n",
      "-------------------\n",
      "Column Name Is Find_ERP\n",
      "-------------------\n",
      "Yes      470\n",
      "Maybe    268\n",
      "No       244\n",
      "Name: Find_ERP, dtype: int64\n",
      "-------------------\n",
      "Column Name Is Payment_Complacency\n",
      "-------------------\n",
      "Safe           291\n",
      "Very Safe      272\n",
      "Neutral        202\n",
      "Not Safe       160\n",
      "Very Unsafe     57\n",
      "Name: Payment_Complacency, dtype: int64\n",
      "-------------------\n",
      "Column Name Is CheckOut_Experience\n",
      "-------------------\n",
      "5    517\n",
      "4    283\n",
      "3    122\n",
      "2     36\n",
      "1     24\n",
      "Name: CheckOut_Experience, dtype: int64\n",
      "-------------------\n",
      "Column Name Is Product_Receive_TimeLine\n",
      "-------------------\n",
      "Yes      539\n",
      "No       230\n",
      "Maybe    213\n",
      "Name: Product_Receive_TimeLine, dtype: int64\n",
      "-------------------\n",
      "Column Name Is Rider_Review\n",
      "-------------------\n",
      "5    472\n",
      "4    299\n",
      "3    134\n",
      "2     50\n",
      "1     27\n",
      "Name: Rider_Review, dtype: int64\n",
      "-------------------\n",
      "Column Name Is CS_Experience\n",
      "-------------------\n",
      "5    414\n",
      "4    268\n",
      "3    157\n",
      "2     80\n",
      "1     63\n",
      "Name: CS_Experience, dtype: int64\n"
     ]
    }
   ],
   "source": [
    "for col in new_columns[3:]:\n",
    "    print(\"-------------------\")\n",
    "    print(\"Column Name Is\",col)\n",
    "    print(\"-------------------\")\n",
    "    print(df1[col].value_counts())  "
   ]
  },
  {
   "cell_type": "markdown",
   "id": "8567a56a",
   "metadata": {},
   "source": [
    "# Co-Relation"
   ]
  },
  {
   "cell_type": "code",
   "execution_count": 22,
   "id": "a3c478c1",
   "metadata": {},
   "outputs": [
    {
     "data": {
      "text/plain": [
       "<AxesSubplot:>"
      ]
     },
     "execution_count": 22,
     "metadata": {},
     "output_type": "execute_result"
    },
    {
     "data": {
      "image/png": "[encoded data removed]",
      "text/plain": [
       "<Figure size 720x360 with 2 Axes>"
      ]
     },
     "metadata": {
      "needs_background": "light"
     },
     "output_type": "display_data"
    }
   ],
   "source": [
    "f,ax = plt.subplots(figsize=(10, 5))\n",
    "sns.heatmap(df1.corr(), annot=True, linewidths=.5, fmt= '.1f',ax=ax)"
   ]
  },
  {
   "cell_type": "code",
   "execution_count": 23,
   "id": "31693938",
   "metadata": {},
   "outputs": [
    {
     "data": {
      "text/html": [
       "<div>\n",
       "<style scoped>\n",
       "    .dataframe tbody tr th:only-of-type {\n",
       "        vertical-align: middle;\n",
       "    }\n",
       "\n",
       "    .dataframe tbody tr th {\n",
       "        vertical-align: top;\n",
       "    }\n",
       "\n",
       "    .dataframe thead th {\n",
       "        text-align: right;\n",
       "    }\n",
       "</style>\n",
       "<table border=\"1\" class=\"dataframe\">\n",
       "  <thead>\n",
       "    <tr style=\"text-align: right;\">\n",
       "      <th></th>\n",
       "      <th>Age</th>\n",
       "      <th>Gender</th>\n",
       "      <th>About_Shopping</th>\n",
       "      <th>Shopping_For</th>\n",
       "      <th>Finding_For</th>\n",
       "      <th>Visiting_Issue</th>\n",
       "      <th>Compared_to_OS</th>\n",
       "      <th>Complacency</th>\n",
       "      <th>Find_ERP</th>\n",
       "      <th>Payment_Complacency</th>\n",
       "      <th>CheckOut_Experience</th>\n",
       "      <th>Product_Receive_TimeLine</th>\n",
       "      <th>Rider_Review</th>\n",
       "      <th>CS_Experience</th>\n",
       "    </tr>\n",
       "  </thead>\n",
       "  <tbody>\n",
       "    <tr>\n",
       "      <th>0</th>\n",
       "      <td>25</td>\n",
       "      <td>Male</td>\n",
       "      <td>Newspaper</td>\n",
       "      <td>Friend</td>\n",
       "      <td>Yes</td>\n",
       "      <td>Product Information</td>\n",
       "      <td>Pricing</td>\n",
       "      <td>Neutral</td>\n",
       "      <td>Yes</td>\n",
       "      <td>Very Safe</td>\n",
       "      <td>3</td>\n",
       "      <td>No</td>\n",
       "      <td>2</td>\n",
       "      <td>3</td>\n",
       "    </tr>\n",
       "    <tr>\n",
       "      <th>1</th>\n",
       "      <td>22</td>\n",
       "      <td>Female</td>\n",
       "      <td>Social Media</td>\n",
       "      <td>Friend</td>\n",
       "      <td>Yes</td>\n",
       "      <td>Product Information</td>\n",
       "      <td>Website performance</td>\n",
       "      <td>Very satisfied</td>\n",
       "      <td>Yes</td>\n",
       "      <td>Safe</td>\n",
       "      <td>3</td>\n",
       "      <td>Yes</td>\n",
       "      <td>5</td>\n",
       "      <td>5</td>\n",
       "    </tr>\n",
       "    <tr>\n",
       "      <th>2</th>\n",
       "      <td>23</td>\n",
       "      <td>Male</td>\n",
       "      <td>Social Media</td>\n",
       "      <td>Other</td>\n",
       "      <td>Maybe</td>\n",
       "      <td>About Company</td>\n",
       "      <td>Overall</td>\n",
       "      <td>Satisfied</td>\n",
       "      <td>Yes</td>\n",
       "      <td>Safe</td>\n",
       "      <td>1</td>\n",
       "      <td>Yes</td>\n",
       "      <td>1</td>\n",
       "      <td>1</td>\n",
       "    </tr>\n",
       "    <tr>\n",
       "      <th>3</th>\n",
       "      <td>21</td>\n",
       "      <td>Female</td>\n",
       "      <td>Social Media</td>\n",
       "      <td>Friend</td>\n",
       "      <td>Yes</td>\n",
       "      <td>Buying Products</td>\n",
       "      <td>Website performance</td>\n",
       "      <td>Very satisfied</td>\n",
       "      <td>Yes</td>\n",
       "      <td>Safe</td>\n",
       "      <td>5</td>\n",
       "      <td>Yes</td>\n",
       "      <td>5</td>\n",
       "      <td>5</td>\n",
       "    </tr>\n",
       "    <tr>\n",
       "      <th>4</th>\n",
       "      <td>24</td>\n",
       "      <td>Female</td>\n",
       "      <td>Friend</td>\n",
       "      <td>Parent</td>\n",
       "      <td>Yes</td>\n",
       "      <td>Buying Products</td>\n",
       "      <td>Website performance</td>\n",
       "      <td>Very satisfied</td>\n",
       "      <td>Yes</td>\n",
       "      <td>Safe</td>\n",
       "      <td>5</td>\n",
       "      <td>Yes</td>\n",
       "      <td>5</td>\n",
       "      <td>5</td>\n",
       "    </tr>\n",
       "  </tbody>\n",
       "</table>\n",
       "</div>"
      ],
      "text/plain": [
       "   Age  Gender About_Shopping Shopping_For Finding_For       Visiting_Issue  \\\n",
       "0   25    Male      Newspaper       Friend         Yes  Product Information   \n",
       "1   22  Female   Social Media       Friend         Yes  Product Information   \n",
       "2   23    Male   Social Media        Other       Maybe        About Company   \n",
       "3   21  Female   Social Media       Friend         Yes      Buying Products   \n",
       "4   24  Female         Friend       Parent         Yes      Buying Products   \n",
       "\n",
       "        Compared_to_OS     Complacency Find_ERP Payment_Complacency  \\\n",
       "0              Pricing         Neutral      Yes           Very Safe   \n",
       "1  Website performance  Very satisfied      Yes                Safe   \n",
       "2              Overall       Satisfied      Yes                Safe   \n",
       "3  Website performance  Very satisfied      Yes                Safe   \n",
       "4  Website performance  Very satisfied      Yes                Safe   \n",
       "\n",
       "   CheckOut_Experience Product_Receive_TimeLine  Rider_Review  CS_Experience  \n",
       "0                    3                       No             2              3  \n",
       "1                    3                      Yes             5              5  \n",
       "2                    1                      Yes             1              1  \n",
       "3                    5                      Yes             5              5  \n",
       "4                    5                      Yes             5              5  "
      ]
     },
     "execution_count": 23,
     "metadata": {},
     "output_type": "execute_result"
    }
   ],
   "source": [
    "df1.head()"
   ]
  },
  {
   "cell_type": "markdown",
   "id": "e83a9eae",
   "metadata": {},
   "source": [
    "# Separate X and Y"
   ]
  },
  {
   "cell_type": "code",
   "execution_count": 24,
   "id": "ccd7fd66",
   "metadata": {},
   "outputs": [],
   "source": [
    "target=df1[\"Complacency\"]"
   ]
  },
  {
   "cell_type": "code",
   "execution_count": 25,
   "id": "27593f24",
   "metadata": {},
   "outputs": [],
   "source": [
    "features=df1.drop([\"Complacency\"],axis=1)"
   ]
  },
  {
   "cell_type": "markdown",
   "id": "70d6400b",
   "metadata": {},
   "source": [
    "# droping Less Important Columns"
   ]
  },
  {
   "cell_type": "code",
   "execution_count": 26,
   "id": "b51c21f3",
   "metadata": {},
   "outputs": [
    {
     "data": {
      "text/plain": [
       "Index(['Age', 'Gender', 'About_Shopping', 'Shopping_For', 'Finding_For',\n",
       "       'Visiting_Issue', 'Compared_to_OS', 'Find_ERP', 'Payment_Complacency',\n",
       "       'CheckOut_Experience', 'Product_Receive_TimeLine', 'Rider_Review',\n",
       "       'CS_Experience'],\n",
       "      dtype='object')"
      ]
     },
     "execution_count": 26,
     "metadata": {},
     "output_type": "execute_result"
    }
   ],
   "source": [
    "features.columns"
   ]
  },
  {
   "cell_type": "code",
   "execution_count": 27,
   "id": "f8acc850",
   "metadata": {},
   "outputs": [],
   "source": [
    "le=LabelEncoder()\n",
    "for i in features.columns.tolist():\n",
    "    features[i]=le.fit_transform(features[i])"
   ]
  },
  {
   "cell_type": "markdown",
   "id": "9e168287",
   "metadata": {},
   "source": [
    "# Feature Selection"
   ]
  },
  {
   "cell_type": "code",
   "execution_count": 28,
   "id": "554eaf24",
   "metadata": {},
   "outputs": [],
   "source": [
    "\n",
    "from sklearn.feature_selection import SelectKBest\n",
    "from sklearn.feature_selection import f_classif\n",
    "\n",
    "test = SelectKBest(score_func=f_classif, k=4)\n",
    "fit_features = test.fit(features,target)\n",
    "score_col=pd.DataFrame(fit_features.scores_,columns=[\"Score_Value\"])"
   ]
  },
  {
   "cell_type": "code",
   "execution_count": 29,
   "id": "8d3379c2",
   "metadata": {},
   "outputs": [
    {
     "data": {
      "text/html": [
       "<div>\n",
       "<style scoped>\n",
       "    .dataframe tbody tr th:only-of-type {\n",
       "        vertical-align: middle;\n",
       "    }\n",
       "\n",
       "    .dataframe tbody tr th {\n",
       "        vertical-align: top;\n",
       "    }\n",
       "\n",
       "    .dataframe thead th {\n",
       "        text-align: right;\n",
       "    }\n",
       "</style>\n",
       "<table border=\"1\" class=\"dataframe\">\n",
       "  <thead>\n",
       "    <tr style=\"text-align: right;\">\n",
       "      <th></th>\n",
       "      <th>Score_Value</th>\n",
       "    </tr>\n",
       "  </thead>\n",
       "  <tbody>\n",
       "    <tr>\n",
       "      <th>0</th>\n",
       "      <td>6.052743</td>\n",
       "    </tr>\n",
       "    <tr>\n",
       "      <th>1</th>\n",
       "      <td>6.823568</td>\n",
       "    </tr>\n",
       "    <tr>\n",
       "      <th>2</th>\n",
       "      <td>1.521589</td>\n",
       "    </tr>\n",
       "    <tr>\n",
       "      <th>3</th>\n",
       "      <td>1.554511</td>\n",
       "    </tr>\n",
       "    <tr>\n",
       "      <th>4</th>\n",
       "      <td>6.307761</td>\n",
       "    </tr>\n",
       "    <tr>\n",
       "      <th>5</th>\n",
       "      <td>3.808043</td>\n",
       "    </tr>\n",
       "    <tr>\n",
       "      <th>6</th>\n",
       "      <td>15.966282</td>\n",
       "    </tr>\n",
       "    <tr>\n",
       "      <th>7</th>\n",
       "      <td>4.253360</td>\n",
       "    </tr>\n",
       "    <tr>\n",
       "      <th>8</th>\n",
       "      <td>5.107655</td>\n",
       "    </tr>\n",
       "    <tr>\n",
       "      <th>9</th>\n",
       "      <td>6.392526</td>\n",
       "    </tr>\n",
       "    <tr>\n",
       "      <th>10</th>\n",
       "      <td>5.829346</td>\n",
       "    </tr>\n",
       "    <tr>\n",
       "      <th>11</th>\n",
       "      <td>4.294203</td>\n",
       "    </tr>\n",
       "    <tr>\n",
       "      <th>12</th>\n",
       "      <td>4.233762</td>\n",
       "    </tr>\n",
       "  </tbody>\n",
       "</table>\n",
       "</div>"
      ],
      "text/plain": [
       "    Score_Value\n",
       "0      6.052743\n",
       "1      6.823568\n",
       "2      1.521589\n",
       "3      1.554511\n",
       "4      6.307761\n",
       "5      3.808043\n",
       "6     15.966282\n",
       "7      4.253360\n",
       "8      5.107655\n",
       "9      6.392526\n",
       "10     5.829346\n",
       "11     4.294203\n",
       "12     4.233762"
      ]
     },
     "execution_count": 29,
     "metadata": {},
     "output_type": "execute_result"
    }
   ],
   "source": [
    "score_col"
   ]
  },
  {
   "cell_type": "code",
   "execution_count": 30,
   "id": "b3ecd96c",
   "metadata": {},
   "outputs": [],
   "source": [
    "Name_col=pd.DataFrame(features.columns)"
   ]
  },
  {
   "cell_type": "code",
   "execution_count": 31,
   "id": "94144083",
   "metadata": {},
   "outputs": [],
   "source": [
    "top_features=pd.concat([Name_col,score_col],axis=1)"
   ]
  },
  {
   "cell_type": "code",
   "execution_count": 32,
   "id": "ef378fca",
   "metadata": {},
   "outputs": [],
   "source": [
    "top_features.columns=[\"Name\",\"Score Value\"]"
   ]
  },
  {
   "cell_type": "code",
   "execution_count": 33,
   "id": "da59529d",
   "metadata": {},
   "outputs": [
    {
     "data": {
      "text/html": [
       "<div>\n",
       "<style scoped>\n",
       "    .dataframe tbody tr th:only-of-type {\n",
       "        vertical-align: middle;\n",
       "    }\n",
       "\n",
       "    .dataframe tbody tr th {\n",
       "        vertical-align: top;\n",
       "    }\n",
       "\n",
       "    .dataframe thead th {\n",
       "        text-align: right;\n",
       "    }\n",
       "</style>\n",
       "<table border=\"1\" class=\"dataframe\">\n",
       "  <thead>\n",
       "    <tr style=\"text-align: right;\">\n",
       "      <th></th>\n",
       "      <th>Name</th>\n",
       "      <th>Score Value</th>\n",
       "    </tr>\n",
       "  </thead>\n",
       "  <tbody>\n",
       "    <tr>\n",
       "      <th>0</th>\n",
       "      <td>Age</td>\n",
       "      <td>6.052743</td>\n",
       "    </tr>\n",
       "    <tr>\n",
       "      <th>1</th>\n",
       "      <td>Gender</td>\n",
       "      <td>6.823568</td>\n",
       "    </tr>\n",
       "    <tr>\n",
       "      <th>2</th>\n",
       "      <td>About_Shopping</td>\n",
       "      <td>1.521589</td>\n",
       "    </tr>\n",
       "    <tr>\n",
       "      <th>3</th>\n",
       "      <td>Shopping_For</td>\n",
       "      <td>1.554511</td>\n",
       "    </tr>\n",
       "    <tr>\n",
       "      <th>4</th>\n",
       "      <td>Finding_For</td>\n",
       "      <td>6.307761</td>\n",
       "    </tr>\n",
       "    <tr>\n",
       "      <th>5</th>\n",
       "      <td>Visiting_Issue</td>\n",
       "      <td>3.808043</td>\n",
       "    </tr>\n",
       "    <tr>\n",
       "      <th>6</th>\n",
       "      <td>Compared_to_OS</td>\n",
       "      <td>15.966282</td>\n",
       "    </tr>\n",
       "    <tr>\n",
       "      <th>7</th>\n",
       "      <td>Find_ERP</td>\n",
       "      <td>4.253360</td>\n",
       "    </tr>\n",
       "    <tr>\n",
       "      <th>8</th>\n",
       "      <td>Payment_Complacency</td>\n",
       "      <td>5.107655</td>\n",
       "    </tr>\n",
       "    <tr>\n",
       "      <th>9</th>\n",
       "      <td>CheckOut_Experience</td>\n",
       "      <td>6.392526</td>\n",
       "    </tr>\n",
       "    <tr>\n",
       "      <th>10</th>\n",
       "      <td>Product_Receive_TimeLine</td>\n",
       "      <td>5.829346</td>\n",
       "    </tr>\n",
       "    <tr>\n",
       "      <th>11</th>\n",
       "      <td>Rider_Review</td>\n",
       "      <td>4.294203</td>\n",
       "    </tr>\n",
       "    <tr>\n",
       "      <th>12</th>\n",
       "      <td>CS_Experience</td>\n",
       "      <td>4.233762</td>\n",
       "    </tr>\n",
       "  </tbody>\n",
       "</table>\n",
       "</div>"
      ],
      "text/plain": [
       "                        Name  Score Value\n",
       "0                        Age     6.052743\n",
       "1                     Gender     6.823568\n",
       "2             About_Shopping     1.521589\n",
       "3               Shopping_For     1.554511\n",
       "4                Finding_For     6.307761\n",
       "5             Visiting_Issue     3.808043\n",
       "6             Compared_to_OS    15.966282\n",
       "7                   Find_ERP     4.253360\n",
       "8        Payment_Complacency     5.107655\n",
       "9        CheckOut_Experience     6.392526\n",
       "10  Product_Receive_TimeLine     5.829346\n",
       "11              Rider_Review     4.294203\n",
       "12             CS_Experience     4.233762"
      ]
     },
     "execution_count": 33,
     "metadata": {},
     "output_type": "execute_result"
    }
   ],
   "source": [
    "top_features"
   ]
  },
  {
   "cell_type": "code",
   "execution_count": 34,
   "id": "5b5e83b7",
   "metadata": {},
   "outputs": [
    {
     "data": {
      "text/html": [
       "<div>\n",
       "<style scoped>\n",
       "    .dataframe tbody tr th:only-of-type {\n",
       "        vertical-align: middle;\n",
       "    }\n",
       "\n",
       "    .dataframe tbody tr th {\n",
       "        vertical-align: top;\n",
       "    }\n",
       "\n",
       "    .dataframe thead th {\n",
       "        text-align: right;\n",
       "    }\n",
       "</style>\n",
       "<table border=\"1\" class=\"dataframe\">\n",
       "  <thead>\n",
       "    <tr style=\"text-align: right;\">\n",
       "      <th></th>\n",
       "      <th>Name</th>\n",
       "      <th>Score Value</th>\n",
       "    </tr>\n",
       "  </thead>\n",
       "  <tbody>\n",
       "    <tr>\n",
       "      <th>6</th>\n",
       "      <td>Compared_to_OS</td>\n",
       "      <td>15.966282</td>\n",
       "    </tr>\n",
       "    <tr>\n",
       "      <th>1</th>\n",
       "      <td>Gender</td>\n",
       "      <td>6.823568</td>\n",
       "    </tr>\n",
       "    <tr>\n",
       "      <th>9</th>\n",
       "      <td>CheckOut_Experience</td>\n",
       "      <td>6.392526</td>\n",
       "    </tr>\n",
       "    <tr>\n",
       "      <th>4</th>\n",
       "      <td>Finding_For</td>\n",
       "      <td>6.307761</td>\n",
       "    </tr>\n",
       "    <tr>\n",
       "      <th>0</th>\n",
       "      <td>Age</td>\n",
       "      <td>6.052743</td>\n",
       "    </tr>\n",
       "    <tr>\n",
       "      <th>10</th>\n",
       "      <td>Product_Receive_TimeLine</td>\n",
       "      <td>5.829346</td>\n",
       "    </tr>\n",
       "    <tr>\n",
       "      <th>8</th>\n",
       "      <td>Payment_Complacency</td>\n",
       "      <td>5.107655</td>\n",
       "    </tr>\n",
       "    <tr>\n",
       "      <th>11</th>\n",
       "      <td>Rider_Review</td>\n",
       "      <td>4.294203</td>\n",
       "    </tr>\n",
       "  </tbody>\n",
       "</table>\n",
       "</div>"
      ],
      "text/plain": [
       "                        Name  Score Value\n",
       "6             Compared_to_OS    15.966282\n",
       "1                     Gender     6.823568\n",
       "9        CheckOut_Experience     6.392526\n",
       "4                Finding_For     6.307761\n",
       "0                        Age     6.052743\n",
       "10  Product_Receive_TimeLine     5.829346\n",
       "8        Payment_Complacency     5.107655\n",
       "11              Rider_Review     4.294203"
      ]
     },
     "execution_count": 34,
     "metadata": {},
     "output_type": "execute_result"
    }
   ],
   "source": [
    "top_features.nlargest(8,\"Score Value\")"
   ]
  },
  {
   "cell_type": "markdown",
   "id": "8701152c",
   "metadata": {},
   "source": [
    "# Dropping Less Importants Column"
   ]
  },
  {
   "cell_type": "code",
   "execution_count": 35,
   "id": "98fe8763",
   "metadata": {},
   "outputs": [],
   "source": [
    "top_features=features.drop([\"Rider_Review\",\"Payment_Complacency\",\"Product_Receive_TimeLine\"],axis=1)"
   ]
  },
  {
   "cell_type": "code",
   "execution_count": 36,
   "id": "586d7026",
   "metadata": {},
   "outputs": [
    {
     "data": {
      "text/html": [
       "<div>\n",
       "<style scoped>\n",
       "    .dataframe tbody tr th:only-of-type {\n",
       "        vertical-align: middle;\n",
       "    }\n",
       "\n",
       "    .dataframe tbody tr th {\n",
       "        vertical-align: top;\n",
       "    }\n",
       "\n",
       "    .dataframe thead th {\n",
       "        text-align: right;\n",
       "    }\n",
       "</style>\n",
       "<table border=\"1\" class=\"dataframe\">\n",
       "  <thead>\n",
       "    <tr style=\"text-align: right;\">\n",
       "      <th></th>\n",
       "      <th>Age</th>\n",
       "      <th>Gender</th>\n",
       "      <th>About_Shopping</th>\n",
       "      <th>Shopping_For</th>\n",
       "      <th>Finding_For</th>\n",
       "      <th>Visiting_Issue</th>\n",
       "      <th>Compared_to_OS</th>\n",
       "      <th>Find_ERP</th>\n",
       "      <th>CheckOut_Experience</th>\n",
       "      <th>CS_Experience</th>\n",
       "    </tr>\n",
       "  </thead>\n",
       "  <tbody>\n",
       "    <tr>\n",
       "      <th>0</th>\n",
       "      <td>13</td>\n",
       "      <td>1</td>\n",
       "      <td>1</td>\n",
       "      <td>2</td>\n",
       "      <td>2</td>\n",
       "      <td>4</td>\n",
       "      <td>3</td>\n",
       "      <td>2</td>\n",
       "      <td>2</td>\n",
       "      <td>2</td>\n",
       "    </tr>\n",
       "    <tr>\n",
       "      <th>1</th>\n",
       "      <td>10</td>\n",
       "      <td>0</td>\n",
       "      <td>4</td>\n",
       "      <td>2</td>\n",
       "      <td>2</td>\n",
       "      <td>4</td>\n",
       "      <td>7</td>\n",
       "      <td>2</td>\n",
       "      <td>2</td>\n",
       "      <td>4</td>\n",
       "    </tr>\n",
       "    <tr>\n",
       "      <th>2</th>\n",
       "      <td>11</td>\n",
       "      <td>1</td>\n",
       "      <td>4</td>\n",
       "      <td>4</td>\n",
       "      <td>0</td>\n",
       "      <td>0</td>\n",
       "      <td>1</td>\n",
       "      <td>2</td>\n",
       "      <td>0</td>\n",
       "      <td>0</td>\n",
       "    </tr>\n",
       "    <tr>\n",
       "      <th>3</th>\n",
       "      <td>9</td>\n",
       "      <td>0</td>\n",
       "      <td>4</td>\n",
       "      <td>2</td>\n",
       "      <td>2</td>\n",
       "      <td>1</td>\n",
       "      <td>7</td>\n",
       "      <td>2</td>\n",
       "      <td>4</td>\n",
       "      <td>4</td>\n",
       "    </tr>\n",
       "    <tr>\n",
       "      <th>4</th>\n",
       "      <td>12</td>\n",
       "      <td>0</td>\n",
       "      <td>0</td>\n",
       "      <td>5</td>\n",
       "      <td>2</td>\n",
       "      <td>1</td>\n",
       "      <td>7</td>\n",
       "      <td>2</td>\n",
       "      <td>4</td>\n",
       "      <td>4</td>\n",
       "    </tr>\n",
       "    <tr>\n",
       "      <th>...</th>\n",
       "      <td>...</td>\n",
       "      <td>...</td>\n",
       "      <td>...</td>\n",
       "      <td>...</td>\n",
       "      <td>...</td>\n",
       "      <td>...</td>\n",
       "      <td>...</td>\n",
       "      <td>...</td>\n",
       "      <td>...</td>\n",
       "      <td>...</td>\n",
       "    </tr>\n",
       "    <tr>\n",
       "      <th>977</th>\n",
       "      <td>8</td>\n",
       "      <td>0</td>\n",
       "      <td>3</td>\n",
       "      <td>0</td>\n",
       "      <td>2</td>\n",
       "      <td>2</td>\n",
       "      <td>2</td>\n",
       "      <td>0</td>\n",
       "      <td>4</td>\n",
       "      <td>3</td>\n",
       "    </tr>\n",
       "    <tr>\n",
       "      <th>978</th>\n",
       "      <td>18</td>\n",
       "      <td>0</td>\n",
       "      <td>2</td>\n",
       "      <td>1</td>\n",
       "      <td>0</td>\n",
       "      <td>0</td>\n",
       "      <td>4</td>\n",
       "      <td>2</td>\n",
       "      <td>4</td>\n",
       "      <td>3</td>\n",
       "    </tr>\n",
       "    <tr>\n",
       "      <th>979</th>\n",
       "      <td>22</td>\n",
       "      <td>1</td>\n",
       "      <td>1</td>\n",
       "      <td>5</td>\n",
       "      <td>2</td>\n",
       "      <td>3</td>\n",
       "      <td>5</td>\n",
       "      <td>2</td>\n",
       "      <td>3</td>\n",
       "      <td>3</td>\n",
       "    </tr>\n",
       "    <tr>\n",
       "      <th>980</th>\n",
       "      <td>11</td>\n",
       "      <td>0</td>\n",
       "      <td>5</td>\n",
       "      <td>2</td>\n",
       "      <td>0</td>\n",
       "      <td>1</td>\n",
       "      <td>3</td>\n",
       "      <td>0</td>\n",
       "      <td>2</td>\n",
       "      <td>1</td>\n",
       "    </tr>\n",
       "    <tr>\n",
       "      <th>981</th>\n",
       "      <td>16</td>\n",
       "      <td>0</td>\n",
       "      <td>4</td>\n",
       "      <td>2</td>\n",
       "      <td>0</td>\n",
       "      <td>3</td>\n",
       "      <td>0</td>\n",
       "      <td>2</td>\n",
       "      <td>1</td>\n",
       "      <td>4</td>\n",
       "    </tr>\n",
       "  </tbody>\n",
       "</table>\n",
       "<p>982 rows × 10 columns</p>\n",
       "</div>"
      ],
      "text/plain": [
       "     Age  Gender  About_Shopping  Shopping_For  Finding_For  Visiting_Issue  \\\n",
       "0     13       1               1             2            2               4   \n",
       "1     10       0               4             2            2               4   \n",
       "2     11       1               4             4            0               0   \n",
       "3      9       0               4             2            2               1   \n",
       "4     12       0               0             5            2               1   \n",
       "..   ...     ...             ...           ...          ...             ...   \n",
       "977    8       0               3             0            2               2   \n",
       "978   18       0               2             1            0               0   \n",
       "979   22       1               1             5            2               3   \n",
       "980   11       0               5             2            0               1   \n",
       "981   16       0               4             2            0               3   \n",
       "\n",
       "     Compared_to_OS  Find_ERP  CheckOut_Experience  CS_Experience  \n",
       "0                 3         2                    2              2  \n",
       "1                 7         2                    2              4  \n",
       "2                 1         2                    0              0  \n",
       "3                 7         2                    4              4  \n",
       "4                 7         2                    4              4  \n",
       "..              ...       ...                  ...            ...  \n",
       "977               2         0                    4              3  \n",
       "978               4         2                    4              3  \n",
       "979               5         2                    3              3  \n",
       "980               3         0                    2              1  \n",
       "981               0         2                    1              4  \n",
       "\n",
       "[982 rows x 10 columns]"
      ]
     },
     "execution_count": 36,
     "metadata": {},
     "output_type": "execute_result"
    }
   ],
   "source": [
    "top_features"
   ]
  },
  {
   "cell_type": "code",
   "execution_count": 37,
   "id": "36b7f5e2",
   "metadata": {},
   "outputs": [],
   "source": [
    "# top_features.head()"
   ]
  },
  {
   "cell_type": "code",
   "execution_count": 38,
   "id": "427d4570",
   "metadata": {},
   "outputs": [],
   "source": [
    "accuracy=[]\n",
    "f1=[]\n",
    "model=[]"
   ]
  },
  {
   "cell_type": "code",
   "execution_count": 39,
   "id": "feecd60c",
   "metadata": {},
   "outputs": [],
   "source": [
    "xtrain,xtest,ytrain,ytest=train_test_split(top_features,target,test_size=0.2,random_state=8)"
   ]
  },
  {
   "cell_type": "markdown",
   "id": "fc9db2be",
   "metadata": {},
   "source": [
    "# Support Vector Machine"
   ]
  },
  {
   "cell_type": "code",
   "execution_count": 40,
   "id": "89729bb4",
   "metadata": {},
   "outputs": [],
   "source": [
    "svc=SVC()\n",
    "svc.fit(xtrain,ytrain)\n",
    "testpredict=svc.predict(xtest)\n",
    "accuracy.append(np.round(accuracy_score(ytest,testpredict),2))\n",
    "f1.append(np.round(f1_score(ytest,testpredict,average='weighted'),2))\n",
    "model.append('Support Vector Machine')"
   ]
  },
  {
   "cell_type": "markdown",
   "id": "16fd33b3",
   "metadata": {},
   "source": [
    "# K-Neighbors Classifier"
   ]
  },
  {
   "cell_type": "code",
   "execution_count": 41,
   "id": "e1ba11c7",
   "metadata": {},
   "outputs": [],
   "source": [
    "KNN = KNeighborsClassifier(n_neighbors = 9)\n",
    "KNN.fit(xtrain, ytrain)\n",
    "testpredict = KNN.predict(xtest)\n",
    "accuracy.append(np.round(accuracy_score(ytest,testpredict),2))\n",
    "f1.append(np.round(f1_score(ytest,testpredict,average='weighted'),2))\n",
    "model.append('K-Neighbors Classifier')"
   ]
  },
  {
   "cell_type": "markdown",
   "id": "0ceaacad",
   "metadata": {},
   "source": [
    "# Gaussian Naive Bayes"
   ]
  },
  {
   "cell_type": "code",
   "execution_count": 42,
   "id": "23c6a00c",
   "metadata": {},
   "outputs": [],
   "source": [
    "GNB = GaussianNB()\n",
    "GNB.fit(xtrain, ytrain)\n",
    "testpredict = GNB.predict(xtest)\n",
    "\n",
    "accuracy.append(np.round(accuracy_score(ytest,testpredict),2))\n",
    "f1.append(np.round(f1_score(ytest,testpredict,average='weighted'),2))\n",
    "model.append('Gaussian Naive Bayes')\n"
   ]
  },
  {
   "cell_type": "markdown",
   "id": "38122bd2",
   "metadata": {},
   "source": [
    "# Decision Tree Classifier"
   ]
  },
  {
   "cell_type": "code",
   "execution_count": 43,
   "id": "3d0785ae",
   "metadata": {},
   "outputs": [],
   "source": [
    "dst=tree.DecisionTreeClassifier(criterion='entropy')\n",
    "dst.fit(xtrain,ytrain)\n",
    "testpredict=dst.predict(xtest)\n",
    "accuracy.append(np.round(accuracy_score(ytest,testpredict),2))\n",
    "f1.append(np.round(f1_score(ytest,testpredict,average='weighted'),2))\n",
    "model.append('Decision Tree Classifier')"
   ]
  },
  {
   "cell_type": "markdown",
   "id": "47b98eee",
   "metadata": {},
   "source": [
    "# Random Forest Classifier"
   ]
  },
  {
   "cell_type": "code",
   "execution_count": 44,
   "id": "07d973ab",
   "metadata": {},
   "outputs": [],
   "source": [
    "rfc=RandomForestClassifier(n_estimators=100)\n",
    "rfc.fit(xtrain,ytrain)\n",
    "testpredict=rfc.predict(xtest)\n",
    "accuracy.append(np.round(accuracy_score(ytest,testpredict),2))\n",
    "f1.append(np.round(f1_score(ytest,testpredict,average='weighted'),2))\n",
    "model.append('Random Forest')"
   ]
  },
  {
   "cell_type": "code",
   "execution_count": 45,
   "id": "86eb3cc8",
   "metadata": {},
   "outputs": [],
   "source": [
    "output=pd.DataFrame({'Model':model,\n",
    "                    'Accuracy':accuracy,\n",
    "                    'F1 score':f1})"
   ]
  },
  {
   "cell_type": "code",
   "execution_count": 46,
   "id": "769675e6",
   "metadata": {},
   "outputs": [
    {
     "data": {
      "text/html": [
       "<div>\n",
       "<style scoped>\n",
       "    .dataframe tbody tr th:only-of-type {\n",
       "        vertical-align: middle;\n",
       "    }\n",
       "\n",
       "    .dataframe tbody tr th {\n",
       "        vertical-align: top;\n",
       "    }\n",
       "\n",
       "    .dataframe thead th {\n",
       "        text-align: right;\n",
       "    }\n",
       "</style>\n",
       "<table border=\"1\" class=\"dataframe\">\n",
       "  <thead>\n",
       "    <tr style=\"text-align: right;\">\n",
       "      <th></th>\n",
       "      <th>Model</th>\n",
       "      <th>Accuracy</th>\n",
       "      <th>F1 score</th>\n",
       "    </tr>\n",
       "  </thead>\n",
       "  <tbody>\n",
       "    <tr>\n",
       "      <th>0</th>\n",
       "      <td>Support Vector Machine</td>\n",
       "      <td>0.38</td>\n",
       "      <td>0.24</td>\n",
       "    </tr>\n",
       "    <tr>\n",
       "      <th>1</th>\n",
       "      <td>K-Neighbors Classifier</td>\n",
       "      <td>0.39</td>\n",
       "      <td>0.37</td>\n",
       "    </tr>\n",
       "    <tr>\n",
       "      <th>2</th>\n",
       "      <td>Gaussian Naive Bayes</td>\n",
       "      <td>0.44</td>\n",
       "      <td>0.40</td>\n",
       "    </tr>\n",
       "    <tr>\n",
       "      <th>3</th>\n",
       "      <td>Decision Tree Classifier</td>\n",
       "      <td>0.33</td>\n",
       "      <td>0.33</td>\n",
       "    </tr>\n",
       "    <tr>\n",
       "      <th>4</th>\n",
       "      <td>Random Forest</td>\n",
       "      <td>0.40</td>\n",
       "      <td>0.36</td>\n",
       "    </tr>\n",
       "  </tbody>\n",
       "</table>\n",
       "</div>"
      ],
      "text/plain": [
       "                      Model  Accuracy  F1 score\n",
       "0    Support Vector Machine      0.38      0.24\n",
       "1    K-Neighbors Classifier      0.39      0.37\n",
       "2      Gaussian Naive Bayes      0.44      0.40\n",
       "3  Decision Tree Classifier      0.33      0.33\n",
       "4             Random Forest      0.40      0.36"
      ]
     },
     "execution_count": 46,
     "metadata": {},
     "output_type": "execute_result"
    }
   ],
   "source": [
    "output"
   ]
  },
  {
   "cell_type": "code",
   "execution_count": null,
   "id": "f105ca06",
   "metadata": {},
   "outputs": [],
   "source": []
  }
 ],
 "metadata": {
  "kernelspec": {
   "display_name": "Python 3 (ipykernel)",
   "language": "python",
   "name": "python3"
  },
  "language_info": {
   "codemirror_mode": {
    "name": "ipython",
    "version": 3
   },
   "file_extension": ".py",
   "mimetype": "text/x-python",
   "name": "python",
   "nbconvert_exporter": "python",
   "pygments_lexer": "ipython3",
   "version": "3.9.12"
  }
 },
 "nbformat": 4,
 "nbformat_minor": 5
}
