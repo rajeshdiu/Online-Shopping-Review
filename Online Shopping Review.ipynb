{
 "cells": [
  {
   "cell_type": "code",
   "execution_count": 244,
   "id": "78f19ae7",
   "metadata": {},
   "outputs": [],
   "source": [
    "import pandas as pd\n",
    "import numpy as np\n",
    "import matplotlib.pyplot as plt \n",
    "import seaborn as sns\n",
    "from sklearn.model_selection import train_test_split\n",
    "from sklearn.naive_bayes import MultinomialNB\n",
    "from sklearn.ensemble import RandomForestClassifier\n",
    "from sklearn.linear_model import LogisticRegression\n",
    "from sklearn.metrics import accuracy_score\n",
    "from sklearn.preprocessing import LabelEncoder\n",
    "from sklearn.metrics import accuracy_score,classification_report,confusion_matrix,precision_score,recall_score,f1_score\n",
    "from sklearn.tree import DecisionTreeClassifier\n",
    "from sklearn.ensemble import RandomForestClassifier\n",
    "from sklearn.svm import SVC\n",
    "from sklearn import tree\n",
    "import plotly.offline as py\n",
    "from sklearn.neighbors import KNeighborsClassifier\n",
    "import warnings\n",
    "from sklearn.naive_bayes import GaussianNB"
   ]
  },
  {
   "cell_type": "code",
   "execution_count": 120,
   "id": "bf877ed7",
   "metadata": {},
   "outputs": [],
   "source": [
    "df=pd.read_csv(\"C:\\\\Users\\\\User\\\\Desktop\\\\Data Science\\\\Research Work\\\\MyProject\\\\Online-Shopping-Review\\\\Dataset\\\\Online Shopping Review.csv\")"
   ]
  },
  {
   "cell_type": "markdown",
   "id": "4e4cb2c2",
   "metadata": {},
   "source": [
    "# Rename The Column Names"
   ]
  },
  {
   "cell_type": "code",
   "execution_count": 121,
   "id": "9522cd3f",
   "metadata": {},
   "outputs": [],
   "source": [
    "my_cols=[\"Time\",\"Name\",\"Age\",\"Gender\",\"About Shopping\",\"Shopping For\",\"Finding For\",\n",
    "         \"Visiting Issue\",\"Compared to OS\",\"Complacency\",\"Find ERP\",\"Payment Complacency\",\n",
    "         \"CheckOut Experience\",\"Product Receive TimeLine\",\"Rider Review\",\"CS Experience\"]"
   ]
  },
  {
   "cell_type": "code",
   "execution_count": 122,
   "id": "d9f0a78e",
   "metadata": {},
   "outputs": [],
   "source": [
    "df.columns=my_cols"
   ]
  },
  {
   "cell_type": "code",
   "execution_count": 123,
   "id": "91c2e964",
   "metadata": {},
   "outputs": [
    {
     "data": {
      "text/plain": [
       "['Time',\n",
       " 'Name',\n",
       " 'Age',\n",
       " 'Gender',\n",
       " 'About_Shopping',\n",
       " 'Shopping_For',\n",
       " 'Finding_For',\n",
       " 'Visiting_Issue',\n",
       " 'Compared_to_OS',\n",
       " 'Complacency',\n",
       " 'Find_ERP',\n",
       " 'Payment_Complacency',\n",
       " 'CheckOut_Experience',\n",
       " 'Product_Receive_TimeLine',\n",
       " 'Rider_Review',\n",
       " 'CS_Experience']"
      ]
     },
     "execution_count": 123,
     "metadata": {},
     "output_type": "execute_result"
    }
   ],
   "source": [
    "#Using ' ' to replace the column names\n",
    "columns= list(df.columns)\n",
    "adder = \"\"\n",
    "new_columns =[]\n",
    "for each_column in columns:\n",
    "    for letter in each_column:\n",
    "        if letter==\" \":\n",
    "            adder = adder + \"_\"\n",
    "        else:\n",
    "            adder = adder + letter\n",
    "    new_columns.append(adder)\n",
    "    adder=\"\"\n",
    "new_columns"
   ]
  },
  {
   "cell_type": "code",
   "execution_count": 124,
   "id": "ea19b77f",
   "metadata": {},
   "outputs": [],
   "source": [
    "df.columns=new_columns"
   ]
  },
  {
   "cell_type": "code",
   "execution_count": 125,
   "id": "e7e2e2e7",
   "metadata": {},
   "outputs": [
    {
     "data": {
      "text/html": [
       "<div>\n",
       "<style scoped>\n",
       "    .dataframe tbody tr th:only-of-type {\n",
       "        vertical-align: middle;\n",
       "    }\n",
       "\n",
       "    .dataframe tbody tr th {\n",
       "        vertical-align: top;\n",
       "    }\n",
       "\n",
       "    .dataframe thead th {\n",
       "        text-align: right;\n",
       "    }\n",
       "</style>\n",
       "<table border=\"1\" class=\"dataframe\">\n",
       "  <thead>\n",
       "    <tr style=\"text-align: right;\">\n",
       "      <th></th>\n",
       "      <th>Time</th>\n",
       "      <th>Name</th>\n",
       "      <th>Age</th>\n",
       "      <th>Gender</th>\n",
       "      <th>About_Shopping</th>\n",
       "      <th>Shopping_For</th>\n",
       "      <th>Finding_For</th>\n",
       "      <th>Visiting_Issue</th>\n",
       "      <th>Compared_to_OS</th>\n",
       "      <th>Complacency</th>\n",
       "      <th>Find_ERP</th>\n",
       "      <th>Payment_Complacency</th>\n",
       "      <th>CheckOut_Experience</th>\n",
       "      <th>Product_Receive_TimeLine</th>\n",
       "      <th>Rider_Review</th>\n",
       "      <th>CS_Experience</th>\n",
       "    </tr>\n",
       "  </thead>\n",
       "  <tbody>\n",
       "    <tr>\n",
       "      <th>0</th>\n",
       "      <td>6/17/2022 0:46:08</td>\n",
       "      <td>Rajesh Das</td>\n",
       "      <td>25</td>\n",
       "      <td>Male</td>\n",
       "      <td>Newspaper</td>\n",
       "      <td>Friend</td>\n",
       "      <td>Yes</td>\n",
       "      <td>Product Information</td>\n",
       "      <td>Pricing</td>\n",
       "      <td>Neutral</td>\n",
       "      <td>Yes</td>\n",
       "      <td>Very Safe</td>\n",
       "      <td>3</td>\n",
       "      <td>No</td>\n",
       "      <td>2</td>\n",
       "      <td>3</td>\n",
       "    </tr>\n",
       "    <tr>\n",
       "      <th>1</th>\n",
       "      <td>6/17/2022 1:55:47</td>\n",
       "      <td>Radhika</td>\n",
       "      <td>22</td>\n",
       "      <td>Female</td>\n",
       "      <td>Social Media</td>\n",
       "      <td>Friend</td>\n",
       "      <td>Yes</td>\n",
       "      <td>Product Information</td>\n",
       "      <td>Website performance</td>\n",
       "      <td>Very satisfied</td>\n",
       "      <td>Yes</td>\n",
       "      <td>Safe</td>\n",
       "      <td>3</td>\n",
       "      <td>Yes</td>\n",
       "      <td>5</td>\n",
       "      <td>5</td>\n",
       "    </tr>\n",
       "    <tr>\n",
       "      <th>2</th>\n",
       "      <td>6/17/2022 1:52:21</td>\n",
       "      <td>Sourav Pathok</td>\n",
       "      <td>23</td>\n",
       "      <td>Male</td>\n",
       "      <td>Social Media</td>\n",
       "      <td>Other</td>\n",
       "      <td>Maybe</td>\n",
       "      <td>About Company</td>\n",
       "      <td>Overall</td>\n",
       "      <td>Satisfied</td>\n",
       "      <td>Yes</td>\n",
       "      <td>Safe</td>\n",
       "      <td>1</td>\n",
       "      <td>Yes</td>\n",
       "      <td>1</td>\n",
       "      <td>1</td>\n",
       "    </tr>\n",
       "    <tr>\n",
       "      <th>3</th>\n",
       "      <td>6/17/2022 1:57:38</td>\n",
       "      <td>Ritu</td>\n",
       "      <td>21</td>\n",
       "      <td>Female</td>\n",
       "      <td>Social Media</td>\n",
       "      <td>Friend</td>\n",
       "      <td>Yes</td>\n",
       "      <td>Buying Products</td>\n",
       "      <td>Website performance</td>\n",
       "      <td>Very satisfied</td>\n",
       "      <td>Yes</td>\n",
       "      <td>Safe</td>\n",
       "      <td>5</td>\n",
       "      <td>Yes</td>\n",
       "      <td>5</td>\n",
       "      <td>5</td>\n",
       "    </tr>\n",
       "    <tr>\n",
       "      <th>4</th>\n",
       "      <td>6/17/2022 2:01:02</td>\n",
       "      <td>Nandini</td>\n",
       "      <td>24</td>\n",
       "      <td>Female</td>\n",
       "      <td>Friend</td>\n",
       "      <td>Parent</td>\n",
       "      <td>Yes</td>\n",
       "      <td>Buying Products</td>\n",
       "      <td>Website performance</td>\n",
       "      <td>Very satisfied</td>\n",
       "      <td>Yes</td>\n",
       "      <td>Safe</td>\n",
       "      <td>5</td>\n",
       "      <td>Yes</td>\n",
       "      <td>5</td>\n",
       "      <td>5</td>\n",
       "    </tr>\n",
       "    <tr>\n",
       "      <th>...</th>\n",
       "      <td>...</td>\n",
       "      <td>...</td>\n",
       "      <td>...</td>\n",
       "      <td>...</td>\n",
       "      <td>...</td>\n",
       "      <td>...</td>\n",
       "      <td>...</td>\n",
       "      <td>...</td>\n",
       "      <td>...</td>\n",
       "      <td>...</td>\n",
       "      <td>...</td>\n",
       "      <td>...</td>\n",
       "      <td>...</td>\n",
       "      <td>...</td>\n",
       "      <td>...</td>\n",
       "      <td>...</td>\n",
       "    </tr>\n",
       "    <tr>\n",
       "      <th>795</th>\n",
       "      <td>6/23/2022 18:30:34</td>\n",
       "      <td>Raisa Rayyan</td>\n",
       "      <td>23</td>\n",
       "      <td>Female</td>\n",
       "      <td>Newspaper</td>\n",
       "      <td>Boss</td>\n",
       "      <td>Maybe</td>\n",
       "      <td>Buying Products</td>\n",
       "      <td>Pricing</td>\n",
       "      <td>Neutral</td>\n",
       "      <td>Yes</td>\n",
       "      <td>Neutral</td>\n",
       "      <td>5</td>\n",
       "      <td>No</td>\n",
       "      <td>5</td>\n",
       "      <td>4</td>\n",
       "    </tr>\n",
       "    <tr>\n",
       "      <th>796</th>\n",
       "      <td>6/23/2022 18:31:13</td>\n",
       "      <td>Rijvi Akter</td>\n",
       "      <td>27</td>\n",
       "      <td>Female</td>\n",
       "      <td>Friend</td>\n",
       "      <td>Colleague</td>\n",
       "      <td>No</td>\n",
       "      <td>Other</td>\n",
       "      <td>Online help</td>\n",
       "      <td>Satisfied</td>\n",
       "      <td>No</td>\n",
       "      <td>Not Safe</td>\n",
       "      <td>5</td>\n",
       "      <td>No</td>\n",
       "      <td>5</td>\n",
       "      <td>5</td>\n",
       "    </tr>\n",
       "    <tr>\n",
       "      <th>797</th>\n",
       "      <td>6/23/2022 18:31:49</td>\n",
       "      <td>Tanisa Santa</td>\n",
       "      <td>37</td>\n",
       "      <td>Female</td>\n",
       "      <td>Newspaper</td>\n",
       "      <td>Me</td>\n",
       "      <td>No</td>\n",
       "      <td>Buying Products</td>\n",
       "      <td>Overall</td>\n",
       "      <td>Very dissatisfied</td>\n",
       "      <td>No</td>\n",
       "      <td>Neutral</td>\n",
       "      <td>5</td>\n",
       "      <td>Maybe</td>\n",
       "      <td>5</td>\n",
       "      <td>5</td>\n",
       "    </tr>\n",
       "    <tr>\n",
       "      <th>798</th>\n",
       "      <td>6/23/2022 18:32:31</td>\n",
       "      <td>Fariya Ahmed</td>\n",
       "      <td>26</td>\n",
       "      <td>Female</td>\n",
       "      <td>Search Engine</td>\n",
       "      <td>Boss</td>\n",
       "      <td>No</td>\n",
       "      <td>Other</td>\n",
       "      <td>Shipping options</td>\n",
       "      <td>Satisfied</td>\n",
       "      <td>No</td>\n",
       "      <td>Safe</td>\n",
       "      <td>5</td>\n",
       "      <td>Yes</td>\n",
       "      <td>5</td>\n",
       "      <td>5</td>\n",
       "    </tr>\n",
       "    <tr>\n",
       "      <th>799</th>\n",
       "      <td>6/23/2022 18:33:07</td>\n",
       "      <td>Irin Pinky</td>\n",
       "      <td>40</td>\n",
       "      <td>Female</td>\n",
       "      <td>Social Media</td>\n",
       "      <td>Boss</td>\n",
       "      <td>Maybe</td>\n",
       "      <td>Buying Products</td>\n",
       "      <td>Payment experience</td>\n",
       "      <td>Satisfied</td>\n",
       "      <td>Maybe</td>\n",
       "      <td>Safe</td>\n",
       "      <td>5</td>\n",
       "      <td>No</td>\n",
       "      <td>5</td>\n",
       "      <td>5</td>\n",
       "    </tr>\n",
       "  </tbody>\n",
       "</table>\n",
       "<p>800 rows × 16 columns</p>\n",
       "</div>"
      ],
      "text/plain": [
       "                   Time           Name  Age  Gender About_Shopping  \\\n",
       "0     6/17/2022 0:46:08     Rajesh Das   25    Male      Newspaper   \n",
       "1     6/17/2022 1:55:47        Radhika   22  Female   Social Media   \n",
       "2     6/17/2022 1:52:21  Sourav Pathok   23    Male   Social Media   \n",
       "3     6/17/2022 1:57:38           Ritu   21  Female   Social Media   \n",
       "4     6/17/2022 2:01:02       Nandini    24  Female         Friend   \n",
       "..                  ...            ...  ...     ...            ...   \n",
       "795  6/23/2022 18:30:34   Raisa Rayyan   23  Female      Newspaper   \n",
       "796  6/23/2022 18:31:13    Rijvi Akter   27  Female         Friend   \n",
       "797  6/23/2022 18:31:49   Tanisa Santa   37  Female      Newspaper   \n",
       "798  6/23/2022 18:32:31  Fariya Ahmed    26  Female  Search Engine   \n",
       "799  6/23/2022 18:33:07     Irin Pinky   40  Female   Social Media   \n",
       "\n",
       "    Shopping_For Finding_For       Visiting_Issue       Compared_to_OS  \\\n",
       "0         Friend         Yes  Product Information              Pricing   \n",
       "1         Friend         Yes  Product Information  Website performance   \n",
       "2          Other       Maybe        About Company              Overall   \n",
       "3         Friend         Yes      Buying Products  Website performance   \n",
       "4         Parent         Yes      Buying Products  Website performance   \n",
       "..           ...         ...                  ...                  ...   \n",
       "795         Boss       Maybe      Buying Products              Pricing   \n",
       "796    Colleague          No                Other          Online help   \n",
       "797           Me          No      Buying Products              Overall   \n",
       "798         Boss          No                Other     Shipping options   \n",
       "799         Boss       Maybe      Buying Products   Payment experience   \n",
       "\n",
       "           Complacency Find_ERP Payment_Complacency  CheckOut_Experience  \\\n",
       "0              Neutral      Yes           Very Safe                    3   \n",
       "1       Very satisfied      Yes                Safe                    3   \n",
       "2            Satisfied      Yes                Safe                    1   \n",
       "3       Very satisfied      Yes                Safe                    5   \n",
       "4       Very satisfied      Yes                Safe                    5   \n",
       "..                 ...      ...                 ...                  ...   \n",
       "795            Neutral      Yes             Neutral                    5   \n",
       "796          Satisfied       No            Not Safe                    5   \n",
       "797  Very dissatisfied       No             Neutral                    5   \n",
       "798          Satisfied       No                Safe                    5   \n",
       "799          Satisfied    Maybe                Safe                    5   \n",
       "\n",
       "    Product_Receive_TimeLine  Rider_Review  CS_Experience  \n",
       "0                         No             2              3  \n",
       "1                        Yes             5              5  \n",
       "2                        Yes             1              1  \n",
       "3                        Yes             5              5  \n",
       "4                        Yes             5              5  \n",
       "..                       ...           ...            ...  \n",
       "795                       No             5              4  \n",
       "796                       No             5              5  \n",
       "797                    Maybe             5              5  \n",
       "798                      Yes             5              5  \n",
       "799                       No             5              5  \n",
       "\n",
       "[800 rows x 16 columns]"
      ]
     },
     "execution_count": 125,
     "metadata": {},
     "output_type": "execute_result"
    }
   ],
   "source": [
    "df"
   ]
  },
  {
   "cell_type": "code",
   "execution_count": 126,
   "id": "6467e9b5",
   "metadata": {},
   "outputs": [
    {
     "data": {
      "text/plain": [
       "(800, 16)"
      ]
     },
     "execution_count": 126,
     "metadata": {},
     "output_type": "execute_result"
    }
   ],
   "source": [
    "df.shape"
   ]
  },
  {
   "cell_type": "markdown",
   "id": "6a9136ab",
   "metadata": {},
   "source": [
    "# Drop  Unnecessary Columns"
   ]
  },
  {
   "cell_type": "code",
   "execution_count": 127,
   "id": "f291d149",
   "metadata": {},
   "outputs": [],
   "source": [
    "df1=df.drop([\"Time\",\"Name\"],axis=1)"
   ]
  },
  {
   "cell_type": "code",
   "execution_count": 128,
   "id": "067e0caa",
   "metadata": {},
   "outputs": [
    {
     "data": {
      "text/plain": [
       "(800, 14)"
      ]
     },
     "execution_count": 128,
     "metadata": {},
     "output_type": "execute_result"
    }
   ],
   "source": [
    "df1.shape"
   ]
  },
  {
   "cell_type": "code",
   "execution_count": 129,
   "id": "f807cf1a",
   "metadata": {},
   "outputs": [
    {
     "name": "stdout",
     "output_type": "stream",
     "text": [
      "<class 'pandas.core.frame.DataFrame'>\n",
      "RangeIndex: 800 entries, 0 to 799\n",
      "Data columns (total 14 columns):\n",
      " #   Column                    Non-Null Count  Dtype \n",
      "---  ------                    --------------  ----- \n",
      " 0   Age                       800 non-null    int64 \n",
      " 1   Gender                    800 non-null    object\n",
      " 2   About_Shopping            800 non-null    object\n",
      " 3   Shopping_For              800 non-null    object\n",
      " 4   Finding_For               800 non-null    object\n",
      " 5   Visiting_Issue            800 non-null    object\n",
      " 6   Compared_to_OS            800 non-null    object\n",
      " 7   Complacency               800 non-null    object\n",
      " 8   Find_ERP                  800 non-null    object\n",
      " 9   Payment_Complacency       800 non-null    object\n",
      " 10  CheckOut_Experience       800 non-null    int64 \n",
      " 11  Product_Receive_TimeLine  800 non-null    object\n",
      " 12  Rider_Review              800 non-null    int64 \n",
      " 13  CS_Experience             800 non-null    int64 \n",
      "dtypes: int64(4), object(10)\n",
      "memory usage: 87.6+ KB\n"
     ]
    }
   ],
   "source": [
    "df1.info()"
   ]
  },
  {
   "cell_type": "code",
   "execution_count": 130,
   "id": "dca82d71",
   "metadata": {},
   "outputs": [
    {
     "data": {
      "text/html": [
       "<div>\n",
       "<style scoped>\n",
       "    .dataframe tbody tr th:only-of-type {\n",
       "        vertical-align: middle;\n",
       "    }\n",
       "\n",
       "    .dataframe tbody tr th {\n",
       "        vertical-align: top;\n",
       "    }\n",
       "\n",
       "    .dataframe thead th {\n",
       "        text-align: right;\n",
       "    }\n",
       "</style>\n",
       "<table border=\"1\" class=\"dataframe\">\n",
       "  <thead>\n",
       "    <tr style=\"text-align: right;\">\n",
       "      <th></th>\n",
       "      <th>Age</th>\n",
       "      <th>CheckOut_Experience</th>\n",
       "      <th>Rider_Review</th>\n",
       "      <th>CS_Experience</th>\n",
       "    </tr>\n",
       "  </thead>\n",
       "  <tbody>\n",
       "    <tr>\n",
       "      <th>count</th>\n",
       "      <td>800.000000</td>\n",
       "      <td>800.000000</td>\n",
       "      <td>800.000000</td>\n",
       "      <td>800.000000</td>\n",
       "    </tr>\n",
       "    <tr>\n",
       "      <th>mean</th>\n",
       "      <td>29.925000</td>\n",
       "      <td>4.276250</td>\n",
       "      <td>4.182500</td>\n",
       "      <td>3.948750</td>\n",
       "    </tr>\n",
       "    <tr>\n",
       "      <th>std</th>\n",
       "      <td>9.320433</td>\n",
       "      <td>0.966231</td>\n",
       "      <td>1.024942</td>\n",
       "      <td>1.198089</td>\n",
       "    </tr>\n",
       "    <tr>\n",
       "      <th>min</th>\n",
       "      <td>11.000000</td>\n",
       "      <td>1.000000</td>\n",
       "      <td>1.000000</td>\n",
       "      <td>1.000000</td>\n",
       "    </tr>\n",
       "    <tr>\n",
       "      <th>25%</th>\n",
       "      <td>23.000000</td>\n",
       "      <td>4.000000</td>\n",
       "      <td>4.000000</td>\n",
       "      <td>3.000000</td>\n",
       "    </tr>\n",
       "    <tr>\n",
       "      <th>50%</th>\n",
       "      <td>28.000000</td>\n",
       "      <td>5.000000</td>\n",
       "      <td>4.000000</td>\n",
       "      <td>4.000000</td>\n",
       "    </tr>\n",
       "    <tr>\n",
       "      <th>75%</th>\n",
       "      <td>34.000000</td>\n",
       "      <td>5.000000</td>\n",
       "      <td>5.000000</td>\n",
       "      <td>5.000000</td>\n",
       "    </tr>\n",
       "    <tr>\n",
       "      <th>max</th>\n",
       "      <td>76.000000</td>\n",
       "      <td>5.000000</td>\n",
       "      <td>5.000000</td>\n",
       "      <td>5.000000</td>\n",
       "    </tr>\n",
       "  </tbody>\n",
       "</table>\n",
       "</div>"
      ],
      "text/plain": [
       "              Age  CheckOut_Experience  Rider_Review  CS_Experience\n",
       "count  800.000000           800.000000    800.000000     800.000000\n",
       "mean    29.925000             4.276250      4.182500       3.948750\n",
       "std      9.320433             0.966231      1.024942       1.198089\n",
       "min     11.000000             1.000000      1.000000       1.000000\n",
       "25%     23.000000             4.000000      4.000000       3.000000\n",
       "50%     28.000000             5.000000      4.000000       4.000000\n",
       "75%     34.000000             5.000000      5.000000       5.000000\n",
       "max     76.000000             5.000000      5.000000       5.000000"
      ]
     },
     "execution_count": 130,
     "metadata": {},
     "output_type": "execute_result"
    }
   ],
   "source": [
    "df1.describe()"
   ]
  },
  {
   "cell_type": "markdown",
   "id": "013ae708",
   "metadata": {},
   "source": [
    "# Outlier detection and removal using IQR "
   ]
  },
  {
   "cell_type": "code",
   "execution_count": null,
   "id": "82f91948",
   "metadata": {},
   "outputs": [],
   "source": []
  },
  {
   "cell_type": "markdown",
   "id": "2e149853",
   "metadata": {},
   "source": [
    "# Checking Null Values"
   ]
  },
  {
   "cell_type": "code",
   "execution_count": 131,
   "id": "49061635",
   "metadata": {},
   "outputs": [
    {
     "data": {
      "image/png": "[encoded data removed]",
      "text/plain": [
       "<Figure size 432x288 with 2 Axes>"
      ]
     },
     "metadata": {
      "needs_background": "light"
     },
     "output_type": "display_data"
    }
   ],
   "source": [
    "sns.heatmap(df1.isnull())\n",
    "plt.show()"
   ]
  },
  {
   "cell_type": "code",
   "execution_count": 132,
   "id": "bd3ed6e4",
   "metadata": {},
   "outputs": [
    {
     "data": {
      "text/html": [
       "<div>\n",
       "<style scoped>\n",
       "    .dataframe tbody tr th:only-of-type {\n",
       "        vertical-align: middle;\n",
       "    }\n",
       "\n",
       "    .dataframe tbody tr th {\n",
       "        vertical-align: top;\n",
       "    }\n",
       "\n",
       "    .dataframe thead th {\n",
       "        text-align: right;\n",
       "    }\n",
       "</style>\n",
       "<table border=\"1\" class=\"dataframe\">\n",
       "  <thead>\n",
       "    <tr style=\"text-align: right;\">\n",
       "      <th></th>\n",
       "      <th>Age</th>\n",
       "      <th>Gender</th>\n",
       "      <th>About_Shopping</th>\n",
       "      <th>Shopping_For</th>\n",
       "      <th>Finding_For</th>\n",
       "      <th>Visiting_Issue</th>\n",
       "      <th>Compared_to_OS</th>\n",
       "      <th>Complacency</th>\n",
       "      <th>Find_ERP</th>\n",
       "      <th>Payment_Complacency</th>\n",
       "      <th>CheckOut_Experience</th>\n",
       "      <th>Product_Receive_TimeLine</th>\n",
       "      <th>Rider_Review</th>\n",
       "      <th>CS_Experience</th>\n",
       "    </tr>\n",
       "  </thead>\n",
       "  <tbody>\n",
       "  </tbody>\n",
       "</table>\n",
       "</div>"
      ],
      "text/plain": [
       "Empty DataFrame\n",
       "Columns: [Age, Gender, About_Shopping, Shopping_For, Finding_For, Visiting_Issue, Compared_to_OS, Complacency, Find_ERP, Payment_Complacency, CheckOut_Experience, Product_Receive_TimeLine, Rider_Review, CS_Experience]\n",
       "Index: []"
      ]
     },
     "execution_count": 132,
     "metadata": {},
     "output_type": "execute_result"
    }
   ],
   "source": [
    "df1[df1.isnull().any(axis=1)].head()"
   ]
  },
  {
   "cell_type": "code",
   "execution_count": 133,
   "id": "6995d82c",
   "metadata": {},
   "outputs": [
    {
     "data": {
      "text/plain": [
       "Age                         0\n",
       "Gender                      0\n",
       "About_Shopping              0\n",
       "Shopping_For                0\n",
       "Finding_For                 0\n",
       "Visiting_Issue              0\n",
       "Compared_to_OS              0\n",
       "Complacency                 0\n",
       "Find_ERP                    0\n",
       "Payment_Complacency         0\n",
       "CheckOut_Experience         0\n",
       "Product_Receive_TimeLine    0\n",
       "Rider_Review                0\n",
       "CS_Experience               0\n",
       "dtype: int64"
      ]
     },
     "execution_count": 133,
     "metadata": {},
     "output_type": "execute_result"
    }
   ],
   "source": [
    "df1.isnull().sum()"
   ]
  },
  {
   "cell_type": "code",
   "execution_count": 134,
   "id": "24f81185",
   "metadata": {},
   "outputs": [
    {
     "name": "stdout",
     "output_type": "stream",
     "text": [
      "       Column Name  Data Type    #Distinct  NA Values\n",
      "              Time     object        800          0\n",
      "              Name     object        764          0\n",
      "               Age      int64         52          0\n",
      "            Gender     object          3          0\n",
      "    About_Shopping     object          6          0\n",
      "      Shopping_For     object          6          0\n",
      "       Finding_For     object          3          0\n",
      "    Visiting_Issue     object          5          0\n",
      "    Compared_to_OS     object          8          0\n",
      "       Complacency     object          5          0\n",
      "          Find_ERP     object          3          0\n",
      "Payment_Complacency     object          5          0\n",
      "CheckOut_Experience      int64          5          0\n",
      "Product_Receive_TimeLine     object          3          0\n",
      "      Rider_Review      int64          5          0\n",
      "     CS_Experience      int64          5          0\n"
     ]
    }
   ],
   "source": [
    "print(\"%18s %10s   %10s %10s\" % (\"Column Name\", \"Data Type\", \"#Distinct\", \"NA Values\"))\n",
    "for col in df.columns:\n",
    "    dtyp = df[col].dtype\n",
    "    uniq = df[col].nunique()\n",
    "    na = df[col].isna().sum()\n",
    "    print(\"%18s %10s %10s %10s\" % (col, dtyp, uniq, na))"
   ]
  },
  {
   "cell_type": "markdown",
   "id": "fada1095",
   "metadata": {},
   "source": [
    "# Seperate Categorical and Numerical Features"
   ]
  },
  {
   "cell_type": "code",
   "execution_count": 135,
   "id": "854ee328",
   "metadata": {},
   "outputs": [],
   "source": [
    "categorical_features=[]\n",
    "numerical_features=[]"
   ]
  },
  {
   "cell_type": "code",
   "execution_count": 137,
   "id": "04c18d31",
   "metadata": {},
   "outputs": [],
   "source": [
    "for i in df1.columns.tolist():\n",
    "    if df1[i].dtype==\"object\":\n",
    "        categorical_features.append(i)\n",
    "    else:\n",
    "        numerical_features.append(i)"
   ]
  },
  {
   "cell_type": "code",
   "execution_count": 138,
   "id": "f2120234",
   "metadata": {},
   "outputs": [
    {
     "name": "stdout",
     "output_type": "stream",
     "text": [
      "----------------------------------------\n",
      "Numerical Features\n",
      "----------------------------------------\n",
      "Feature:  Age\n",
      "Feature:  CheckOut_Experience\n",
      "Feature:  Rider_Review\n",
      "Feature:  CS_Experience\n",
      "Feature:  Age\n",
      "Feature:  CheckOut_Experience\n",
      "Feature:  Rider_Review\n",
      "Feature:  CS_Experience\n"
     ]
    }
   ],
   "source": [
    "print(\"-\"*40)\n",
    "print(\"Numerical Features\")\n",
    "print(\"-\"*40)\n",
    "for i in numerical_features:\n",
    "    print('Feature: ',i)"
   ]
  },
  {
   "cell_type": "code",
   "execution_count": 139,
   "id": "43b26576",
   "metadata": {},
   "outputs": [
    {
     "name": "stdout",
     "output_type": "stream",
     "text": [
      "----------------------------------------\n",
      "Categorical Features\n",
      "----------------------------------------\n",
      "Feature: Gender\n",
      "Feature: About_Shopping\n",
      "Feature: Shopping_For\n",
      "Feature: Finding_For\n",
      "Feature: Visiting_Issue\n",
      "Feature: Compared_to_OS\n",
      "Feature: Complacency\n",
      "Feature: Find_ERP\n",
      "Feature: Payment_Complacency\n",
      "Feature: Product_Receive_TimeLine\n",
      "Feature: Gender\n",
      "Feature: About_Shopping\n",
      "Feature: Shopping_For\n",
      "Feature: Finding_For\n",
      "Feature: Visiting_Issue\n",
      "Feature: Compared_to_OS\n",
      "Feature: Complacency\n",
      "Feature: Find_ERP\n",
      "Feature: Payment_Complacency\n",
      "Feature: Product_Receive_TimeLine\n"
     ]
    }
   ],
   "source": [
    "print(\"-\"*40)\n",
    "print(\"Categorical Features\")\n",
    "print(\"-\"*40)\n",
    "for i in categorical_features:\n",
    "    print('Feature:',i)"
   ]
  },
  {
   "cell_type": "markdown",
   "id": "83491fa7",
   "metadata": {},
   "source": [
    "# Checking Unique Value Per Column"
   ]
  },
  {
   "cell_type": "code",
   "execution_count": 140,
   "id": "d2a9f417",
   "metadata": {},
   "outputs": [
    {
     "name": "stdout",
     "output_type": "stream",
     "text": [
      "-------------------\n",
      "Column Name Is Gender\n",
      "-------------------\n",
      "['Male' 'Female' 'Other']\n",
      "-------------------\n",
      "Column Name Is About_Shopping\n",
      "-------------------\n",
      "['Newspaper' 'Social Media' 'Friend' 'TV' 'Other' 'Search Engine']\n",
      "-------------------\n",
      "Column Name Is Shopping_For\n",
      "-------------------\n",
      "['Friend' 'Other' 'Parent' 'Colleague' 'Boss' 'Me']\n",
      "-------------------\n",
      "Column Name Is Finding_For\n",
      "-------------------\n",
      "['Yes' 'Maybe' 'No']\n",
      "-------------------\n",
      "Column Name Is Visiting_Issue\n",
      "-------------------\n",
      "['Product Information' 'About Company' 'Buying Products'\n",
      " 'Contact Information' 'Other']\n",
      "-------------------\n",
      "Column Name Is Compared_to_OS\n",
      "-------------------\n",
      "['Pricing' 'Website performance' 'Overall' 'Product catalog'\n",
      " 'Product information' 'Shipping options' 'Online help'\n",
      " 'Payment experience']\n",
      "-------------------\n",
      "Column Name Is Complacency\n",
      "-------------------\n",
      "['Neutral' 'Very satisfied' 'Satisfied' 'Dissatisfied' 'Very dissatisfied']\n",
      "-------------------\n",
      "Column Name Is Find_ERP\n",
      "-------------------\n",
      "['Yes' 'Maybe' 'No']\n",
      "-------------------\n",
      "Column Name Is Payment_Complacency\n",
      "-------------------\n",
      "['Very Safe' 'Safe' 'Neutral' 'Not Safe' 'Very Unsafe']\n",
      "-------------------\n",
      "Column Name Is CheckOut_Experience\n",
      "-------------------\n",
      "[3 1 5 4 2]\n",
      "-------------------\n",
      "Column Name Is Product_Receive_TimeLine\n",
      "-------------------\n",
      "['No' 'Yes' 'Maybe']\n",
      "-------------------\n",
      "Column Name Is Rider_Review\n",
      "-------------------\n",
      "[2 5 1 4 3]\n",
      "-------------------\n",
      "Column Name Is CS_Experience\n",
      "-------------------\n",
      "[3 5 1 4 2]\n"
     ]
    }
   ],
   "source": [
    "for col in new_columns[3:]:\n",
    "    print(\"-------------------\")\n",
    "    print(\"Column Name Is\",col)\n",
    "    print(\"-------------------\")\n",
    "    print(df[col].unique())  "
   ]
  },
  {
   "cell_type": "code",
   "execution_count": 141,
   "id": "199fe67f",
   "metadata": {},
   "outputs": [
    {
     "name": "stdout",
     "output_type": "stream",
     "text": [
      "-------------------\n",
      "Column Name Is Gender\n",
      "-------------------\n",
      "Male      437\n",
      "Female    360\n",
      "Other       3\n",
      "Name: Gender, dtype: int64\n",
      "-------------------\n",
      "Column Name Is About_Shopping\n",
      "-------------------\n",
      "Social Media     215\n",
      "Friend           170\n",
      "Search Engine    150\n",
      "Newspaper        149\n",
      "TV                78\n",
      "Other             38\n",
      "Name: About_Shopping, dtype: int64\n",
      "-------------------\n",
      "Column Name Is Shopping_For\n",
      "-------------------\n",
      "Parent       188\n",
      "Friend       157\n",
      "Me           149\n",
      "Colleague    134\n",
      "Boss         111\n",
      "Other         61\n",
      "Name: Shopping_For, dtype: int64\n",
      "-------------------\n",
      "Column Name Is Finding_For\n",
      "-------------------\n",
      "Yes      374\n",
      "No       223\n",
      "Maybe    203\n",
      "Name: Finding_For, dtype: int64\n",
      "-------------------\n",
      "Column Name Is Visiting_Issue\n",
      "-------------------\n",
      "Buying Products        221\n",
      "Product Information    211\n",
      "About Company          164\n",
      "Contact Information    155\n",
      "Other                   49\n",
      "Name: Visiting_Issue, dtype: int64\n",
      "-------------------\n",
      "Column Name Is Compared_to_OS\n",
      "-------------------\n",
      "Website performance    174\n",
      "Product catalog        138\n",
      "Product information    116\n",
      "Pricing                 98\n",
      "Shipping options        92\n",
      "Payment experience      69\n",
      "Online help             63\n",
      "Overall                 50\n",
      "Name: Compared_to_OS, dtype: int64\n",
      "-------------------\n",
      "Column Name Is Complacency\n",
      "-------------------\n",
      "Very satisfied       320\n",
      "Satisfied            241\n",
      "Neutral              121\n",
      "Dissatisfied          87\n",
      "Very dissatisfied     31\n",
      "Name: Complacency, dtype: int64\n",
      "-------------------\n",
      "Column Name Is Find_ERP\n",
      "-------------------\n",
      "Yes      394\n",
      "Maybe    223\n",
      "No       183\n",
      "Name: Find_ERP, dtype: int64\n",
      "-------------------\n",
      "Column Name Is Payment_Complacency\n",
      "-------------------\n",
      "Safe           231\n",
      "Very Safe      224\n",
      "Neutral        162\n",
      "Not Safe       132\n",
      "Very Unsafe     51\n",
      "Name: Payment_Complacency, dtype: int64\n",
      "-------------------\n",
      "Column Name Is CheckOut_Experience\n",
      "-------------------\n",
      "5    429\n",
      "4    227\n",
      "3    101\n",
      "2     22\n",
      "1     21\n",
      "Name: CheckOut_Experience, dtype: int64\n",
      "-------------------\n",
      "Column Name Is Product_Receive_TimeLine\n",
      "-------------------\n",
      "Yes      442\n",
      "Maybe    183\n",
      "No       175\n",
      "Name: Product_Receive_TimeLine, dtype: int64\n",
      "-------------------\n",
      "Column Name Is Rider_Review\n",
      "-------------------\n",
      "5    395\n",
      "4    244\n",
      "3     96\n",
      "2     42\n",
      "1     23\n",
      "Name: Rider_Review, dtype: int64\n",
      "-------------------\n",
      "Column Name Is CS_Experience\n",
      "-------------------\n",
      "5    348\n",
      "4    221\n",
      "3    121\n",
      "2     62\n",
      "1     48\n",
      "Name: CS_Experience, dtype: int64\n"
     ]
    }
   ],
   "source": [
    "for col in new_columns[3:]:\n",
    "    print(\"-------------------\")\n",
    "    print(\"Column Name Is\",col)\n",
    "    print(\"-------------------\")\n",
    "    print(df1[col].value_counts())  "
   ]
  },
  {
   "cell_type": "markdown",
   "id": "8567a56a",
   "metadata": {},
   "source": [
    "# Co-Relation"
   ]
  },
  {
   "cell_type": "code",
   "execution_count": 142,
   "id": "a3c478c1",
   "metadata": {},
   "outputs": [
    {
     "data": {
      "text/plain": [
       "<AxesSubplot:>"
      ]
     },
     "execution_count": 142,
     "metadata": {},
     "output_type": "execute_result"
    },
    {
     "data": {
      "image/png": "[encoded data removed]",
      "text/plain": [
       "<Figure size 720x360 with 2 Axes>"
      ]
     },
     "metadata": {
      "needs_background": "light"
     },
     "output_type": "display_data"
    }
   ],
   "source": [
    "f,ax = plt.subplots(figsize=(10, 5))\n",
    "sns.heatmap(df1.corr(), annot=True, linewidths=.5, fmt= '.1f',ax=ax)"
   ]
  },
  {
   "cell_type": "markdown",
   "id": "e83a9eae",
   "metadata": {},
   "source": [
    "# Separate X and Y"
   ]
  },
  {
   "cell_type": "code",
   "execution_count": 143,
   "id": "45a729cf",
   "metadata": {},
   "outputs": [],
   "source": [
    "target=df1[\"Complacency\"]"
   ]
  },
  {
   "cell_type": "code",
   "execution_count": 144,
   "id": "c41a61fd",
   "metadata": {},
   "outputs": [],
   "source": [
    "x=df1.drop([\"Complacency\"],axis=1)"
   ]
  },
  {
   "cell_type": "code",
   "execution_count": 145,
   "id": "b127823f",
   "metadata": {},
   "outputs": [
    {
     "data": {
      "text/html": [
       "<div>\n",
       "<style scoped>\n",
       "    .dataframe tbody tr th:only-of-type {\n",
       "        vertical-align: middle;\n",
       "    }\n",
       "\n",
       "    .dataframe tbody tr th {\n",
       "        vertical-align: top;\n",
       "    }\n",
       "\n",
       "    .dataframe thead th {\n",
       "        text-align: right;\n",
       "    }\n",
       "</style>\n",
       "<table border=\"1\" class=\"dataframe\">\n",
       "  <thead>\n",
       "    <tr style=\"text-align: right;\">\n",
       "      <th></th>\n",
       "      <th>Age</th>\n",
       "      <th>Gender</th>\n",
       "      <th>About_Shopping</th>\n",
       "      <th>Shopping_For</th>\n",
       "      <th>Finding_For</th>\n",
       "      <th>Visiting_Issue</th>\n",
       "      <th>Compared_to_OS</th>\n",
       "      <th>Find_ERP</th>\n",
       "      <th>Payment_Complacency</th>\n",
       "      <th>CheckOut_Experience</th>\n",
       "      <th>Product_Receive_TimeLine</th>\n",
       "      <th>Rider_Review</th>\n",
       "      <th>CS_Experience</th>\n",
       "    </tr>\n",
       "  </thead>\n",
       "  <tbody>\n",
       "    <tr>\n",
       "      <th>0</th>\n",
       "      <td>25</td>\n",
       "      <td>Male</td>\n",
       "      <td>Newspaper</td>\n",
       "      <td>Friend</td>\n",
       "      <td>Yes</td>\n",
       "      <td>Product Information</td>\n",
       "      <td>Pricing</td>\n",
       "      <td>Yes</td>\n",
       "      <td>Very Safe</td>\n",
       "      <td>3</td>\n",
       "      <td>No</td>\n",
       "      <td>2</td>\n",
       "      <td>3</td>\n",
       "    </tr>\n",
       "    <tr>\n",
       "      <th>1</th>\n",
       "      <td>22</td>\n",
       "      <td>Female</td>\n",
       "      <td>Social Media</td>\n",
       "      <td>Friend</td>\n",
       "      <td>Yes</td>\n",
       "      <td>Product Information</td>\n",
       "      <td>Website performance</td>\n",
       "      <td>Yes</td>\n",
       "      <td>Safe</td>\n",
       "      <td>3</td>\n",
       "      <td>Yes</td>\n",
       "      <td>5</td>\n",
       "      <td>5</td>\n",
       "    </tr>\n",
       "    <tr>\n",
       "      <th>2</th>\n",
       "      <td>23</td>\n",
       "      <td>Male</td>\n",
       "      <td>Social Media</td>\n",
       "      <td>Other</td>\n",
       "      <td>Maybe</td>\n",
       "      <td>About Company</td>\n",
       "      <td>Overall</td>\n",
       "      <td>Yes</td>\n",
       "      <td>Safe</td>\n",
       "      <td>1</td>\n",
       "      <td>Yes</td>\n",
       "      <td>1</td>\n",
       "      <td>1</td>\n",
       "    </tr>\n",
       "    <tr>\n",
       "      <th>3</th>\n",
       "      <td>21</td>\n",
       "      <td>Female</td>\n",
       "      <td>Social Media</td>\n",
       "      <td>Friend</td>\n",
       "      <td>Yes</td>\n",
       "      <td>Buying Products</td>\n",
       "      <td>Website performance</td>\n",
       "      <td>Yes</td>\n",
       "      <td>Safe</td>\n",
       "      <td>5</td>\n",
       "      <td>Yes</td>\n",
       "      <td>5</td>\n",
       "      <td>5</td>\n",
       "    </tr>\n",
       "    <tr>\n",
       "      <th>4</th>\n",
       "      <td>24</td>\n",
       "      <td>Female</td>\n",
       "      <td>Friend</td>\n",
       "      <td>Parent</td>\n",
       "      <td>Yes</td>\n",
       "      <td>Buying Products</td>\n",
       "      <td>Website performance</td>\n",
       "      <td>Yes</td>\n",
       "      <td>Safe</td>\n",
       "      <td>5</td>\n",
       "      <td>Yes</td>\n",
       "      <td>5</td>\n",
       "      <td>5</td>\n",
       "    </tr>\n",
       "  </tbody>\n",
       "</table>\n",
       "</div>"
      ],
      "text/plain": [
       "   Age  Gender About_Shopping Shopping_For Finding_For       Visiting_Issue  \\\n",
       "0   25    Male      Newspaper       Friend         Yes  Product Information   \n",
       "1   22  Female   Social Media       Friend         Yes  Product Information   \n",
       "2   23    Male   Social Media        Other       Maybe        About Company   \n",
       "3   21  Female   Social Media       Friend         Yes      Buying Products   \n",
       "4   24  Female         Friend       Parent         Yes      Buying Products   \n",
       "\n",
       "        Compared_to_OS Find_ERP Payment_Complacency  CheckOut_Experience  \\\n",
       "0              Pricing      Yes           Very Safe                    3   \n",
       "1  Website performance      Yes                Safe                    3   \n",
       "2              Overall      Yes                Safe                    1   \n",
       "3  Website performance      Yes                Safe                    5   \n",
       "4  Website performance      Yes                Safe                    5   \n",
       "\n",
       "  Product_Receive_TimeLine  Rider_Review  CS_Experience  \n",
       "0                       No             2              3  \n",
       "1                      Yes             5              5  \n",
       "2                      Yes             1              1  \n",
       "3                      Yes             5              5  \n",
       "4                      Yes             5              5  "
      ]
     },
     "execution_count": 145,
     "metadata": {},
     "output_type": "execute_result"
    }
   ],
   "source": [
    "x.head()"
   ]
  },
  {
   "cell_type": "code",
   "execution_count": 146,
   "id": "daac2d1d",
   "metadata": {},
   "outputs": [],
   "source": [
    "categorical_features2=[]\n",
    "numerical_features2=[]"
   ]
  },
  {
   "cell_type": "code",
   "execution_count": 147,
   "id": "e1e6bc24",
   "metadata": {},
   "outputs": [],
   "source": [
    "for i in x.columns.tolist():\n",
    "    if x[i].dtype==\"object\":\n",
    "        categorical_features2.append(i)\n",
    "    else:\n",
    "        numerical_features2.append(i)"
   ]
  },
  {
   "cell_type": "code",
   "execution_count": 148,
   "id": "64a46094",
   "metadata": {},
   "outputs": [
    {
     "data": {
      "text/plain": [
       "['Age', 'CheckOut_Experience', 'Rider_Review', 'CS_Experience']"
      ]
     },
     "execution_count": 148,
     "metadata": {},
     "output_type": "execute_result"
    }
   ],
   "source": [
    "numerical_features2"
   ]
  },
  {
   "cell_type": "code",
   "execution_count": 149,
   "id": "e17a0138",
   "metadata": {},
   "outputs": [
    {
     "data": {
      "text/plain": [
       "['Gender',\n",
       " 'About_Shopping',\n",
       " 'Shopping_For',\n",
       " 'Finding_For',\n",
       " 'Visiting_Issue',\n",
       " 'Compared_to_OS',\n",
       " 'Find_ERP',\n",
       " 'Payment_Complacency',\n",
       " 'Product_Receive_TimeLine']"
      ]
     },
     "execution_count": 149,
     "metadata": {},
     "output_type": "execute_result"
    }
   ],
   "source": [
    "categorical_features2"
   ]
  },
  {
   "cell_type": "code",
   "execution_count": 150,
   "id": "045d5a5a",
   "metadata": {},
   "outputs": [],
   "source": [
    "le=LabelEncoder()\n",
    "for i in categorical_features2:\n",
    "    x[i]=le.fit_transform(x[i])"
   ]
  },
  {
   "cell_type": "code",
   "execution_count": 239,
   "id": "a19d67db",
   "metadata": {},
   "outputs": [
    {
     "data": {
      "text/html": [
       "<div>\n",
       "<style scoped>\n",
       "    .dataframe tbody tr th:only-of-type {\n",
       "        vertical-align: middle;\n",
       "    }\n",
       "\n",
       "    .dataframe tbody tr th {\n",
       "        vertical-align: top;\n",
       "    }\n",
       "\n",
       "    .dataframe thead th {\n",
       "        text-align: right;\n",
       "    }\n",
       "</style>\n",
       "<table border=\"1\" class=\"dataframe\">\n",
       "  <thead>\n",
       "    <tr style=\"text-align: right;\">\n",
       "      <th></th>\n",
       "      <th>Age</th>\n",
       "      <th>Gender</th>\n",
       "      <th>About_Shopping</th>\n",
       "      <th>Shopping_For</th>\n",
       "      <th>Finding_For</th>\n",
       "      <th>Visiting_Issue</th>\n",
       "      <th>Compared_to_OS</th>\n",
       "      <th>Find_ERP</th>\n",
       "      <th>Payment_Complacency</th>\n",
       "      <th>CheckOut_Experience</th>\n",
       "      <th>Product_Receive_TimeLine</th>\n",
       "      <th>Rider_Review</th>\n",
       "      <th>CS_Experience</th>\n",
       "    </tr>\n",
       "  </thead>\n",
       "  <tbody>\n",
       "    <tr>\n",
       "      <th>795</th>\n",
       "      <td>23</td>\n",
       "      <td>0</td>\n",
       "      <td>1</td>\n",
       "      <td>0</td>\n",
       "      <td>0</td>\n",
       "      <td>1</td>\n",
       "      <td>3</td>\n",
       "      <td>2</td>\n",
       "      <td>0</td>\n",
       "      <td>5</td>\n",
       "      <td>1</td>\n",
       "      <td>5</td>\n",
       "      <td>4</td>\n",
       "    </tr>\n",
       "    <tr>\n",
       "      <th>796</th>\n",
       "      <td>27</td>\n",
       "      <td>0</td>\n",
       "      <td>0</td>\n",
       "      <td>1</td>\n",
       "      <td>1</td>\n",
       "      <td>3</td>\n",
       "      <td>0</td>\n",
       "      <td>1</td>\n",
       "      <td>1</td>\n",
       "      <td>5</td>\n",
       "      <td>1</td>\n",
       "      <td>5</td>\n",
       "      <td>5</td>\n",
       "    </tr>\n",
       "    <tr>\n",
       "      <th>797</th>\n",
       "      <td>37</td>\n",
       "      <td>0</td>\n",
       "      <td>1</td>\n",
       "      <td>3</td>\n",
       "      <td>1</td>\n",
       "      <td>1</td>\n",
       "      <td>1</td>\n",
       "      <td>1</td>\n",
       "      <td>0</td>\n",
       "      <td>5</td>\n",
       "      <td>0</td>\n",
       "      <td>5</td>\n",
       "      <td>5</td>\n",
       "    </tr>\n",
       "    <tr>\n",
       "      <th>798</th>\n",
       "      <td>26</td>\n",
       "      <td>0</td>\n",
       "      <td>3</td>\n",
       "      <td>0</td>\n",
       "      <td>1</td>\n",
       "      <td>3</td>\n",
       "      <td>6</td>\n",
       "      <td>1</td>\n",
       "      <td>2</td>\n",
       "      <td>5</td>\n",
       "      <td>2</td>\n",
       "      <td>5</td>\n",
       "      <td>5</td>\n",
       "    </tr>\n",
       "    <tr>\n",
       "      <th>799</th>\n",
       "      <td>40</td>\n",
       "      <td>0</td>\n",
       "      <td>4</td>\n",
       "      <td>0</td>\n",
       "      <td>0</td>\n",
       "      <td>1</td>\n",
       "      <td>2</td>\n",
       "      <td>0</td>\n",
       "      <td>2</td>\n",
       "      <td>5</td>\n",
       "      <td>1</td>\n",
       "      <td>5</td>\n",
       "      <td>5</td>\n",
       "    </tr>\n",
       "  </tbody>\n",
       "</table>\n",
       "</div>"
      ],
      "text/plain": [
       "     Age  Gender  About_Shopping  Shopping_For  Finding_For  Visiting_Issue  \\\n",
       "795   23       0               1             0            0               1   \n",
       "796   27       0               0             1            1               3   \n",
       "797   37       0               1             3            1               1   \n",
       "798   26       0               3             0            1               3   \n",
       "799   40       0               4             0            0               1   \n",
       "\n",
       "     Compared_to_OS  Find_ERP  Payment_Complacency  CheckOut_Experience  \\\n",
       "795               3         2                    0                    5   \n",
       "796               0         1                    1                    5   \n",
       "797               1         1                    0                    5   \n",
       "798               6         1                    2                    5   \n",
       "799               2         0                    2                    5   \n",
       "\n",
       "     Product_Receive_TimeLine  Rider_Review  CS_Experience  \n",
       "795                         1             5              4  \n",
       "796                         1             5              5  \n",
       "797                         0             5              5  \n",
       "798                         2             5              5  \n",
       "799                         1             5              5  "
      ]
     },
     "execution_count": 239,
     "metadata": {},
     "output_type": "execute_result"
    }
   ],
   "source": [
    "x.tail()"
   ]
  },
  {
   "cell_type": "code",
   "execution_count": 265,
   "id": "cb812523",
   "metadata": {},
   "outputs": [
    {
     "data": {
      "text/plain": [
       "((800, 13), (800, 14))"
      ]
     },
     "execution_count": 265,
     "metadata": {},
     "output_type": "execute_result"
    }
   ],
   "source": [
    "x.shape,df1.shape"
   ]
  },
  {
   "cell_type": "code",
   "execution_count": 266,
   "id": "f7e96143",
   "metadata": {},
   "outputs": [],
   "source": [
    "accuracy=[]\n",
    "f1=[]\n",
    "model=[]"
   ]
  },
  {
   "cell_type": "code",
   "execution_count": 267,
   "id": "5df1210a",
   "metadata": {},
   "outputs": [],
   "source": [
    "xtrain,xtest,ytrain,ytest=train_test_split(x,target,test_size=0.25,random_state=1)"
   ]
  },
  {
   "cell_type": "code",
   "execution_count": 268,
   "id": "b44ab33e",
   "metadata": {},
   "outputs": [],
   "source": [
    "svc=SVC()\n",
    "svc.fit(xtrain,ytrain)\n",
    "y_hat=svc.predict(xtest)"
   ]
  },
  {
   "cell_type": "code",
   "execution_count": 269,
   "id": "184a63a8",
   "metadata": {},
   "outputs": [],
   "source": [
    "accuracy.append(np.round(accuracy_score(ytest,y_hat),2))\n",
    "f1.append(np.round(f1_score(ytest,y_hat,average='weighted'),2))\n",
    "model.append('Support Vector Machine')"
   ]
  },
  {
   "cell_type": "code",
   "execution_count": 270,
   "id": "8485e52a",
   "metadata": {},
   "outputs": [
    {
     "data": {
      "text/plain": [
       "([0.38], [0.2], ['Support Vector Machine'])"
      ]
     },
     "execution_count": 270,
     "metadata": {},
     "output_type": "execute_result"
    }
   ],
   "source": [
    "accuracy,f1,model"
   ]
  },
  {
   "cell_type": "code",
   "execution_count": 271,
   "id": "87d71bdb",
   "metadata": {},
   "outputs": [],
   "source": [
    "dst=tree.DecisionTreeClassifier(criterion='entropy')\n",
    "dst.fit(xtrain,ytrain)\n",
    "y_hat=dst.predict(xtest)"
   ]
  },
  {
   "cell_type": "code",
   "execution_count": 272,
   "id": "290a5967",
   "metadata": {},
   "outputs": [],
   "source": [
    "accuracy.append(np.round(accuracy_score(ytest,y_hat),2))\n",
    "f1.append(np.round(f1_score(ytest,y_hat,average='weighted'),2))\n",
    "model.append('Decision Tree Classifier')"
   ]
  },
  {
   "cell_type": "code",
   "execution_count": 273,
   "id": "509d439f",
   "metadata": {},
   "outputs": [
    {
     "data": {
      "text/plain": [
       "([0.38, 0.3],\n",
       " [0.2, 0.29],\n",
       " ['Support Vector Machine', 'Decision Tree Classifier'])"
      ]
     },
     "execution_count": 273,
     "metadata": {},
     "output_type": "execute_result"
    }
   ],
   "source": [
    "accuracy,f1,model"
   ]
  },
  {
   "cell_type": "code",
   "execution_count": 274,
   "id": "9feb122a",
   "metadata": {},
   "outputs": [],
   "source": [
    "rfc=RandomForestClassifier(n_estimators=100)\n",
    "rfc.fit(xtrain,ytrain)\n",
    "y_hat=rfc.predict(xtest)"
   ]
  },
  {
   "cell_type": "code",
   "execution_count": 275,
   "id": "68010544",
   "metadata": {},
   "outputs": [],
   "source": [
    "accuracy.append(np.round(accuracy_score(ytest,y_hat),2))\n",
    "f1.append(np.round(f1_score(ytest,y_hat,average='weighted'),2))\n",
    "model.append('Random Forest')"
   ]
  },
  {
   "cell_type": "code",
   "execution_count": 276,
   "id": "5cade08a",
   "metadata": {},
   "outputs": [
    {
     "data": {
      "text/plain": [
       "([0.38, 0.3, 0.36],\n",
       " [0.2, 0.29, 0.31],\n",
       " ['Support Vector Machine', 'Decision Tree Classifier', 'Random Forest'])"
      ]
     },
     "execution_count": 276,
     "metadata": {},
     "output_type": "execute_result"
    }
   ],
   "source": [
    "accuracy,f1,model"
   ]
  },
  {
   "cell_type": "code",
   "execution_count": 256,
   "id": "8a3975d2",
   "metadata": {},
   "outputs": [],
   "source": [
    "from sklearn.feature_selection import SelectKBest"
   ]
  },
  {
   "cell_type": "code",
   "execution_count": 257,
   "id": "deedeb28",
   "metadata": {},
   "outputs": [],
   "source": [
    "from sklearn.feature_selection import f_classif"
   ]
  },
  {
   "cell_type": "code",
   "execution_count": 258,
   "id": "a2e3d789",
   "metadata": {},
   "outputs": [],
   "source": [
    "fit_features=SelectKBest()"
   ]
  },
  {
   "cell_type": "code",
   "execution_count": 158,
   "id": "fdae75c4",
   "metadata": {},
   "outputs": [
    {
     "data": {
      "text/html": [
       "<style>#sk-container-id-1 {color: black;background-color: white;}#sk-container-id-1 pre{padding: 0;}#sk-container-id-1 div.sk-toggleable {background-color: white;}#sk-container-id-1 label.sk-toggleable__label {cursor: pointer;display: block;width: 100%;margin-bottom: 0;padding: 0.3em;box-sizing: border-box;text-align: center;}#sk-container-id-1 label.sk-toggleable__label-arrow:before {content: \"▸\";float: left;margin-right: 0.25em;color: #696969;}#sk-container-id-1 label.sk-toggleable__label-arrow:hover:before {color: black;}#sk-container-id-1 div.sk-estimator:hover label.sk-toggleable__label-arrow:before {color: black;}#sk-container-id-1 div.sk-toggleable__content {max-height: 0;max-width: 0;overflow: hidden;text-align: left;background-color: #f0f8ff;}#sk-container-id-1 div.sk-toggleable__content pre {margin: 0.2em;color: black;border-radius: 0.25em;background-color: #f0f8ff;}#sk-container-id-1 input.sk-toggleable__control:checked~div.sk-toggleable__content {max-height: 200px;max-width: 100%;overflow: auto;}#sk-container-id-1 input.sk-toggleable__control:checked~label.sk-toggleable__label-arrow:before {content: \"▾\";}#sk-container-id-1 div.sk-estimator input.sk-toggleable__control:checked~label.sk-toggleable__label {background-color: #d4ebff;}#sk-container-id-1 div.sk-label input.sk-toggleable__control:checked~label.sk-toggleable__label {background-color: #d4ebff;}#sk-container-id-1 input.sk-hidden--visually {border: 0;clip: rect(1px 1px 1px 1px);clip: rect(1px, 1px, 1px, 1px);height: 1px;margin: -1px;overflow: hidden;padding: 0;position: absolute;width: 1px;}#sk-container-id-1 div.sk-estimator {font-family: monospace;background-color: #f0f8ff;border: 1px dotted black;border-radius: 0.25em;box-sizing: border-box;margin-bottom: 0.5em;}#sk-container-id-1 div.sk-estimator:hover {background-color: #d4ebff;}#sk-container-id-1 div.sk-parallel-item::after {content: \"\";width: 100%;border-bottom: 1px solid gray;flex-grow: 1;}#sk-container-id-1 div.sk-label:hover label.sk-toggleable__label {background-color: #d4ebff;}#sk-container-id-1 div.sk-serial::before {content: \"\";position: absolute;border-left: 1px solid gray;box-sizing: border-box;top: 0;bottom: 0;left: 50%;z-index: 0;}#sk-container-id-1 div.sk-serial {display: flex;flex-direction: column;align-items: center;background-color: white;padding-right: 0.2em;padding-left: 0.2em;position: relative;}#sk-container-id-1 div.sk-item {position: relative;z-index: 1;}#sk-container-id-1 div.sk-parallel {display: flex;align-items: stretch;justify-content: center;background-color: white;position: relative;}#sk-container-id-1 div.sk-item::before, #sk-container-id-1 div.sk-parallel-item::before {content: \"\";position: absolute;border-left: 1px solid gray;box-sizing: border-box;top: 0;bottom: 0;left: 50%;z-index: -1;}#sk-container-id-1 div.sk-parallel-item {display: flex;flex-direction: column;z-index: 1;position: relative;background-color: white;}#sk-container-id-1 div.sk-parallel-item:first-child::after {align-self: flex-end;width: 50%;}#sk-container-id-1 div.sk-parallel-item:last-child::after {align-self: flex-start;width: 50%;}#sk-container-id-1 div.sk-parallel-item:only-child::after {width: 0;}#sk-container-id-1 div.sk-dashed-wrapped {border: 1px dashed gray;margin: 0 0.4em 0.5em 0.4em;box-sizing: border-box;padding-bottom: 0.4em;background-color: white;}#sk-container-id-1 div.sk-label label {font-family: monospace;font-weight: bold;display: inline-block;line-height: 1.2em;}#sk-container-id-1 div.sk-label-container {text-align: center;}#sk-container-id-1 div.sk-container {/* jupyter's `normalize.less` sets `[hidden] { display: none; }` but bootstrap.min.css set `[hidden] { display: none !important; }` so we also need the `!important` here to be able to override the default hidden behavior on the sphinx rendered scikit-learn.org. See: https://github.com/scikit-learn/scikit-learn/issues/21755 */display: inline-block !important;position: relative;}#sk-container-id-1 div.sk-text-repr-fallback {display: none;}</style><div id=\"sk-container-id-1\" class=\"sk-top-container\"><div class=\"sk-text-repr-fallback\"><pre>SelectKBest()</pre><b>In a Jupyter environment, please rerun this cell to show the HTML representation or trust the notebook. <br />On GitHub, the HTML representation is unable to render, please try loading this page with nbviewer.org.</b></div><div class=\"sk-container\" hidden><div class=\"sk-item\"><div class=\"sk-estimator sk-toggleable\"><input class=\"sk-toggleable__control sk-hidden--visually\" id=\"sk-estimator-id-1\" type=\"checkbox\" checked><label for=\"sk-estimator-id-1\" class=\"sk-toggleable__label sk-toggleable__label-arrow\">SelectKBest</label><div class=\"sk-toggleable__content\"><pre>SelectKBest()</pre></div></div></div></div></div>"
      ],
      "text/plain": [
       "SelectKBest()"
      ]
     },
     "execution_count": 158,
     "metadata": {},
     "output_type": "execute_result"
    }
   ],
   "source": [
    "fit_features.fit(x,target)"
   ]
  },
  {
   "cell_type": "code",
   "execution_count": 191,
   "id": "bf52ad8c",
   "metadata": {},
   "outputs": [],
   "source": [
    "Score_col=pd.DataFrame(fit_features.scores_)"
   ]
  },
  {
   "cell_type": "code",
   "execution_count": 205,
   "id": "d52751f7",
   "metadata": {},
   "outputs": [],
   "source": [
    "Score_col.columns=[\"Score Values\"]"
   ]
  },
  {
   "cell_type": "code",
   "execution_count": 206,
   "id": "f1400106",
   "metadata": {},
   "outputs": [
    {
     "data": {
      "text/html": [
       "<div>\n",
       "<style scoped>\n",
       "    .dataframe tbody tr th:only-of-type {\n",
       "        vertical-align: middle;\n",
       "    }\n",
       "\n",
       "    .dataframe tbody tr th {\n",
       "        vertical-align: top;\n",
       "    }\n",
       "\n",
       "    .dataframe thead th {\n",
       "        text-align: right;\n",
       "    }\n",
       "</style>\n",
       "<table border=\"1\" class=\"dataframe\">\n",
       "  <thead>\n",
       "    <tr style=\"text-align: right;\">\n",
       "      <th></th>\n",
       "      <th>Score Values</th>\n",
       "    </tr>\n",
       "  </thead>\n",
       "  <tbody>\n",
       "    <tr>\n",
       "      <th>0</th>\n",
       "      <td>4.881599</td>\n",
       "    </tr>\n",
       "    <tr>\n",
       "      <th>1</th>\n",
       "      <td>5.156419</td>\n",
       "    </tr>\n",
       "    <tr>\n",
       "      <th>2</th>\n",
       "      <td>1.532943</td>\n",
       "    </tr>\n",
       "    <tr>\n",
       "      <th>3</th>\n",
       "      <td>2.892164</td>\n",
       "    </tr>\n",
       "    <tr>\n",
       "      <th>4</th>\n",
       "      <td>7.222775</td>\n",
       "    </tr>\n",
       "    <tr>\n",
       "      <th>5</th>\n",
       "      <td>2.458988</td>\n",
       "    </tr>\n",
       "    <tr>\n",
       "      <th>6</th>\n",
       "      <td>14.566942</td>\n",
       "    </tr>\n",
       "    <tr>\n",
       "      <th>7</th>\n",
       "      <td>4.503881</td>\n",
       "    </tr>\n",
       "    <tr>\n",
       "      <th>8</th>\n",
       "      <td>3.810030</td>\n",
       "    </tr>\n",
       "    <tr>\n",
       "      <th>9</th>\n",
       "      <td>6.434253</td>\n",
       "    </tr>\n",
       "    <tr>\n",
       "      <th>10</th>\n",
       "      <td>8.433382</td>\n",
       "    </tr>\n",
       "    <tr>\n",
       "      <th>11</th>\n",
       "      <td>4.187456</td>\n",
       "    </tr>\n",
       "    <tr>\n",
       "      <th>12</th>\n",
       "      <td>3.972307</td>\n",
       "    </tr>\n",
       "  </tbody>\n",
       "</table>\n",
       "</div>"
      ],
      "text/plain": [
       "    Score Values\n",
       "0       4.881599\n",
       "1       5.156419\n",
       "2       1.532943\n",
       "3       2.892164\n",
       "4       7.222775\n",
       "5       2.458988\n",
       "6      14.566942\n",
       "7       4.503881\n",
       "8       3.810030\n",
       "9       6.434253\n",
       "10      8.433382\n",
       "11      4.187456\n",
       "12      3.972307"
      ]
     },
     "execution_count": 206,
     "metadata": {},
     "output_type": "execute_result"
    }
   ],
   "source": [
    "Score_col"
   ]
  },
  {
   "cell_type": "code",
   "execution_count": 207,
   "id": "61857c00",
   "metadata": {},
   "outputs": [],
   "source": [
    "Name_col=pd.DataFrame(x.columns)"
   ]
  },
  {
   "cell_type": "code",
   "execution_count": 208,
   "id": "da097f23",
   "metadata": {},
   "outputs": [],
   "source": [
    "all_df=[Name_col,Score_col]"
   ]
  },
  {
   "cell_type": "code",
   "execution_count": 209,
   "id": "bf930043",
   "metadata": {},
   "outputs": [],
   "source": [
    "top_features=pd.concat(all_df,axis=1)"
   ]
  },
  {
   "cell_type": "code",
   "execution_count": 210,
   "id": "e43f6445",
   "metadata": {},
   "outputs": [
    {
     "data": {
      "text/html": [
       "<div>\n",
       "<style scoped>\n",
       "    .dataframe tbody tr th:only-of-type {\n",
       "        vertical-align: middle;\n",
       "    }\n",
       "\n",
       "    .dataframe tbody tr th {\n",
       "        vertical-align: top;\n",
       "    }\n",
       "\n",
       "    .dataframe thead th {\n",
       "        text-align: right;\n",
       "    }\n",
       "</style>\n",
       "<table border=\"1\" class=\"dataframe\">\n",
       "  <thead>\n",
       "    <tr style=\"text-align: right;\">\n",
       "      <th></th>\n",
       "      <th>0</th>\n",
       "      <th>Score Values</th>\n",
       "    </tr>\n",
       "  </thead>\n",
       "  <tbody>\n",
       "    <tr>\n",
       "      <th>2</th>\n",
       "      <td>About_Shopping</td>\n",
       "      <td>1.532943</td>\n",
       "    </tr>\n",
       "    <tr>\n",
       "      <th>5</th>\n",
       "      <td>Visiting_Issue</td>\n",
       "      <td>2.458988</td>\n",
       "    </tr>\n",
       "    <tr>\n",
       "      <th>3</th>\n",
       "      <td>Shopping_For</td>\n",
       "      <td>2.892164</td>\n",
       "    </tr>\n",
       "    <tr>\n",
       "      <th>8</th>\n",
       "      <td>Payment_Complacency</td>\n",
       "      <td>3.810030</td>\n",
       "    </tr>\n",
       "    <tr>\n",
       "      <th>12</th>\n",
       "      <td>CS_Experience</td>\n",
       "      <td>3.972307</td>\n",
       "    </tr>\n",
       "    <tr>\n",
       "      <th>11</th>\n",
       "      <td>Rider_Review</td>\n",
       "      <td>4.187456</td>\n",
       "    </tr>\n",
       "    <tr>\n",
       "      <th>7</th>\n",
       "      <td>Find_ERP</td>\n",
       "      <td>4.503881</td>\n",
       "    </tr>\n",
       "    <tr>\n",
       "      <th>0</th>\n",
       "      <td>Age</td>\n",
       "      <td>4.881599</td>\n",
       "    </tr>\n",
       "    <tr>\n",
       "      <th>1</th>\n",
       "      <td>Gender</td>\n",
       "      <td>5.156419</td>\n",
       "    </tr>\n",
       "    <tr>\n",
       "      <th>9</th>\n",
       "      <td>CheckOut_Experience</td>\n",
       "      <td>6.434253</td>\n",
       "    </tr>\n",
       "    <tr>\n",
       "      <th>4</th>\n",
       "      <td>Finding_For</td>\n",
       "      <td>7.222775</td>\n",
       "    </tr>\n",
       "    <tr>\n",
       "      <th>10</th>\n",
       "      <td>Product_Receive_TimeLine</td>\n",
       "      <td>8.433382</td>\n",
       "    </tr>\n",
       "    <tr>\n",
       "      <th>6</th>\n",
       "      <td>Compared_to_OS</td>\n",
       "      <td>14.566942</td>\n",
       "    </tr>\n",
       "  </tbody>\n",
       "</table>\n",
       "</div>"
      ],
      "text/plain": [
       "                           0  Score Values\n",
       "2             About_Shopping      1.532943\n",
       "5             Visiting_Issue      2.458988\n",
       "3               Shopping_For      2.892164\n",
       "8        Payment_Complacency      3.810030\n",
       "12             CS_Experience      3.972307\n",
       "11              Rider_Review      4.187456\n",
       "7                   Find_ERP      4.503881\n",
       "0                        Age      4.881599\n",
       "1                     Gender      5.156419\n",
       "9        CheckOut_Experience      6.434253\n",
       "4                Finding_For      7.222775\n",
       "10  Product_Receive_TimeLine      8.433382\n",
       "6             Compared_to_OS     14.566942"
      ]
     },
     "execution_count": 210,
     "metadata": {},
     "output_type": "execute_result"
    }
   ],
   "source": [
    "top_features.sort_values('Score Values')"
   ]
  },
  {
   "cell_type": "code",
   "execution_count": 212,
   "id": "3b6f65b3",
   "metadata": {},
   "outputs": [],
   "source": [
    "new_df=top_features.nlargest(8,\"Score Values\")"
   ]
  },
  {
   "cell_type": "code",
   "execution_count": 215,
   "id": "5401d1ac",
   "metadata": {},
   "outputs": [
    {
     "data": {
      "text/html": [
       "<div>\n",
       "<style scoped>\n",
       "    .dataframe tbody tr th:only-of-type {\n",
       "        vertical-align: middle;\n",
       "    }\n",
       "\n",
       "    .dataframe tbody tr th {\n",
       "        vertical-align: top;\n",
       "    }\n",
       "\n",
       "    .dataframe thead th {\n",
       "        text-align: right;\n",
       "    }\n",
       "</style>\n",
       "<table border=\"1\" class=\"dataframe\">\n",
       "  <thead>\n",
       "    <tr style=\"text-align: right;\">\n",
       "      <th></th>\n",
       "      <th>0</th>\n",
       "      <th>Score Values</th>\n",
       "    </tr>\n",
       "  </thead>\n",
       "  <tbody>\n",
       "    <tr>\n",
       "      <th>6</th>\n",
       "      <td>Compared_to_OS</td>\n",
       "      <td>14.566942</td>\n",
       "    </tr>\n",
       "    <tr>\n",
       "      <th>10</th>\n",
       "      <td>Product_Receive_TimeLine</td>\n",
       "      <td>8.433382</td>\n",
       "    </tr>\n",
       "    <tr>\n",
       "      <th>4</th>\n",
       "      <td>Finding_For</td>\n",
       "      <td>7.222775</td>\n",
       "    </tr>\n",
       "    <tr>\n",
       "      <th>9</th>\n",
       "      <td>CheckOut_Experience</td>\n",
       "      <td>6.434253</td>\n",
       "    </tr>\n",
       "    <tr>\n",
       "      <th>1</th>\n",
       "      <td>Gender</td>\n",
       "      <td>5.156419</td>\n",
       "    </tr>\n",
       "    <tr>\n",
       "      <th>0</th>\n",
       "      <td>Age</td>\n",
       "      <td>4.881599</td>\n",
       "    </tr>\n",
       "    <tr>\n",
       "      <th>7</th>\n",
       "      <td>Find_ERP</td>\n",
       "      <td>4.503881</td>\n",
       "    </tr>\n",
       "    <tr>\n",
       "      <th>11</th>\n",
       "      <td>Rider_Review</td>\n",
       "      <td>4.187456</td>\n",
       "    </tr>\n",
       "  </tbody>\n",
       "</table>\n",
       "</div>"
      ],
      "text/plain": [
       "                           0  Score Values\n",
       "6             Compared_to_OS     14.566942\n",
       "10  Product_Receive_TimeLine      8.433382\n",
       "4                Finding_For      7.222775\n",
       "9        CheckOut_Experience      6.434253\n",
       "1                     Gender      5.156419\n",
       "0                        Age      4.881599\n",
       "7                   Find_ERP      4.503881\n",
       "11              Rider_Review      4.187456"
      ]
     },
     "execution_count": 215,
     "metadata": {},
     "output_type": "execute_result"
    }
   ],
   "source": [
    "new_df"
   ]
  },
  {
   "cell_type": "code",
   "execution_count": null,
   "id": "d509d8d7",
   "metadata": {},
   "outputs": [],
   "source": []
  }
 ],
 "metadata": {
  "kernelspec": {
   "display_name": "Python 3 (ipykernel)",
   "language": "python",
   "name": "python3"
  },
  "language_info": {
   "codemirror_mode": {
    "name": "ipython",
    "version": 3
   },
   "file_extension": ".py",
   "mimetype": "text/x-python",
   "name": "python",
   "nbconvert_exporter": "python",
   "pygments_lexer": "ipython3",
   "version": "3.9.12"
  }
 },
 "nbformat": 4,
 "nbformat_minor": 5
}
