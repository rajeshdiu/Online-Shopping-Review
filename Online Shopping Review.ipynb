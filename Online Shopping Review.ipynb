{
 "cells": [
  {
   "cell_type": "code",
   "execution_count": 1,
   "id": "78f19ae7",
   "metadata": {},
   "outputs": [],
   "source": [
    "import pandas as pd\n",
    "import numpy as np\n",
    "import matplotlib.pyplot as plt \n",
    "import seaborn as sns\n",
    "import plotly.express as px\n",
    "from sklearn.model_selection import train_test_split\n",
    "from sklearn.metrics import accuracy_score\n",
    "from sklearn.preprocessing import LabelEncoder\n",
    "from sklearn.preprocessing import OrdinalEncoder\n",
    "from sklearn.metrics import accuracy_score,classification_report,confusion_matrix,precision_score,recall_score,f1_score\n",
    "from sklearn.svm import SVC\n",
    "from sklearn import tree\n",
    "import plotly.offline as py\n",
    "import xgboost as xgb\n",
    "from sklearn.neighbors import KNeighborsClassifier\n",
    "from sklearn.tree import DecisionTreeClassifier\n",
    "from sklearn.ensemble import RandomForestClassifier\n",
    "from sklearn.ensemble import GradientBoostingClassifier\n",
    "from sklearn.ensemble import AdaBoostClassifier\n",
    "from sklearn.neighbors import KNeighborsClassifier\n",
    "from sklearn.naive_bayes import MultinomialNB\n",
    "from sklearn.ensemble import RandomForestClassifier\n",
    "from sklearn.linear_model import LogisticRegression\n",
    "from sklearn.naive_bayes import GaussianNB\n",
    "from sklearn.ensemble import AdaBoostClassifier\n",
    "import warnings\n",
    "from sklearn.feature_selection import SelectKBest\n",
    "from sklearn.feature_selection import f_classif\n",
    "warnings.filterwarnings('ignore')"
   ]
  },
  {
   "cell_type": "code",
   "execution_count": 2,
   "id": "bf877ed7",
   "metadata": {},
   "outputs": [],
   "source": [
    "df=pd.read_csv(\"C:\\\\Users\\\\User\\\\Desktop\\\\Data Science\\\\Research Work\\\\MyProject\\\\Online-Shopping-Review\\\\Dataset\\\\Online Shopping Review.csv\")"
   ]
  },
  {
   "cell_type": "markdown",
   "id": "4e4cb2c2",
   "metadata": {},
   "source": [
    "# Rename The Column Names"
   ]
  },
  {
   "cell_type": "code",
   "execution_count": 3,
   "id": "9522cd3f",
   "metadata": {},
   "outputs": [],
   "source": [
    "my_cols=[\"Time\",\"Name\",\"Age\",\"Gender\",\"About Shopping\",\"Shopping For\",\"Finding For\",\n",
    "         \"Visiting Issue\",\"Compared to OS\",\"Complacency\",\"Find ERP\",\"Payment Complacency\",\n",
    "         \"CheckOut Experience\",\"Product Receive TimeLine\",\"Rider Review\",\"CS Experience\"]"
   ]
  },
  {
   "cell_type": "code",
   "execution_count": 4,
   "id": "d9f0a78e",
   "metadata": {},
   "outputs": [],
   "source": [
    "df.columns=my_cols"
   ]
  },
  {
   "cell_type": "code",
   "execution_count": 5,
   "id": "91c2e964",
   "metadata": {},
   "outputs": [
    {
     "data": {
      "text/plain": [
       "['Time',\n",
       " 'Name',\n",
       " 'Age',\n",
       " 'Gender',\n",
       " 'About_Shopping',\n",
       " 'Shopping_For',\n",
       " 'Finding_For',\n",
       " 'Visiting_Issue',\n",
       " 'Compared_to_OS',\n",
       " 'Complacency',\n",
       " 'Find_ERP',\n",
       " 'Payment_Complacency',\n",
       " 'CheckOut_Experience',\n",
       " 'Product_Receive_TimeLine',\n",
       " 'Rider_Review',\n",
       " 'CS_Experience']"
      ]
     },
     "execution_count": 5,
     "metadata": {},
     "output_type": "execute_result"
    }
   ],
   "source": [
    "#Using ' ' to replace the column names\n",
    "columns= list(df.columns)\n",
    "adder = \"\"\n",
    "new_columns =[]\n",
    "for each_column in columns:\n",
    "    for letter in each_column:\n",
    "        if letter==\" \":\n",
    "            adder = adder + \"_\"\n",
    "        else:\n",
    "            adder = adder + letter\n",
    "    new_columns.append(adder)\n",
    "    adder=\"\"\n",
    "new_columns"
   ]
  },
  {
   "cell_type": "code",
   "execution_count": 6,
   "id": "ea19b77f",
   "metadata": {},
   "outputs": [],
   "source": [
    "df.columns=new_columns"
   ]
  },
  {
   "cell_type": "code",
   "execution_count": 7,
   "id": "e7e2e2e7",
   "metadata": {},
   "outputs": [
    {
     "data": {
      "text/html": [
       "<div>\n",
       "<style scoped>\n",
       "    .dataframe tbody tr th:only-of-type {\n",
       "        vertical-align: middle;\n",
       "    }\n",
       "\n",
       "    .dataframe tbody tr th {\n",
       "        vertical-align: top;\n",
       "    }\n",
       "\n",
       "    .dataframe thead th {\n",
       "        text-align: right;\n",
       "    }\n",
       "</style>\n",
       "<table border=\"1\" class=\"dataframe\">\n",
       "  <thead>\n",
       "    <tr style=\"text-align: right;\">\n",
       "      <th></th>\n",
       "      <th>Time</th>\n",
       "      <th>Name</th>\n",
       "      <th>Age</th>\n",
       "      <th>Gender</th>\n",
       "      <th>About_Shopping</th>\n",
       "      <th>Shopping_For</th>\n",
       "      <th>Finding_For</th>\n",
       "      <th>Visiting_Issue</th>\n",
       "      <th>Compared_to_OS</th>\n",
       "      <th>Complacency</th>\n",
       "      <th>Find_ERP</th>\n",
       "      <th>Payment_Complacency</th>\n",
       "      <th>CheckOut_Experience</th>\n",
       "      <th>Product_Receive_TimeLine</th>\n",
       "      <th>Rider_Review</th>\n",
       "      <th>CS_Experience</th>\n",
       "    </tr>\n",
       "  </thead>\n",
       "  <tbody>\n",
       "    <tr>\n",
       "      <th>0</th>\n",
       "      <td>2022/06/17 12:46:08 AM GMT+6</td>\n",
       "      <td>Rajesh Das</td>\n",
       "      <td>25</td>\n",
       "      <td>Male</td>\n",
       "      <td>Newspaper</td>\n",
       "      <td>Friend</td>\n",
       "      <td>Yes</td>\n",
       "      <td>Product Information</td>\n",
       "      <td>Pricing</td>\n",
       "      <td>Neutral</td>\n",
       "      <td>Yes</td>\n",
       "      <td>Very Safe</td>\n",
       "      <td>3</td>\n",
       "      <td>No</td>\n",
       "      <td>2</td>\n",
       "      <td>3</td>\n",
       "    </tr>\n",
       "    <tr>\n",
       "      <th>1</th>\n",
       "      <td>2022/06/17 1:55:46 AM GMT+6</td>\n",
       "      <td>Radhika</td>\n",
       "      <td>22</td>\n",
       "      <td>Female</td>\n",
       "      <td>Social Media</td>\n",
       "      <td>Friend</td>\n",
       "      <td>Yes</td>\n",
       "      <td>Product Information</td>\n",
       "      <td>Website performance</td>\n",
       "      <td>Very satisfied</td>\n",
       "      <td>Yes</td>\n",
       "      <td>Safe</td>\n",
       "      <td>3</td>\n",
       "      <td>Yes</td>\n",
       "      <td>5</td>\n",
       "      <td>5</td>\n",
       "    </tr>\n",
       "    <tr>\n",
       "      <th>2</th>\n",
       "      <td>2022/06/17 1:57:37 AM GMT+6</td>\n",
       "      <td>Ritu</td>\n",
       "      <td>21</td>\n",
       "      <td>Female</td>\n",
       "      <td>Social Media</td>\n",
       "      <td>Friend</td>\n",
       "      <td>Yes</td>\n",
       "      <td>Buying Products</td>\n",
       "      <td>Website performance</td>\n",
       "      <td>Very satisfied</td>\n",
       "      <td>Yes</td>\n",
       "      <td>Safe</td>\n",
       "      <td>5</td>\n",
       "      <td>Yes</td>\n",
       "      <td>5</td>\n",
       "      <td>5</td>\n",
       "    </tr>\n",
       "    <tr>\n",
       "      <th>3</th>\n",
       "      <td>2022/06/17 2:01:02 AM GMT+6</td>\n",
       "      <td>Nandini</td>\n",
       "      <td>24</td>\n",
       "      <td>Female</td>\n",
       "      <td>Friend</td>\n",
       "      <td>Parent</td>\n",
       "      <td>Yes</td>\n",
       "      <td>Buying Products</td>\n",
       "      <td>Website performance</td>\n",
       "      <td>Very satisfied</td>\n",
       "      <td>Yes</td>\n",
       "      <td>Safe</td>\n",
       "      <td>5</td>\n",
       "      <td>Yes</td>\n",
       "      <td>5</td>\n",
       "      <td>5</td>\n",
       "    </tr>\n",
       "    <tr>\n",
       "      <th>4</th>\n",
       "      <td>2022/06/17 2:02:39 AM GMT+6</td>\n",
       "      <td>Ranu mondal</td>\n",
       "      <td>30</td>\n",
       "      <td>Female</td>\n",
       "      <td>Social Media</td>\n",
       "      <td>Colleague</td>\n",
       "      <td>Yes</td>\n",
       "      <td>Product Information</td>\n",
       "      <td>Product catalog</td>\n",
       "      <td>Satisfied</td>\n",
       "      <td>Yes</td>\n",
       "      <td>Very Safe</td>\n",
       "      <td>4</td>\n",
       "      <td>Maybe</td>\n",
       "      <td>4</td>\n",
       "      <td>4</td>\n",
       "    </tr>\n",
       "  </tbody>\n",
       "</table>\n",
       "</div>"
      ],
      "text/plain": [
       "                           Time         Name  Age  Gender About_Shopping  \\\n",
       "0  2022/06/17 12:46:08 AM GMT+6   Rajesh Das   25    Male      Newspaper   \n",
       "1   2022/06/17 1:55:46 AM GMT+6      Radhika   22  Female   Social Media   \n",
       "2   2022/06/17 1:57:37 AM GMT+6         Ritu   21  Female   Social Media   \n",
       "3   2022/06/17 2:01:02 AM GMT+6     Nandini    24  Female         Friend   \n",
       "4   2022/06/17 2:02:39 AM GMT+6  Ranu mondal   30  Female   Social Media   \n",
       "\n",
       "  Shopping_For Finding_For       Visiting_Issue       Compared_to_OS  \\\n",
       "0       Friend         Yes  Product Information              Pricing   \n",
       "1       Friend         Yes  Product Information  Website performance   \n",
       "2       Friend         Yes      Buying Products  Website performance   \n",
       "3       Parent         Yes      Buying Products  Website performance   \n",
       "4    Colleague         Yes  Product Information      Product catalog   \n",
       "\n",
       "      Complacency Find_ERP Payment_Complacency  CheckOut_Experience  \\\n",
       "0         Neutral      Yes           Very Safe                    3   \n",
       "1  Very satisfied      Yes                Safe                    3   \n",
       "2  Very satisfied      Yes                Safe                    5   \n",
       "3  Very satisfied      Yes                Safe                    5   \n",
       "4       Satisfied      Yes           Very Safe                    4   \n",
       "\n",
       "  Product_Receive_TimeLine  Rider_Review  CS_Experience  \n",
       "0                       No             2              3  \n",
       "1                      Yes             5              5  \n",
       "2                      Yes             5              5  \n",
       "3                      Yes             5              5  \n",
       "4                    Maybe             4              4  "
      ]
     },
     "execution_count": 7,
     "metadata": {},
     "output_type": "execute_result"
    }
   ],
   "source": [
    "df.head()"
   ]
  },
  {
   "cell_type": "markdown",
   "id": "6a9136ab",
   "metadata": {},
   "source": [
    "# Drop  Unnecessary Columns"
   ]
  },
  {
   "cell_type": "code",
   "execution_count": 8,
   "id": "f291d149",
   "metadata": {},
   "outputs": [],
   "source": [
    "df1=df.drop([\"Time\",\"Name\"],axis=1)"
   ]
  },
  {
   "cell_type": "code",
   "execution_count": 9,
   "id": "067e0caa",
   "metadata": {},
   "outputs": [
    {
     "data": {
      "text/plain": [
       "(4026, 14)"
      ]
     },
     "execution_count": 9,
     "metadata": {},
     "output_type": "execute_result"
    }
   ],
   "source": [
    "df1.shape"
   ]
  },
  {
   "cell_type": "markdown",
   "id": "75065899",
   "metadata": {},
   "source": [
    "Here are 4026 Row and 14 Columns"
   ]
  },
  {
   "cell_type": "markdown",
   "id": "8ed8ed8b",
   "metadata": {},
   "source": [
    "# Checking data format"
   ]
  },
  {
   "cell_type": "code",
   "execution_count": 10,
   "id": "f807cf1a",
   "metadata": {},
   "outputs": [
    {
     "name": "stdout",
     "output_type": "stream",
     "text": [
      "<class 'pandas.core.frame.DataFrame'>\n",
      "RangeIndex: 4026 entries, 0 to 4025\n",
      "Data columns (total 14 columns):\n",
      " #   Column                    Non-Null Count  Dtype \n",
      "---  ------                    --------------  ----- \n",
      " 0   Age                       4026 non-null   int64 \n",
      " 1   Gender                    4026 non-null   object\n",
      " 2   About_Shopping            4026 non-null   object\n",
      " 3   Shopping_For              4026 non-null   object\n",
      " 4   Finding_For               4026 non-null   object\n",
      " 5   Visiting_Issue            4026 non-null   object\n",
      " 6   Compared_to_OS            4026 non-null   object\n",
      " 7   Complacency               4026 non-null   object\n",
      " 8   Find_ERP                  4026 non-null   object\n",
      " 9   Payment_Complacency       4026 non-null   object\n",
      " 10  CheckOut_Experience       4026 non-null   int64 \n",
      " 11  Product_Receive_TimeLine  4026 non-null   object\n",
      " 12  Rider_Review              4026 non-null   int64 \n",
      " 13  CS_Experience             4026 non-null   int64 \n",
      "dtypes: int64(4), object(10)\n",
      "memory usage: 440.5+ KB\n"
     ]
    }
   ],
   "source": [
    "df1.info()"
   ]
  },
  {
   "cell_type": "markdown",
   "id": "614f8f96",
   "metadata": {},
   "source": [
    "# Basic Statistical Information"
   ]
  },
  {
   "cell_type": "code",
   "execution_count": 11,
   "id": "dca82d71",
   "metadata": {},
   "outputs": [
    {
     "data": {
      "text/html": [
       "<div>\n",
       "<style scoped>\n",
       "    .dataframe tbody tr th:only-of-type {\n",
       "        vertical-align: middle;\n",
       "    }\n",
       "\n",
       "    .dataframe tbody tr th {\n",
       "        vertical-align: top;\n",
       "    }\n",
       "\n",
       "    .dataframe thead th {\n",
       "        text-align: right;\n",
       "    }\n",
       "</style>\n",
       "<table border=\"1\" class=\"dataframe\">\n",
       "  <thead>\n",
       "    <tr style=\"text-align: right;\">\n",
       "      <th></th>\n",
       "      <th>Age</th>\n",
       "      <th>CheckOut_Experience</th>\n",
       "      <th>Rider_Review</th>\n",
       "      <th>CS_Experience</th>\n",
       "    </tr>\n",
       "  </thead>\n",
       "  <tbody>\n",
       "    <tr>\n",
       "      <th>count</th>\n",
       "      <td>4026.000000</td>\n",
       "      <td>4026.000000</td>\n",
       "      <td>4026.000000</td>\n",
       "      <td>4026.000000</td>\n",
       "    </tr>\n",
       "    <tr>\n",
       "      <th>mean</th>\n",
       "      <td>29.962742</td>\n",
       "      <td>4.004719</td>\n",
       "      <td>3.955042</td>\n",
       "      <td>3.614257</td>\n",
       "    </tr>\n",
       "    <tr>\n",
       "      <th>std</th>\n",
       "      <td>9.304836</td>\n",
       "      <td>1.069151</td>\n",
       "      <td>1.085748</td>\n",
       "      <td>1.284977</td>\n",
       "    </tr>\n",
       "    <tr>\n",
       "      <th>min</th>\n",
       "      <td>8.000000</td>\n",
       "      <td>1.000000</td>\n",
       "      <td>1.000000</td>\n",
       "      <td>1.000000</td>\n",
       "    </tr>\n",
       "    <tr>\n",
       "      <th>25%</th>\n",
       "      <td>23.000000</td>\n",
       "      <td>3.000000</td>\n",
       "      <td>3.000000</td>\n",
       "      <td>3.000000</td>\n",
       "    </tr>\n",
       "    <tr>\n",
       "      <th>50%</th>\n",
       "      <td>28.000000</td>\n",
       "      <td>4.000000</td>\n",
       "      <td>4.000000</td>\n",
       "      <td>4.000000</td>\n",
       "    </tr>\n",
       "    <tr>\n",
       "      <th>75%</th>\n",
       "      <td>34.000000</td>\n",
       "      <td>5.000000</td>\n",
       "      <td>5.000000</td>\n",
       "      <td>5.000000</td>\n",
       "    </tr>\n",
       "    <tr>\n",
       "      <th>max</th>\n",
       "      <td>76.000000</td>\n",
       "      <td>5.000000</td>\n",
       "      <td>5.000000</td>\n",
       "      <td>5.000000</td>\n",
       "    </tr>\n",
       "  </tbody>\n",
       "</table>\n",
       "</div>"
      ],
      "text/plain": [
       "               Age  CheckOut_Experience  Rider_Review  CS_Experience\n",
       "count  4026.000000          4026.000000   4026.000000    4026.000000\n",
       "mean     29.962742             4.004719      3.955042       3.614257\n",
       "std       9.304836             1.069151      1.085748       1.284977\n",
       "min       8.000000             1.000000      1.000000       1.000000\n",
       "25%      23.000000             3.000000      3.000000       3.000000\n",
       "50%      28.000000             4.000000      4.000000       4.000000\n",
       "75%      34.000000             5.000000      5.000000       5.000000\n",
       "max      76.000000             5.000000      5.000000       5.000000"
      ]
     },
     "execution_count": 11,
     "metadata": {},
     "output_type": "execute_result"
    }
   ],
   "source": [
    "df1.describe()"
   ]
  },
  {
   "cell_type": "markdown",
   "id": "2e149853",
   "metadata": {},
   "source": [
    "# Checking Null Values"
   ]
  },
  {
   "cell_type": "code",
   "execution_count": 12,
   "id": "49061635",
   "metadata": {},
   "outputs": [
    {
     "data": {
      "image/png": "[encoded data removed]",
      "text/plain": [
       "<Figure size 432x288 with 2 Axes>"
      ]
     },
     "metadata": {
      "needs_background": "light"
     },
     "output_type": "display_data"
    }
   ],
   "source": [
    "sns.heatmap(df1.isnull())\n",
    "plt.show()"
   ]
  },
  {
   "cell_type": "markdown",
   "id": "32844bac",
   "metadata": {},
   "source": [
    "# Check Any Null Value Columns"
   ]
  },
  {
   "cell_type": "code",
   "execution_count": 13,
   "id": "bd3ed6e4",
   "metadata": {},
   "outputs": [
    {
     "data": {
      "text/html": [
       "<div>\n",
       "<style scoped>\n",
       "    .dataframe tbody tr th:only-of-type {\n",
       "        vertical-align: middle;\n",
       "    }\n",
       "\n",
       "    .dataframe tbody tr th {\n",
       "        vertical-align: top;\n",
       "    }\n",
       "\n",
       "    .dataframe thead th {\n",
       "        text-align: right;\n",
       "    }\n",
       "</style>\n",
       "<table border=\"1\" class=\"dataframe\">\n",
       "  <thead>\n",
       "    <tr style=\"text-align: right;\">\n",
       "      <th></th>\n",
       "      <th>Age</th>\n",
       "      <th>Gender</th>\n",
       "      <th>About_Shopping</th>\n",
       "      <th>Shopping_For</th>\n",
       "      <th>Finding_For</th>\n",
       "      <th>Visiting_Issue</th>\n",
       "      <th>Compared_to_OS</th>\n",
       "      <th>Complacency</th>\n",
       "      <th>Find_ERP</th>\n",
       "      <th>Payment_Complacency</th>\n",
       "      <th>CheckOut_Experience</th>\n",
       "      <th>Product_Receive_TimeLine</th>\n",
       "      <th>Rider_Review</th>\n",
       "      <th>CS_Experience</th>\n",
       "    </tr>\n",
       "  </thead>\n",
       "  <tbody>\n",
       "  </tbody>\n",
       "</table>\n",
       "</div>"
      ],
      "text/plain": [
       "Empty DataFrame\n",
       "Columns: [Age, Gender, About_Shopping, Shopping_For, Finding_For, Visiting_Issue, Compared_to_OS, Complacency, Find_ERP, Payment_Complacency, CheckOut_Experience, Product_Receive_TimeLine, Rider_Review, CS_Experience]\n",
       "Index: []"
      ]
     },
     "execution_count": 13,
     "metadata": {},
     "output_type": "execute_result"
    }
   ],
   "source": [
    "df1[df1.isnull().any(axis=1)].head()"
   ]
  },
  {
   "cell_type": "code",
   "execution_count": 14,
   "id": "6995d82c",
   "metadata": {},
   "outputs": [
    {
     "data": {
      "text/plain": [
       "Age                         0\n",
       "Gender                      0\n",
       "About_Shopping              0\n",
       "Shopping_For                0\n",
       "Finding_For                 0\n",
       "Visiting_Issue              0\n",
       "Compared_to_OS              0\n",
       "Complacency                 0\n",
       "Find_ERP                    0\n",
       "Payment_Complacency         0\n",
       "CheckOut_Experience         0\n",
       "Product_Receive_TimeLine    0\n",
       "Rider_Review                0\n",
       "CS_Experience               0\n",
       "dtype: int64"
      ]
     },
     "execution_count": 14,
     "metadata": {},
     "output_type": "execute_result"
    }
   ],
   "source": [
    "df1.isnull().sum()"
   ]
  },
  {
   "cell_type": "code",
   "execution_count": 15,
   "id": "24f81185",
   "metadata": {},
   "outputs": [
    {
     "name": "stdout",
     "output_type": "stream",
     "text": [
      "       Column Name            Data Type            #Distinct          NA Values\n",
      "               Age                int64                 55                  0\n",
      "            Gender               object                  3                  0\n",
      "    About_Shopping               object                  6                  0\n",
      "      Shopping_For               object                  6                  0\n",
      "       Finding_For               object                  3                  0\n",
      "    Visiting_Issue               object                  5                  0\n",
      "    Compared_to_OS               object                  8                  0\n",
      "       Complacency               object                  5                  0\n",
      "          Find_ERP               object                  3                  0\n",
      "Payment_Complacency               object                  5                  0\n",
      "CheckOut_Experience                int64                  5                  0\n",
      "Product_Receive_TimeLine               object                  3                  0\n",
      "      Rider_Review                int64                  5                  0\n",
      "     CS_Experience                int64                  5                  0\n"
     ]
    }
   ],
   "source": [
    "print(\"%18s %20s   %18s %18s\" % (\"Column Name\", \"Data Type\", \"#Distinct\", \"NA Values\"))\n",
    "for col in df1.columns:\n",
    "    dtyp = df1[col].dtype\n",
    "    uniq = df1[col].nunique()\n",
    "    na = df1[col].isna().sum()\n",
    "    print(\"%18s %20s %18s %18s\" % (col, dtyp, uniq, na))"
   ]
  },
  {
   "cell_type": "markdown",
   "id": "fada1095",
   "metadata": {},
   "source": [
    "# Seperate Categorical and Numerical Features"
   ]
  },
  {
   "cell_type": "code",
   "execution_count": 16,
   "id": "854ee328",
   "metadata": {},
   "outputs": [],
   "source": [
    "categorical_features=[]\n",
    "numerical_features=[]"
   ]
  },
  {
   "cell_type": "code",
   "execution_count": 17,
   "id": "04c18d31",
   "metadata": {},
   "outputs": [],
   "source": [
    "for i in df1.columns.tolist():\n",
    "    if df1[i].dtype==\"object\":\n",
    "        categorical_features.append(i)\n",
    "    else:\n",
    "        numerical_features.append(i)"
   ]
  },
  {
   "cell_type": "code",
   "execution_count": 18,
   "id": "f2120234",
   "metadata": {},
   "outputs": [
    {
     "name": "stdout",
     "output_type": "stream",
     "text": [
      "----------------------------------------\n",
      "Numerical Features\n",
      "----------------------------------------\n",
      "Feature:  Age\n",
      "Feature:  CheckOut_Experience\n",
      "Feature:  Rider_Review\n",
      "Feature:  CS_Experience\n"
     ]
    }
   ],
   "source": [
    "print(\"-\"*40)\n",
    "print(\"Numerical Features\")\n",
    "print(\"-\"*40)\n",
    "for i in numerical_features:\n",
    "    print('Feature: ',i)"
   ]
  },
  {
   "cell_type": "code",
   "execution_count": 19,
   "id": "43b26576",
   "metadata": {},
   "outputs": [
    {
     "name": "stdout",
     "output_type": "stream",
     "text": [
      "----------------------------------------\n",
      "Categorical Features\n",
      "----------------------------------------\n",
      "Feature: Gender\n",
      "Feature: About_Shopping\n",
      "Feature: Shopping_For\n",
      "Feature: Finding_For\n",
      "Feature: Visiting_Issue\n",
      "Feature: Compared_to_OS\n",
      "Feature: Complacency\n",
      "Feature: Find_ERP\n",
      "Feature: Payment_Complacency\n",
      "Feature: Product_Receive_TimeLine\n"
     ]
    }
   ],
   "source": [
    "print(\"-\"*40)\n",
    "print(\"Categorical Features\")\n",
    "print(\"-\"*40)\n",
    "for i in categorical_features:\n",
    "    print('Feature:',i)"
   ]
  },
  {
   "cell_type": "markdown",
   "id": "83491fa7",
   "metadata": {},
   "source": [
    "# Checking Unique Value Per Column"
   ]
  },
  {
   "cell_type": "code",
   "execution_count": 20,
   "id": "d2a9f417",
   "metadata": {},
   "outputs": [
    {
     "name": "stdout",
     "output_type": "stream",
     "text": [
      "-------------------\n",
      "Column Name Is Gender\n",
      "-------------------\n",
      "['Male' 'Female' 'Other']\n",
      "-------------------\n",
      "Column Name Is About_Shopping\n",
      "-------------------\n",
      "['Newspaper' 'Social Media' 'Friend' 'TV' 'Other' 'Search Engine']\n",
      "-------------------\n",
      "Column Name Is Shopping_For\n",
      "-------------------\n",
      "['Friend' 'Parent' 'Colleague' 'Boss' 'Other' 'Me']\n",
      "-------------------\n",
      "Column Name Is Finding_For\n",
      "-------------------\n",
      "['Yes' 'Maybe' 'No']\n",
      "-------------------\n",
      "Column Name Is Visiting_Issue\n",
      "-------------------\n",
      "['Product Information' 'Buying Products' 'Contact Information' 'Other'\n",
      " 'About Company']\n",
      "-------------------\n",
      "Column Name Is Compared_to_OS\n",
      "-------------------\n",
      "['Pricing' 'Website performance' 'Product catalog' 'Overall'\n",
      " 'Product information' 'Shipping options' 'Payment experience'\n",
      " 'Online help']\n",
      "-------------------\n",
      "Column Name Is Complacency\n",
      "-------------------\n",
      "['Neutral' 'Very satisfied' 'Satisfied' 'Dissatisfied' 'Very dissatisfied']\n",
      "-------------------\n",
      "Column Name Is Find_ERP\n",
      "-------------------\n",
      "['Yes' 'Maybe' 'No']\n",
      "-------------------\n",
      "Column Name Is Payment_Complacency\n",
      "-------------------\n",
      "['Very Safe' 'Safe' 'Neutral' 'Not Safe' 'Very Unsafe']\n",
      "-------------------\n",
      "Column Name Is CheckOut_Experience\n",
      "-------------------\n",
      "[3 5 4 2 1]\n",
      "-------------------\n",
      "Column Name Is Product_Receive_TimeLine\n",
      "-------------------\n",
      "['No' 'Yes' 'Maybe']\n",
      "-------------------\n",
      "Column Name Is Rider_Review\n",
      "-------------------\n",
      "[2 5 4 3 1]\n",
      "-------------------\n",
      "Column Name Is CS_Experience\n",
      "-------------------\n",
      "[3 5 4 2 1]\n"
     ]
    }
   ],
   "source": [
    "for col in new_columns[3:]:\n",
    "    print(\"-------------------\")\n",
    "    print(\"Column Name Is\",col)\n",
    "    print(\"-------------------\")\n",
    "    print(df1[col].unique())  "
   ]
  },
  {
   "cell_type": "code",
   "execution_count": 21,
   "id": "199fe67f",
   "metadata": {},
   "outputs": [
    {
     "name": "stdout",
     "output_type": "stream",
     "text": [
      "-------------------\n",
      "Column Name Is Gender\n",
      "-------------------\n",
      "Female    2116\n",
      "Male      1904\n",
      "Other        6\n",
      "Name: Gender, dtype: int64\n",
      "-------------------\n",
      "Column Name Is About_Shopping\n",
      "-------------------\n",
      "Social Media     978\n",
      "Friend           850\n",
      "Search Engine    836\n",
      "Newspaper        714\n",
      "TV               388\n",
      "Other            260\n",
      "Name: About_Shopping, dtype: int64\n",
      "-------------------\n",
      "Column Name Is Shopping_For\n",
      "-------------------\n",
      "Parent       898\n",
      "Friend       776\n",
      "Colleague    735\n",
      "Me           674\n",
      "Boss         567\n",
      "Other        376\n",
      "Name: Shopping_For, dtype: int64\n",
      "-------------------\n",
      "Column Name Is Finding_For\n",
      "-------------------\n",
      "Yes      1812\n",
      "Maybe    1144\n",
      "No       1070\n",
      "Name: Finding_For, dtype: int64\n",
      "-------------------\n",
      "Column Name Is Visiting_Issue\n",
      "-------------------\n",
      "Contact Information    947\n",
      "Product Information    934\n",
      "Buying Products        919\n",
      "About Company          856\n",
      "Other                  370\n",
      "Name: Visiting_Issue, dtype: int64\n",
      "-------------------\n",
      "Column Name Is Compared_to_OS\n",
      "-------------------\n",
      "Shipping options       616\n",
      "Product catalog        614\n",
      "Product information    611\n",
      "Pricing                557\n",
      "Payment experience     536\n",
      "Online help            394\n",
      "Website performance    352\n",
      "Overall                346\n",
      "Name: Compared_to_OS, dtype: int64\n",
      "-------------------\n",
      "Column Name Is Complacency\n",
      "-------------------\n",
      "Very satisfied       1462\n",
      "Satisfied            1249\n",
      "Neutral               731\n",
      "Dissatisfied          440\n",
      "Very dissatisfied     144\n",
      "Name: Complacency, dtype: int64\n",
      "-------------------\n",
      "Column Name Is Find_ERP\n",
      "-------------------\n",
      "Yes      1869\n",
      "Maybe    1157\n",
      "No       1000\n",
      "Name: Find_ERP, dtype: int64\n",
      "-------------------\n",
      "Column Name Is Payment_Complacency\n",
      "-------------------\n",
      "Safe           1187\n",
      "Very Safe      1083\n",
      "Neutral         894\n",
      "Not Safe        658\n",
      "Very Unsafe     204\n",
      "Name: Payment_Complacency, dtype: int64\n",
      "-------------------\n",
      "Column Name Is CheckOut_Experience\n",
      "-------------------\n",
      "5    1658\n",
      "4    1265\n",
      "3     683\n",
      "2     304\n",
      "1     116\n",
      "Name: CheckOut_Experience, dtype: int64\n",
      "-------------------\n",
      "Column Name Is Product_Receive_TimeLine\n",
      "-------------------\n",
      "Yes      2492\n",
      "No        818\n",
      "Maybe     716\n",
      "Name: Product_Receive_TimeLine, dtype: int64\n",
      "-------------------\n",
      "Column Name Is Rider_Review\n",
      "-------------------\n",
      "5    1558\n",
      "4    1317\n",
      "3     703\n",
      "2     308\n",
      "1     140\n",
      "Name: Rider_Review, dtype: int64\n",
      "-------------------\n",
      "Column Name Is CS_Experience\n",
      "-------------------\n",
      "5    1342\n",
      "4     977\n",
      "3     835\n",
      "2     556\n",
      "1     316\n",
      "Name: CS_Experience, dtype: int64\n"
     ]
    }
   ],
   "source": [
    "for col in new_columns[3:]:\n",
    "    print(\"-------------------\")\n",
    "    print(\"Column Name Is\",col)\n",
    "    print(\"-------------------\")\n",
    "    print(df1[col].value_counts())  "
   ]
  },
  {
   "cell_type": "markdown",
   "id": "8567a56a",
   "metadata": {},
   "source": [
    "# Co-Relation"
   ]
  },
  {
   "cell_type": "code",
   "execution_count": 22,
   "id": "a3c478c1",
   "metadata": {},
   "outputs": [
    {
     "data": {
      "image/png": "[encoded data removed]",
      "text/plain": [
       "<Figure size 720x360 with 2 Axes>"
      ]
     },
     "metadata": {
      "needs_background": "light"
     },
     "output_type": "display_data"
    }
   ],
   "source": [
    "f,ax = plt.subplots(figsize=(10, 5))\n",
    "sns.heatmap(df1.corr(), annot=True, linewidths=.5, fmt= '.1f',ax=ax)\n",
    "plt.show()"
   ]
  },
  {
   "cell_type": "code",
   "execution_count": 23,
   "id": "31693938",
   "metadata": {},
   "outputs": [
    {
     "data": {
      "text/html": [
       "<div>\n",
       "<style scoped>\n",
       "    .dataframe tbody tr th:only-of-type {\n",
       "        vertical-align: middle;\n",
       "    }\n",
       "\n",
       "    .dataframe tbody tr th {\n",
       "        vertical-align: top;\n",
       "    }\n",
       "\n",
       "    .dataframe thead th {\n",
       "        text-align: right;\n",
       "    }\n",
       "</style>\n",
       "<table border=\"1\" class=\"dataframe\">\n",
       "  <thead>\n",
       "    <tr style=\"text-align: right;\">\n",
       "      <th></th>\n",
       "      <th>Age</th>\n",
       "      <th>Gender</th>\n",
       "      <th>About_Shopping</th>\n",
       "      <th>Shopping_For</th>\n",
       "      <th>Finding_For</th>\n",
       "      <th>Visiting_Issue</th>\n",
       "      <th>Compared_to_OS</th>\n",
       "      <th>Complacency</th>\n",
       "      <th>Find_ERP</th>\n",
       "      <th>Payment_Complacency</th>\n",
       "      <th>CheckOut_Experience</th>\n",
       "      <th>Product_Receive_TimeLine</th>\n",
       "      <th>Rider_Review</th>\n",
       "      <th>CS_Experience</th>\n",
       "    </tr>\n",
       "  </thead>\n",
       "  <tbody>\n",
       "    <tr>\n",
       "      <th>0</th>\n",
       "      <td>25</td>\n",
       "      <td>Male</td>\n",
       "      <td>Newspaper</td>\n",
       "      <td>Friend</td>\n",
       "      <td>Yes</td>\n",
       "      <td>Product Information</td>\n",
       "      <td>Pricing</td>\n",
       "      <td>Neutral</td>\n",
       "      <td>Yes</td>\n",
       "      <td>Very Safe</td>\n",
       "      <td>3</td>\n",
       "      <td>No</td>\n",
       "      <td>2</td>\n",
       "      <td>3</td>\n",
       "    </tr>\n",
       "    <tr>\n",
       "      <th>1</th>\n",
       "      <td>22</td>\n",
       "      <td>Female</td>\n",
       "      <td>Social Media</td>\n",
       "      <td>Friend</td>\n",
       "      <td>Yes</td>\n",
       "      <td>Product Information</td>\n",
       "      <td>Website performance</td>\n",
       "      <td>Very satisfied</td>\n",
       "      <td>Yes</td>\n",
       "      <td>Safe</td>\n",
       "      <td>3</td>\n",
       "      <td>Yes</td>\n",
       "      <td>5</td>\n",
       "      <td>5</td>\n",
       "    </tr>\n",
       "    <tr>\n",
       "      <th>2</th>\n",
       "      <td>21</td>\n",
       "      <td>Female</td>\n",
       "      <td>Social Media</td>\n",
       "      <td>Friend</td>\n",
       "      <td>Yes</td>\n",
       "      <td>Buying Products</td>\n",
       "      <td>Website performance</td>\n",
       "      <td>Very satisfied</td>\n",
       "      <td>Yes</td>\n",
       "      <td>Safe</td>\n",
       "      <td>5</td>\n",
       "      <td>Yes</td>\n",
       "      <td>5</td>\n",
       "      <td>5</td>\n",
       "    </tr>\n",
       "    <tr>\n",
       "      <th>3</th>\n",
       "      <td>24</td>\n",
       "      <td>Female</td>\n",
       "      <td>Friend</td>\n",
       "      <td>Parent</td>\n",
       "      <td>Yes</td>\n",
       "      <td>Buying Products</td>\n",
       "      <td>Website performance</td>\n",
       "      <td>Very satisfied</td>\n",
       "      <td>Yes</td>\n",
       "      <td>Safe</td>\n",
       "      <td>5</td>\n",
       "      <td>Yes</td>\n",
       "      <td>5</td>\n",
       "      <td>5</td>\n",
       "    </tr>\n",
       "    <tr>\n",
       "      <th>4</th>\n",
       "      <td>30</td>\n",
       "      <td>Female</td>\n",
       "      <td>Social Media</td>\n",
       "      <td>Colleague</td>\n",
       "      <td>Yes</td>\n",
       "      <td>Product Information</td>\n",
       "      <td>Product catalog</td>\n",
       "      <td>Satisfied</td>\n",
       "      <td>Yes</td>\n",
       "      <td>Very Safe</td>\n",
       "      <td>4</td>\n",
       "      <td>Maybe</td>\n",
       "      <td>4</td>\n",
       "      <td>4</td>\n",
       "    </tr>\n",
       "  </tbody>\n",
       "</table>\n",
       "</div>"
      ],
      "text/plain": [
       "   Age  Gender About_Shopping Shopping_For Finding_For       Visiting_Issue  \\\n",
       "0   25    Male      Newspaper       Friend         Yes  Product Information   \n",
       "1   22  Female   Social Media       Friend         Yes  Product Information   \n",
       "2   21  Female   Social Media       Friend         Yes      Buying Products   \n",
       "3   24  Female         Friend       Parent         Yes      Buying Products   \n",
       "4   30  Female   Social Media    Colleague         Yes  Product Information   \n",
       "\n",
       "        Compared_to_OS     Complacency Find_ERP Payment_Complacency  \\\n",
       "0              Pricing         Neutral      Yes           Very Safe   \n",
       "1  Website performance  Very satisfied      Yes                Safe   \n",
       "2  Website performance  Very satisfied      Yes                Safe   \n",
       "3  Website performance  Very satisfied      Yes                Safe   \n",
       "4      Product catalog       Satisfied      Yes           Very Safe   \n",
       "\n",
       "   CheckOut_Experience Product_Receive_TimeLine  Rider_Review  CS_Experience  \n",
       "0                    3                       No             2              3  \n",
       "1                    3                      Yes             5              5  \n",
       "2                    5                      Yes             5              5  \n",
       "3                    5                      Yes             5              5  \n",
       "4                    4                    Maybe             4              4  "
      ]
     },
     "execution_count": 23,
     "metadata": {},
     "output_type": "execute_result"
    }
   ],
   "source": [
    "df1.head()"
   ]
  },
  {
   "cell_type": "markdown",
   "id": "723c9fb7",
   "metadata": {},
   "source": [
    "# Explority Data Analysis ( EDA )"
   ]
  },
  {
   "cell_type": "markdown",
   "id": "16098fa3",
   "metadata": {},
   "source": [
    "# Age"
   ]
  },
  {
   "cell_type": "code",
   "execution_count": 24,
   "id": "fd61f29a",
   "metadata": {},
   "outputs": [
    {
     "data": {
      "image/png": "[encoded data removed]",
      "text/plain": [
       "<Figure size 1080x504 with 1 Axes>"
      ]
     },
     "metadata": {
      "needs_background": "light"
     },
     "output_type": "display_data"
    }
   ],
   "source": [
    "plt.figure(figsize=(15,7))\n",
    "sns.countplot('Age',data=df1,hue='Gender')\n",
    "plt.title('Age')\n",
    "plt.xticks(rotation = 90)\n",
    "plt.grid(visible=True)\n",
    "plt.show()"
   ]
  },
  {
   "cell_type": "code",
   "execution_count": 25,
   "id": "1bdd2b39",
   "metadata": {},
   "outputs": [],
   "source": [
    "counts=df1[\"Age\"].value_counts()"
   ]
  },
  {
   "cell_type": "markdown",
   "id": "564812a5",
   "metadata": {},
   "source": [
    "# Remove the Number of Age Counts Less than 6"
   ]
  },
  {
   "cell_type": "code",
   "execution_count": 26,
   "id": "d6dac213",
   "metadata": {},
   "outputs": [],
   "source": [
    "df1 = df1[~df1['Age'].isin(counts[counts < 5].index)]"
   ]
  },
  {
   "cell_type": "code",
   "execution_count": 27,
   "id": "f9d27265",
   "metadata": {},
   "outputs": [
    {
     "data": {
      "image/png": "[encoded data removed]",
      "text/plain": [
       "<Figure size 1080x360 with 1 Axes>"
      ]
     },
     "metadata": {
      "needs_background": "light"
     },
     "output_type": "display_data"
    }
   ],
   "source": [
    "plt.figure(figsize=(15,5))\n",
    "sns.countplot('Age',data=df1,palette='Paired')\n",
    "plt.title('Age')\n",
    "plt.show()"
   ]
  },
  {
   "cell_type": "markdown",
   "id": "b897a467",
   "metadata": {},
   "source": [
    "# Payment_Complacency"
   ]
  },
  {
   "cell_type": "code",
   "execution_count": 28,
   "id": "53d397e0",
   "metadata": {},
   "outputs": [
    {
     "data": {
      "text/plain": [
       "Safe           1185\n",
       "Very Safe      1077\n",
       "Neutral         886\n",
       "Not Safe        646\n",
       "Very Unsafe     204\n",
       "Name: Payment_Complacency, dtype: int64"
      ]
     },
     "execution_count": 28,
     "metadata": {},
     "output_type": "execute_result"
    }
   ],
   "source": [
    "df1[\"Payment_Complacency\"].value_counts()"
   ]
  },
  {
   "cell_type": "code",
   "execution_count": 29,
   "id": "64979680",
   "metadata": {},
   "outputs": [
    {
     "data": {
      "image/png": "[encoded data removed]",
      "text/plain": [
       "<Figure size 360x360 with 1 Axes>"
      ]
     },
     "metadata": {},
     "output_type": "display_data"
    },
    {
     "data": {
      "image/png": "[encoded data removed]",
      "text/plain": [
       "<Figure size 1080x360 with 1 Axes>"
      ]
     },
     "metadata": {
      "needs_background": "light"
     },
     "output_type": "display_data"
    }
   ],
   "source": [
    "plt.figure(figsize=(5,5))\n",
    "plt.pie(list(df1[\"Payment_Complacency\"].value_counts()[0:5]),labels=list(df1[\"Payment_Complacency\"].value_counts()[0:5].keys()),autopct='%0.1f%%')\n",
    "plt.title('Payment_Complacency Percentage')\n",
    "plt.show()\n",
    "\n",
    "plt.figure(figsize=(15,5))\n",
    "sns.countplot('Payment_Complacency',data=df1)\n",
    "plt.title('Payment_Complacency')\n",
    "plt.show()"
   ]
  },
  {
   "cell_type": "markdown",
   "id": "f6030709",
   "metadata": {},
   "source": [
    "# Complacency"
   ]
  },
  {
   "cell_type": "code",
   "execution_count": 30,
   "id": "aa422a2b",
   "metadata": {},
   "outputs": [
    {
     "data": {
      "text/plain": [
       "Very satisfied       1452\n",
       "Satisfied            1245\n",
       "Neutral               725\n",
       "Dissatisfied          434\n",
       "Very dissatisfied     142\n",
       "Name: Complacency, dtype: int64"
      ]
     },
     "execution_count": 30,
     "metadata": {},
     "output_type": "execute_result"
    }
   ],
   "source": [
    "df1[\"Complacency\"].value_counts()"
   ]
  },
  {
   "cell_type": "code",
   "execution_count": 31,
   "id": "8ad4bfce",
   "metadata": {},
   "outputs": [
    {
     "data": {
      "image/png": "[encoded data removed]",
      "text/plain": [
       "<Figure size 360x360 with 1 Axes>"
      ]
     },
     "metadata": {},
     "output_type": "display_data"
    },
    {
     "data": {
      "image/png": "[encoded data removed]",
      "text/plain": [
       "<Figure size 1080x360 with 1 Axes>"
      ]
     },
     "metadata": {
      "needs_background": "light"
     },
     "output_type": "display_data"
    }
   ],
   "source": [
    "plt.figure(figsize=(5,5))\n",
    "plt.pie(list(df1[\"Complacency\"].value_counts()[0:5]),labels=list(df[\"Complacency\"].value_counts()[0:5].keys()),autopct='%0.1f%%')\n",
    "plt.title('Complacency Percentage')\n",
    "plt.show()\n",
    "\n",
    "plt.figure(figsize=(15,5))\n",
    "sns.countplot('Complacency',data=df1)\n",
    "plt.title('Complacency')\n",
    "plt.show()"
   ]
  },
  {
   "cell_type": "markdown",
   "id": "e4621287",
   "metadata": {},
   "source": [
    "# Compared_to_OS"
   ]
  },
  {
   "cell_type": "code",
   "execution_count": 32,
   "id": "bc31669e",
   "metadata": {},
   "outputs": [
    {
     "data": {
      "text/plain": [
       "Product catalog        612\n",
       "Shipping options       612\n",
       "Product information    607\n",
       "Pricing                553\n",
       "Payment experience     528\n",
       "Online help            392\n",
       "Website performance    350\n",
       "Overall                344\n",
       "Name: Compared_to_OS, dtype: int64"
      ]
     },
     "execution_count": 32,
     "metadata": {},
     "output_type": "execute_result"
    }
   ],
   "source": [
    "df1[\"Compared_to_OS\"].value_counts()"
   ]
  },
  {
   "cell_type": "code",
   "execution_count": 33,
   "id": "7bf84f6f",
   "metadata": {},
   "outputs": [
    {
     "data": {
      "image/png": "[encoded data removed]",
      "text/plain": [
       "<Figure size 360x360 with 1 Axes>"
      ]
     },
     "metadata": {},
     "output_type": "display_data"
    },
    {
     "data": {
      "image/png": "[encoded data removed]",
      "text/plain": [
       "<Figure size 1080x360 with 1 Axes>"
      ]
     },
     "metadata": {
      "needs_background": "light"
     },
     "output_type": "display_data"
    }
   ],
   "source": [
    "plt.figure(figsize=(5,5))\n",
    "plt.pie(list(df1[\"Compared_to_OS\"].value_counts()[0:7]),labels=list(df1[\"Compared_to_OS\"].value_counts()[0:7].keys()),autopct='%0.1f%%')\n",
    "plt.title('Compared to OS Percentage')\n",
    "plt.show()\n",
    "\n",
    "plt.figure(figsize=(15,5))\n",
    "sns.countplot('Compared_to_OS',data=df1)\n",
    "plt.title('Compared_to_OS')\n",
    "plt.show()"
   ]
  },
  {
   "cell_type": "markdown",
   "id": "1214d2e9",
   "metadata": {},
   "source": [
    "# Visiting_Issue"
   ]
  },
  {
   "cell_type": "code",
   "execution_count": 34,
   "id": "44e92bc3",
   "metadata": {},
   "outputs": [
    {
     "data": {
      "text/plain": [
       "Contact Information    943\n",
       "Product Information    928\n",
       "Buying Products        909\n",
       "About Company          850\n",
       "Other                  368\n",
       "Name: Visiting_Issue, dtype: int64"
      ]
     },
     "execution_count": 34,
     "metadata": {},
     "output_type": "execute_result"
    }
   ],
   "source": [
    "df1[\"Visiting_Issue\"].value_counts()"
   ]
  },
  {
   "cell_type": "code",
   "execution_count": 35,
   "id": "02ce1090",
   "metadata": {},
   "outputs": [
    {
     "data": {
      "image/png": "[encoded data removed]",
      "text/plain": [
       "<Figure size 720x504 with 1 Axes>"
      ]
     },
     "metadata": {},
     "output_type": "display_data"
    },
    {
     "data": {
      "image/png": "[encoded data removed]",
      "text/plain": [
       "<Figure size 720x504 with 1 Axes>"
      ]
     },
     "metadata": {
      "needs_background": "light"
     },
     "output_type": "display_data"
    }
   ],
   "source": [
    "plt.figure(figsize=(10,7))\n",
    "plt.pie(list(df1[\"Visiting_Issue\"].value_counts()[0:5]),labels=list(df1[\"Visiting_Issue\"].value_counts()[0:5].keys()),autopct='%0.1f%%')\n",
    "plt.title('Visiting Issue Percentage')\n",
    "plt.show()\n",
    "\n",
    "plt.figure(figsize=(10,7))\n",
    "sns.countplot('Visiting_Issue',data=df1)\n",
    "plt.title('Visiting_Issue')\n",
    "plt.show()"
   ]
  },
  {
   "cell_type": "markdown",
   "id": "0a72f7b2",
   "metadata": {},
   "source": [
    "# About_Shopping"
   ]
  },
  {
   "cell_type": "code",
   "execution_count": 36,
   "id": "557dab5b",
   "metadata": {},
   "outputs": [
    {
     "data": {
      "text/plain": [
       "Social Media     974\n",
       "Friend           844\n",
       "Search Engine    836\n",
       "Newspaper        708\n",
       "TV               378\n",
       "Other            258\n",
       "Name: About_Shopping, dtype: int64"
      ]
     },
     "execution_count": 36,
     "metadata": {},
     "output_type": "execute_result"
    }
   ],
   "source": [
    "df1[\"About_Shopping\"].value_counts()"
   ]
  },
  {
   "cell_type": "code",
   "execution_count": 37,
   "id": "57ad86b3",
   "metadata": {},
   "outputs": [
    {
     "data": {
      "image/png": "[encoded data removed]",
      "text/plain": [
       "<Figure size 720x504 with 1 Axes>"
      ]
     },
     "metadata": {},
     "output_type": "display_data"
    },
    {
     "data": {
      "image/png": "[encoded data removed]",
      "text/plain": [
       "<Figure size 720x504 with 1 Axes>"
      ]
     },
     "metadata": {
      "needs_background": "light"
     },
     "output_type": "display_data"
    }
   ],
   "source": [
    "plt.figure(figsize=(10,7))\n",
    "plt.pie(list(df1[\"About_Shopping\"].value_counts()[0:5]),labels=list(df1[\"About_Shopping\"].value_counts()[0:5].keys()),autopct='%0.1f%%')\n",
    "plt.title('About Shopping For Percentage')\n",
    "plt.show()\n",
    "\n",
    "plt.figure(figsize=(10,7))\n",
    "sns.countplot('About_Shopping',data=df)\n",
    "plt.title('About_Shopping')\n",
    "plt.show()"
   ]
  },
  {
   "cell_type": "code",
   "execution_count": 38,
   "id": "0f28e049",
   "metadata": {},
   "outputs": [
    {
     "data": {
      "text/plain": [
       "Female    2106\n",
       "Male      1886\n",
       "Other        6\n",
       "Name: Gender, dtype: int64"
      ]
     },
     "execution_count": 38,
     "metadata": {},
     "output_type": "execute_result"
    }
   ],
   "source": [
    "df1[\"Gender\"].value_counts()"
   ]
  },
  {
   "cell_type": "code",
   "execution_count": 39,
   "id": "dc51fc4c",
   "metadata": {},
   "outputs": [],
   "source": [
    "df1.drop(df1[(df1['Gender'] ==\"Other\")].index, inplace=True)"
   ]
  },
  {
   "cell_type": "code",
   "execution_count": 40,
   "id": "a99b188e",
   "metadata": {},
   "outputs": [
    {
     "data": {
      "text/plain": [
       "Female    2106\n",
       "Male      1886\n",
       "Name: Gender, dtype: int64"
      ]
     },
     "execution_count": 40,
     "metadata": {},
     "output_type": "execute_result"
    }
   ],
   "source": [
    "df1[\"Gender\"].value_counts()"
   ]
  },
  {
   "cell_type": "code",
   "execution_count": 41,
   "id": "864dd500",
   "metadata": {},
   "outputs": [
    {
     "data": {
      "image/png": "[encoded data removed]",
      "text/plain": [
       "<Figure size 720x360 with 2 Axes>"
      ]
     },
     "metadata": {
      "needs_background": "light"
     },
     "output_type": "display_data"
    }
   ],
   "source": [
    "f,ax=plt.subplots(1,2,figsize=(10,5))\n",
    "df1['Gender'].value_counts().plot.pie(explode=[0,0.05],autopct='%1.1f%%',ax=ax[0],shadow=True)\n",
    "ax[0].set_title('Gender')\n",
    "ax[0].set_ylabel('')\n",
    "sns.countplot('Gender',data=df1,ax=ax[1])\n",
    "ax[1].set_title('Gender')\n",
    "plt.show()"
   ]
  },
  {
   "cell_type": "code",
   "execution_count": 42,
   "id": "56fce4f8",
   "metadata": {},
   "outputs": [
    {
     "data": {
      "text/plain": [
       "Parent       894\n",
       "Friend       776\n",
       "Colleague    727\n",
       "Me           654\n",
       "Boss         567\n",
       "Other        374\n",
       "Name: Shopping_For, dtype: int64"
      ]
     },
     "execution_count": 42,
     "metadata": {},
     "output_type": "execute_result"
    }
   ],
   "source": [
    "df1[\"Shopping_For\"].value_counts()"
   ]
  },
  {
   "cell_type": "code",
   "execution_count": 43,
   "id": "8667c660",
   "metadata": {},
   "outputs": [
    {
     "data": {
      "image/png": "[encoded data removed]",
      "text/plain": [
       "<Figure size 504x504 with 1 Axes>"
      ]
     },
     "metadata": {},
     "output_type": "display_data"
    },
    {
     "data": {
      "image/png": "[encoded data removed]",
      "text/plain": [
       "<Figure size 432x288 with 1 Axes>"
      ]
     },
     "metadata": {
      "needs_background": "light"
     },
     "output_type": "display_data"
    }
   ],
   "source": [
    "plt.figure(figsize=(7,7))\n",
    "plt.pie(list(df1[\"Shopping_For\"].value_counts()[0:6]),labels=list(df1[\"Shopping_For\"].value_counts()[0:6].keys()),autopct='%0.1f%%')\n",
    "plt.title('Shopping For Percentage')\n",
    "plt.show()\n",
    "\n",
    "sns.countplot('Shopping_For',data=df1,palette='dark')\n",
    "plt.title('Shopping_For')\n",
    "plt.show()"
   ]
  },
  {
   "cell_type": "markdown",
   "id": "e83a9eae",
   "metadata": {},
   "source": [
    "# Separate X and Y"
   ]
  },
  {
   "cell_type": "code",
   "execution_count": 44,
   "id": "ccd7fd66",
   "metadata": {},
   "outputs": [],
   "source": [
    "target=df1[\"Complacency\"]"
   ]
  },
  {
   "cell_type": "code",
   "execution_count": 45,
   "id": "27593f24",
   "metadata": {},
   "outputs": [],
   "source": [
    "features=df1.drop([\"Complacency\"],axis=1)"
   ]
  },
  {
   "cell_type": "code",
   "execution_count": 46,
   "id": "b51c21f3",
   "metadata": {},
   "outputs": [
    {
     "data": {
      "text/plain": [
       "Index(['Age', 'Gender', 'About_Shopping', 'Shopping_For', 'Finding_For',\n",
       "       'Visiting_Issue', 'Compared_to_OS', 'Find_ERP', 'Payment_Complacency',\n",
       "       'CheckOut_Experience', 'Product_Receive_TimeLine', 'Rider_Review',\n",
       "       'CS_Experience'],\n",
       "      dtype='object')"
      ]
     },
     "execution_count": 46,
     "metadata": {},
     "output_type": "execute_result"
    }
   ],
   "source": [
    "features.columns"
   ]
  },
  {
   "cell_type": "code",
   "execution_count": 47,
   "id": "b48d381d",
   "metadata": {},
   "outputs": [],
   "source": [
    "Features_categorical_features=[]\n",
    "Features_numerical_features=[]"
   ]
  },
  {
   "cell_type": "code",
   "execution_count": 48,
   "id": "25c4230a",
   "metadata": {},
   "outputs": [],
   "source": [
    "for i in features.columns.tolist():\n",
    "    if features[i].dtype==\"object\":\n",
    "        Features_categorical_features.append(i)\n",
    "    else:\n",
    "        Features_numerical_features.append(i)"
   ]
  },
  {
   "cell_type": "code",
   "execution_count": 49,
   "id": "ba6bf67c",
   "metadata": {},
   "outputs": [
    {
     "data": {
      "text/plain": [
       "['Age', 'CheckOut_Experience', 'Rider_Review', 'CS_Experience']"
      ]
     },
     "execution_count": 49,
     "metadata": {},
     "output_type": "execute_result"
    }
   ],
   "source": [
    "Features_numerical_features"
   ]
  },
  {
   "cell_type": "code",
   "execution_count": 50,
   "id": "ab079f78",
   "metadata": {},
   "outputs": [
    {
     "data": {
      "text/plain": [
       "['Gender',\n",
       " 'About_Shopping',\n",
       " 'Shopping_For',\n",
       " 'Finding_For',\n",
       " 'Visiting_Issue',\n",
       " 'Compared_to_OS',\n",
       " 'Find_ERP',\n",
       " 'Payment_Complacency',\n",
       " 'Product_Receive_TimeLine']"
      ]
     },
     "execution_count": 50,
     "metadata": {},
     "output_type": "execute_result"
    }
   ],
   "source": [
    "Features_categorical_features"
   ]
  },
  {
   "cell_type": "code",
   "execution_count": 51,
   "id": "f8acc850",
   "metadata": {},
   "outputs": [],
   "source": [
    "le=LabelEncoder()\n",
    "for i in Features_categorical_features:\n",
    "    features[i]=le.fit_transform(features[i])"
   ]
  },
  {
   "cell_type": "code",
   "execution_count": 52,
   "id": "b16cd287",
   "metadata": {},
   "outputs": [
    {
     "data": {
      "text/html": [
       "<div>\n",
       "<style scoped>\n",
       "    .dataframe tbody tr th:only-of-type {\n",
       "        vertical-align: middle;\n",
       "    }\n",
       "\n",
       "    .dataframe tbody tr th {\n",
       "        vertical-align: top;\n",
       "    }\n",
       "\n",
       "    .dataframe thead th {\n",
       "        text-align: right;\n",
       "    }\n",
       "</style>\n",
       "<table border=\"1\" class=\"dataframe\">\n",
       "  <thead>\n",
       "    <tr style=\"text-align: right;\">\n",
       "      <th></th>\n",
       "      <th>Age</th>\n",
       "      <th>Gender</th>\n",
       "      <th>About_Shopping</th>\n",
       "      <th>Shopping_For</th>\n",
       "      <th>Finding_For</th>\n",
       "      <th>Visiting_Issue</th>\n",
       "      <th>Compared_to_OS</th>\n",
       "      <th>Find_ERP</th>\n",
       "      <th>Payment_Complacency</th>\n",
       "      <th>CheckOut_Experience</th>\n",
       "      <th>Product_Receive_TimeLine</th>\n",
       "      <th>Rider_Review</th>\n",
       "      <th>CS_Experience</th>\n",
       "    </tr>\n",
       "  </thead>\n",
       "  <tbody>\n",
       "    <tr>\n",
       "      <th>0</th>\n",
       "      <td>25</td>\n",
       "      <td>1</td>\n",
       "      <td>1</td>\n",
       "      <td>2</td>\n",
       "      <td>2</td>\n",
       "      <td>4</td>\n",
       "      <td>3</td>\n",
       "      <td>2</td>\n",
       "      <td>3</td>\n",
       "      <td>3</td>\n",
       "      <td>1</td>\n",
       "      <td>2</td>\n",
       "      <td>3</td>\n",
       "    </tr>\n",
       "    <tr>\n",
       "      <th>1</th>\n",
       "      <td>22</td>\n",
       "      <td>0</td>\n",
       "      <td>4</td>\n",
       "      <td>2</td>\n",
       "      <td>2</td>\n",
       "      <td>4</td>\n",
       "      <td>7</td>\n",
       "      <td>2</td>\n",
       "      <td>2</td>\n",
       "      <td>3</td>\n",
       "      <td>2</td>\n",
       "      <td>5</td>\n",
       "      <td>5</td>\n",
       "    </tr>\n",
       "    <tr>\n",
       "      <th>2</th>\n",
       "      <td>21</td>\n",
       "      <td>0</td>\n",
       "      <td>4</td>\n",
       "      <td>2</td>\n",
       "      <td>2</td>\n",
       "      <td>1</td>\n",
       "      <td>7</td>\n",
       "      <td>2</td>\n",
       "      <td>2</td>\n",
       "      <td>5</td>\n",
       "      <td>2</td>\n",
       "      <td>5</td>\n",
       "      <td>5</td>\n",
       "    </tr>\n",
       "    <tr>\n",
       "      <th>3</th>\n",
       "      <td>24</td>\n",
       "      <td>0</td>\n",
       "      <td>0</td>\n",
       "      <td>5</td>\n",
       "      <td>2</td>\n",
       "      <td>1</td>\n",
       "      <td>7</td>\n",
       "      <td>2</td>\n",
       "      <td>2</td>\n",
       "      <td>5</td>\n",
       "      <td>2</td>\n",
       "      <td>5</td>\n",
       "      <td>5</td>\n",
       "    </tr>\n",
       "    <tr>\n",
       "      <th>4</th>\n",
       "      <td>30</td>\n",
       "      <td>0</td>\n",
       "      <td>4</td>\n",
       "      <td>1</td>\n",
       "      <td>2</td>\n",
       "      <td>4</td>\n",
       "      <td>4</td>\n",
       "      <td>2</td>\n",
       "      <td>3</td>\n",
       "      <td>4</td>\n",
       "      <td>0</td>\n",
       "      <td>4</td>\n",
       "      <td>4</td>\n",
       "    </tr>\n",
       "  </tbody>\n",
       "</table>\n",
       "</div>"
      ],
      "text/plain": [
       "   Age  Gender  About_Shopping  Shopping_For  Finding_For  Visiting_Issue  \\\n",
       "0   25       1               1             2            2               4   \n",
       "1   22       0               4             2            2               4   \n",
       "2   21       0               4             2            2               1   \n",
       "3   24       0               0             5            2               1   \n",
       "4   30       0               4             1            2               4   \n",
       "\n",
       "   Compared_to_OS  Find_ERP  Payment_Complacency  CheckOut_Experience  \\\n",
       "0               3         2                    3                    3   \n",
       "1               7         2                    2                    3   \n",
       "2               7         2                    2                    5   \n",
       "3               7         2                    2                    5   \n",
       "4               4         2                    3                    4   \n",
       "\n",
       "   Product_Receive_TimeLine  Rider_Review  CS_Experience  \n",
       "0                         1             2              3  \n",
       "1                         2             5              5  \n",
       "2                         2             5              5  \n",
       "3                         2             5              5  \n",
       "4                         0             4              4  "
      ]
     },
     "execution_count": 52,
     "metadata": {},
     "output_type": "execute_result"
    }
   ],
   "source": [
    "features.head()"
   ]
  },
  {
   "cell_type": "markdown",
   "id": "9e168287",
   "metadata": {},
   "source": [
    "# Feature Selection"
   ]
  },
  {
   "cell_type": "code",
   "execution_count": 53,
   "id": "554eaf24",
   "metadata": {},
   "outputs": [],
   "source": [
    "from sklearn.feature_selection import SelectKBest\n",
    "from sklearn.feature_selection import f_classif\n",
    "\n",
    "test = SelectKBest(score_func=f_classif, k=4)\n",
    "fit_features = test.fit(features,target)\n",
    "score_col=pd.DataFrame(fit_features.scores_,columns=[\"Score_Value\"])"
   ]
  },
  {
   "cell_type": "code",
   "execution_count": 54,
   "id": "8d3379c2",
   "metadata": {},
   "outputs": [
    {
     "data": {
      "text/html": [
       "<div>\n",
       "<style scoped>\n",
       "    .dataframe tbody tr th:only-of-type {\n",
       "        vertical-align: middle;\n",
       "    }\n",
       "\n",
       "    .dataframe tbody tr th {\n",
       "        vertical-align: top;\n",
       "    }\n",
       "\n",
       "    .dataframe thead th {\n",
       "        text-align: right;\n",
       "    }\n",
       "</style>\n",
       "<table border=\"1\" class=\"dataframe\">\n",
       "  <thead>\n",
       "    <tr style=\"text-align: right;\">\n",
       "      <th></th>\n",
       "      <th>Score_Value</th>\n",
       "    </tr>\n",
       "  </thead>\n",
       "  <tbody>\n",
       "    <tr>\n",
       "      <th>0</th>\n",
       "      <td>12.895992</td>\n",
       "    </tr>\n",
       "    <tr>\n",
       "      <th>1</th>\n",
       "      <td>13.293842</td>\n",
       "    </tr>\n",
       "    <tr>\n",
       "      <th>2</th>\n",
       "      <td>2.068506</td>\n",
       "    </tr>\n",
       "    <tr>\n",
       "      <th>3</th>\n",
       "      <td>1.051593</td>\n",
       "    </tr>\n",
       "    <tr>\n",
       "      <th>4</th>\n",
       "      <td>12.172703</td>\n",
       "    </tr>\n",
       "  </tbody>\n",
       "</table>\n",
       "</div>"
      ],
      "text/plain": [
       "   Score_Value\n",
       "0    12.895992\n",
       "1    13.293842\n",
       "2     2.068506\n",
       "3     1.051593\n",
       "4    12.172703"
      ]
     },
     "execution_count": 54,
     "metadata": {},
     "output_type": "execute_result"
    }
   ],
   "source": [
    "score_col.head()"
   ]
  },
  {
   "cell_type": "code",
   "execution_count": 55,
   "id": "b3ecd96c",
   "metadata": {},
   "outputs": [
    {
     "data": {
      "text/html": [
       "<div>\n",
       "<style scoped>\n",
       "    .dataframe tbody tr th:only-of-type {\n",
       "        vertical-align: middle;\n",
       "    }\n",
       "\n",
       "    .dataframe tbody tr th {\n",
       "        vertical-align: top;\n",
       "    }\n",
       "\n",
       "    .dataframe thead th {\n",
       "        text-align: right;\n",
       "    }\n",
       "</style>\n",
       "<table border=\"1\" class=\"dataframe\">\n",
       "  <thead>\n",
       "    <tr style=\"text-align: right;\">\n",
       "      <th></th>\n",
       "      <th>0</th>\n",
       "    </tr>\n",
       "  </thead>\n",
       "  <tbody>\n",
       "    <tr>\n",
       "      <th>0</th>\n",
       "      <td>Age</td>\n",
       "    </tr>\n",
       "    <tr>\n",
       "      <th>1</th>\n",
       "      <td>Gender</td>\n",
       "    </tr>\n",
       "    <tr>\n",
       "      <th>2</th>\n",
       "      <td>About_Shopping</td>\n",
       "    </tr>\n",
       "    <tr>\n",
       "      <th>3</th>\n",
       "      <td>Shopping_For</td>\n",
       "    </tr>\n",
       "    <tr>\n",
       "      <th>4</th>\n",
       "      <td>Finding_For</td>\n",
       "    </tr>\n",
       "    <tr>\n",
       "      <th>5</th>\n",
       "      <td>Visiting_Issue</td>\n",
       "    </tr>\n",
       "    <tr>\n",
       "      <th>6</th>\n",
       "      <td>Compared_to_OS</td>\n",
       "    </tr>\n",
       "    <tr>\n",
       "      <th>7</th>\n",
       "      <td>Find_ERP</td>\n",
       "    </tr>\n",
       "    <tr>\n",
       "      <th>8</th>\n",
       "      <td>Payment_Complacency</td>\n",
       "    </tr>\n",
       "    <tr>\n",
       "      <th>9</th>\n",
       "      <td>CheckOut_Experience</td>\n",
       "    </tr>\n",
       "    <tr>\n",
       "      <th>10</th>\n",
       "      <td>Product_Receive_TimeLine</td>\n",
       "    </tr>\n",
       "    <tr>\n",
       "      <th>11</th>\n",
       "      <td>Rider_Review</td>\n",
       "    </tr>\n",
       "    <tr>\n",
       "      <th>12</th>\n",
       "      <td>CS_Experience</td>\n",
       "    </tr>\n",
       "  </tbody>\n",
       "</table>\n",
       "</div>"
      ],
      "text/plain": [
       "                           0\n",
       "0                        Age\n",
       "1                     Gender\n",
       "2             About_Shopping\n",
       "3               Shopping_For\n",
       "4                Finding_For\n",
       "5             Visiting_Issue\n",
       "6             Compared_to_OS\n",
       "7                   Find_ERP\n",
       "8        Payment_Complacency\n",
       "9        CheckOut_Experience\n",
       "10  Product_Receive_TimeLine\n",
       "11              Rider_Review\n",
       "12             CS_Experience"
      ]
     },
     "execution_count": 55,
     "metadata": {},
     "output_type": "execute_result"
    }
   ],
   "source": [
    "Name_col=pd.DataFrame(features.columns)\n",
    "Name_col"
   ]
  },
  {
   "cell_type": "code",
   "execution_count": 56,
   "id": "94144083",
   "metadata": {},
   "outputs": [
    {
     "data": {
      "text/html": [
       "<div>\n",
       "<style scoped>\n",
       "    .dataframe tbody tr th:only-of-type {\n",
       "        vertical-align: middle;\n",
       "    }\n",
       "\n",
       "    .dataframe tbody tr th {\n",
       "        vertical-align: top;\n",
       "    }\n",
       "\n",
       "    .dataframe thead th {\n",
       "        text-align: right;\n",
       "    }\n",
       "</style>\n",
       "<table border=\"1\" class=\"dataframe\">\n",
       "  <thead>\n",
       "    <tr style=\"text-align: right;\">\n",
       "      <th></th>\n",
       "      <th>0</th>\n",
       "      <th>Score_Value</th>\n",
       "    </tr>\n",
       "  </thead>\n",
       "  <tbody>\n",
       "    <tr>\n",
       "      <th>0</th>\n",
       "      <td>Age</td>\n",
       "      <td>12.895992</td>\n",
       "    </tr>\n",
       "    <tr>\n",
       "      <th>1</th>\n",
       "      <td>Gender</td>\n",
       "      <td>13.293842</td>\n",
       "    </tr>\n",
       "    <tr>\n",
       "      <th>2</th>\n",
       "      <td>About_Shopping</td>\n",
       "      <td>2.068506</td>\n",
       "    </tr>\n",
       "    <tr>\n",
       "      <th>3</th>\n",
       "      <td>Shopping_For</td>\n",
       "      <td>1.051593</td>\n",
       "    </tr>\n",
       "    <tr>\n",
       "      <th>4</th>\n",
       "      <td>Finding_For</td>\n",
       "      <td>12.172703</td>\n",
       "    </tr>\n",
       "    <tr>\n",
       "      <th>5</th>\n",
       "      <td>Visiting_Issue</td>\n",
       "      <td>6.059322</td>\n",
       "    </tr>\n",
       "    <tr>\n",
       "      <th>6</th>\n",
       "      <td>Compared_to_OS</td>\n",
       "      <td>32.164739</td>\n",
       "    </tr>\n",
       "    <tr>\n",
       "      <th>7</th>\n",
       "      <td>Find_ERP</td>\n",
       "      <td>5.672012</td>\n",
       "    </tr>\n",
       "    <tr>\n",
       "      <th>8</th>\n",
       "      <td>Payment_Complacency</td>\n",
       "      <td>13.094801</td>\n",
       "    </tr>\n",
       "    <tr>\n",
       "      <th>9</th>\n",
       "      <td>CheckOut_Experience</td>\n",
       "      <td>23.286876</td>\n",
       "    </tr>\n",
       "    <tr>\n",
       "      <th>10</th>\n",
       "      <td>Product_Receive_TimeLine</td>\n",
       "      <td>16.760688</td>\n",
       "    </tr>\n",
       "    <tr>\n",
       "      <th>11</th>\n",
       "      <td>Rider_Review</td>\n",
       "      <td>12.766060</td>\n",
       "    </tr>\n",
       "    <tr>\n",
       "      <th>12</th>\n",
       "      <td>CS_Experience</td>\n",
       "      <td>12.886671</td>\n",
       "    </tr>\n",
       "  </tbody>\n",
       "</table>\n",
       "</div>"
      ],
      "text/plain": [
       "                           0  Score_Value\n",
       "0                        Age    12.895992\n",
       "1                     Gender    13.293842\n",
       "2             About_Shopping     2.068506\n",
       "3               Shopping_For     1.051593\n",
       "4                Finding_For    12.172703\n",
       "5             Visiting_Issue     6.059322\n",
       "6             Compared_to_OS    32.164739\n",
       "7                   Find_ERP     5.672012\n",
       "8        Payment_Complacency    13.094801\n",
       "9        CheckOut_Experience    23.286876\n",
       "10  Product_Receive_TimeLine    16.760688\n",
       "11              Rider_Review    12.766060\n",
       "12             CS_Experience    12.886671"
      ]
     },
     "execution_count": 56,
     "metadata": {},
     "output_type": "execute_result"
    }
   ],
   "source": [
    "top_features=pd.concat([Name_col,score_col],axis=1)\n",
    "top_features"
   ]
  },
  {
   "cell_type": "code",
   "execution_count": 57,
   "id": "ef378fca",
   "metadata": {},
   "outputs": [],
   "source": [
    "top_features.columns=[\"Name\",\"Score Value\"]"
   ]
  },
  {
   "cell_type": "code",
   "execution_count": 58,
   "id": "5b5e83b7",
   "metadata": {},
   "outputs": [
    {
     "data": {
      "text/html": [
       "<div>\n",
       "<style scoped>\n",
       "    .dataframe tbody tr th:only-of-type {\n",
       "        vertical-align: middle;\n",
       "    }\n",
       "\n",
       "    .dataframe tbody tr th {\n",
       "        vertical-align: top;\n",
       "    }\n",
       "\n",
       "    .dataframe thead th {\n",
       "        text-align: right;\n",
       "    }\n",
       "</style>\n",
       "<table border=\"1\" class=\"dataframe\">\n",
       "  <thead>\n",
       "    <tr style=\"text-align: right;\">\n",
       "      <th></th>\n",
       "      <th>Name</th>\n",
       "      <th>Score Value</th>\n",
       "    </tr>\n",
       "  </thead>\n",
       "  <tbody>\n",
       "    <tr>\n",
       "      <th>6</th>\n",
       "      <td>Compared_to_OS</td>\n",
       "      <td>32.164739</td>\n",
       "    </tr>\n",
       "    <tr>\n",
       "      <th>9</th>\n",
       "      <td>CheckOut_Experience</td>\n",
       "      <td>23.286876</td>\n",
       "    </tr>\n",
       "    <tr>\n",
       "      <th>10</th>\n",
       "      <td>Product_Receive_TimeLine</td>\n",
       "      <td>16.760688</td>\n",
       "    </tr>\n",
       "    <tr>\n",
       "      <th>1</th>\n",
       "      <td>Gender</td>\n",
       "      <td>13.293842</td>\n",
       "    </tr>\n",
       "    <tr>\n",
       "      <th>8</th>\n",
       "      <td>Payment_Complacency</td>\n",
       "      <td>13.094801</td>\n",
       "    </tr>\n",
       "    <tr>\n",
       "      <th>0</th>\n",
       "      <td>Age</td>\n",
       "      <td>12.895992</td>\n",
       "    </tr>\n",
       "    <tr>\n",
       "      <th>12</th>\n",
       "      <td>CS_Experience</td>\n",
       "      <td>12.886671</td>\n",
       "    </tr>\n",
       "    <tr>\n",
       "      <th>11</th>\n",
       "      <td>Rider_Review</td>\n",
       "      <td>12.766060</td>\n",
       "    </tr>\n",
       "    <tr>\n",
       "      <th>4</th>\n",
       "      <td>Finding_For</td>\n",
       "      <td>12.172703</td>\n",
       "    </tr>\n",
       "    <tr>\n",
       "      <th>5</th>\n",
       "      <td>Visiting_Issue</td>\n",
       "      <td>6.059322</td>\n",
       "    </tr>\n",
       "    <tr>\n",
       "      <th>7</th>\n",
       "      <td>Find_ERP</td>\n",
       "      <td>5.672012</td>\n",
       "    </tr>\n",
       "    <tr>\n",
       "      <th>2</th>\n",
       "      <td>About_Shopping</td>\n",
       "      <td>2.068506</td>\n",
       "    </tr>\n",
       "    <tr>\n",
       "      <th>3</th>\n",
       "      <td>Shopping_For</td>\n",
       "      <td>1.051593</td>\n",
       "    </tr>\n",
       "  </tbody>\n",
       "</table>\n",
       "</div>"
      ],
      "text/plain": [
       "                        Name  Score Value\n",
       "6             Compared_to_OS    32.164739\n",
       "9        CheckOut_Experience    23.286876\n",
       "10  Product_Receive_TimeLine    16.760688\n",
       "1                     Gender    13.293842\n",
       "8        Payment_Complacency    13.094801\n",
       "0                        Age    12.895992\n",
       "12             CS_Experience    12.886671\n",
       "11              Rider_Review    12.766060\n",
       "4                Finding_For    12.172703\n",
       "5             Visiting_Issue     6.059322\n",
       "7                   Find_ERP     5.672012\n",
       "2             About_Shopping     2.068506\n",
       "3               Shopping_For     1.051593"
      ]
     },
     "execution_count": 58,
     "metadata": {},
     "output_type": "execute_result"
    }
   ],
   "source": [
    "top_features.sort_values( by = 'Score Value' , ascending = False , inplace = True)\n",
    "top_features"
   ]
  },
  {
   "cell_type": "code",
   "execution_count": 59,
   "id": "3bad8484",
   "metadata": {},
   "outputs": [
    {
     "data": {
      "text/plain": [
       "Age                         int64\n",
       "Gender                      int32\n",
       "About_Shopping              int32\n",
       "Shopping_For                int32\n",
       "Finding_For                 int32\n",
       "Visiting_Issue              int32\n",
       "Compared_to_OS              int32\n",
       "Find_ERP                    int32\n",
       "Payment_Complacency         int32\n",
       "CheckOut_Experience         int64\n",
       "Product_Receive_TimeLine    int32\n",
       "Rider_Review                int64\n",
       "CS_Experience               int64\n",
       "dtype: object"
      ]
     },
     "execution_count": 59,
     "metadata": {},
     "output_type": "execute_result"
    }
   ],
   "source": [
    "features.dtypes"
   ]
  },
  {
   "cell_type": "markdown",
   "id": "8701152c",
   "metadata": {},
   "source": [
    "# Dropping Less Importants Column"
   ]
  },
  {
   "cell_type": "code",
   "execution_count": 60,
   "id": "98fe8763",
   "metadata": {},
   "outputs": [],
   "source": [
    "top_features=features.drop([\"Shopping_For\",\"About_Shopping\",\"Find_ERP\",\"Visiting_Issue\",\"Finding_For\"],axis=1)"
   ]
  },
  {
   "cell_type": "code",
   "execution_count": 61,
   "id": "586d7026",
   "metadata": {},
   "outputs": [
    {
     "data": {
      "text/html": [
       "<div>\n",
       "<style scoped>\n",
       "    .dataframe tbody tr th:only-of-type {\n",
       "        vertical-align: middle;\n",
       "    }\n",
       "\n",
       "    .dataframe tbody tr th {\n",
       "        vertical-align: top;\n",
       "    }\n",
       "\n",
       "    .dataframe thead th {\n",
       "        text-align: right;\n",
       "    }\n",
       "</style>\n",
       "<table border=\"1\" class=\"dataframe\">\n",
       "  <thead>\n",
       "    <tr style=\"text-align: right;\">\n",
       "      <th></th>\n",
       "      <th>Age</th>\n",
       "      <th>Gender</th>\n",
       "      <th>Compared_to_OS</th>\n",
       "      <th>Payment_Complacency</th>\n",
       "      <th>CheckOut_Experience</th>\n",
       "      <th>Product_Receive_TimeLine</th>\n",
       "      <th>Rider_Review</th>\n",
       "      <th>CS_Experience</th>\n",
       "    </tr>\n",
       "  </thead>\n",
       "  <tbody>\n",
       "    <tr>\n",
       "      <th>0</th>\n",
       "      <td>25</td>\n",
       "      <td>1</td>\n",
       "      <td>3</td>\n",
       "      <td>3</td>\n",
       "      <td>3</td>\n",
       "      <td>1</td>\n",
       "      <td>2</td>\n",
       "      <td>3</td>\n",
       "    </tr>\n",
       "    <tr>\n",
       "      <th>1</th>\n",
       "      <td>22</td>\n",
       "      <td>0</td>\n",
       "      <td>7</td>\n",
       "      <td>2</td>\n",
       "      <td>3</td>\n",
       "      <td>2</td>\n",
       "      <td>5</td>\n",
       "      <td>5</td>\n",
       "    </tr>\n",
       "    <tr>\n",
       "      <th>2</th>\n",
       "      <td>21</td>\n",
       "      <td>0</td>\n",
       "      <td>7</td>\n",
       "      <td>2</td>\n",
       "      <td>5</td>\n",
       "      <td>2</td>\n",
       "      <td>5</td>\n",
       "      <td>5</td>\n",
       "    </tr>\n",
       "    <tr>\n",
       "      <th>3</th>\n",
       "      <td>24</td>\n",
       "      <td>0</td>\n",
       "      <td>7</td>\n",
       "      <td>2</td>\n",
       "      <td>5</td>\n",
       "      <td>2</td>\n",
       "      <td>5</td>\n",
       "      <td>5</td>\n",
       "    </tr>\n",
       "    <tr>\n",
       "      <th>4</th>\n",
       "      <td>30</td>\n",
       "      <td>0</td>\n",
       "      <td>4</td>\n",
       "      <td>3</td>\n",
       "      <td>4</td>\n",
       "      <td>0</td>\n",
       "      <td>4</td>\n",
       "      <td>4</td>\n",
       "    </tr>\n",
       "  </tbody>\n",
       "</table>\n",
       "</div>"
      ],
      "text/plain": [
       "   Age  Gender  Compared_to_OS  Payment_Complacency  CheckOut_Experience  \\\n",
       "0   25       1               3                    3                    3   \n",
       "1   22       0               7                    2                    3   \n",
       "2   21       0               7                    2                    5   \n",
       "3   24       0               7                    2                    5   \n",
       "4   30       0               4                    3                    4   \n",
       "\n",
       "   Product_Receive_TimeLine  Rider_Review  CS_Experience  \n",
       "0                         1             2              3  \n",
       "1                         2             5              5  \n",
       "2                         2             5              5  \n",
       "3                         2             5              5  \n",
       "4                         0             4              4  "
      ]
     },
     "execution_count": 61,
     "metadata": {},
     "output_type": "execute_result"
    }
   ],
   "source": [
    "top_features.head()"
   ]
  },
  {
   "cell_type": "markdown",
   "id": "447bc56c",
   "metadata": {},
   "source": [
    "# Normalization of the Dataset"
   ]
  },
  {
   "cell_type": "code",
   "execution_count": 62,
   "id": "693b0242",
   "metadata": {},
   "outputs": [
    {
     "data": {
      "text/plain": [
       "array([[-5.40037370e-01,  1.05671614e+00, -3.17286898e-01,\n",
       "         1.01789222e+00, -9.34875669e-01, -5.79553144e-01,\n",
       "        -1.79957325e+00, -4.75973434e-01],\n",
       "       [-8.73791501e-01, -9.46327936e-01,  1.57883481e+00,\n",
       "         1.92160510e-01, -9.34875669e-01,  7.15842237e-01,\n",
       "         9.65236145e-01,  1.08083603e+00],\n",
       "       [-9.85042878e-01, -9.46327936e-01,  1.57883481e+00,\n",
       "         1.92160510e-01,  9.32536726e-01,  7.15842237e-01,\n",
       "         9.65236145e-01,  1.08083603e+00],\n",
       "       [-6.51288747e-01, -9.46327936e-01,  1.57883481e+00,\n",
       "         1.92160510e-01,  9.32536726e-01,  7.15842237e-01,\n",
       "         9.65236145e-01,  1.08083603e+00],\n",
       "       [ 1.62195144e-02, -9.46327936e-01,  1.56743528e-01,\n",
       "         1.01789222e+00, -1.16947169e-03, -1.87494852e+00,\n",
       "         4.36330140e-02,  3.02431297e-01]])"
      ]
     },
     "execution_count": 62,
     "metadata": {},
     "output_type": "execute_result"
    }
   ],
   "source": [
    "from sklearn.preprocessing import StandardScaler\n",
    "X_norm=StandardScaler().fit_transform(top_features)\n",
    "X_norm[0:5]"
   ]
  },
  {
   "cell_type": "code",
   "execution_count": 63,
   "id": "36b7f5e2",
   "metadata": {},
   "outputs": [],
   "source": [
    "# top_features.head()"
   ]
  },
  {
   "cell_type": "code",
   "execution_count": 64,
   "id": "427d4570",
   "metadata": {},
   "outputs": [],
   "source": [
    "accuracy=[]\n",
    "f1=[]\n",
    "model=[]\n",
    "precision=[]\n",
    "support=[]"
   ]
  },
  {
   "cell_type": "code",
   "execution_count": 65,
   "id": "073eaad8",
   "metadata": {},
   "outputs": [],
   "source": [
    "def evaluation_parametrics(y_train,yp_train,y_test,yp_test):\n",
    "  print(\"--------------------------------------------------------------------------\")\n",
    "  print(\"Classification Report for Train Data\")\n",
    "  print(classification_report(y_train, yp_train))\n",
    "  print(\"Classification Report for Test Data\")\n",
    "  print(classification_report(y_test, yp_test))\n",
    "  print(\"--------------------------------------------------------------------------\")\n",
    "  # Accuracy\n",
    "  print(\"Accuracy on Train Data is: {}\".format(round(accuracy_score(y_train,yp_train),2)))\n",
    "  print(\"Accuracy on Test Data is: {}\".format(round(accuracy_score(y_test,yp_test),2)))\n",
    "  print(\"--------------------------------------------------------------------------\")\n",
    "  # Precision\n",
    "  print(\"Precision on Train Data is: {}\".format(round(precision_score(y_train,yp_train,average = \"weighted\"),2)))\n",
    "  print(\"Precision on Test Data is: {}\".format(round(precision_score(y_test,yp_test,average = \"weighted\"),2)))\n",
    "  print(\"--------------------------------------------------------------------------\")\n",
    "  # Recall \n",
    "  print(\"Recall on Train Data is: {}\".format(round(recall_score(y_train,yp_train,average = \"weighted\"),2)))\n",
    "  print(\"Recall on Test Data is: {}\".format(round(recall_score(y_test,yp_test,average = \"weighted\"),2)))\n",
    "  print(\"--------------------------------------------------------------------------\")\n",
    "  # F1 Score\n",
    "  print(\"F1 Score on Train Data is: {}\".format(round(f1_score(y_train,yp_train,average = \"weighted\"),2)))\n",
    "  print(\"F1 Score on Test Data is: {}\".format(round(f1_score(y_test,yp_test,average = \"weighted\"),2)))\n",
    "  print(\"--------------------------------------------------------------------------\")"
   ]
  },
  {
   "cell_type": "code",
   "execution_count": 66,
   "id": "feecd60c",
   "metadata": {},
   "outputs": [],
   "source": [
    "xtrain,xtest,ytrain,ytest=train_test_split(X_norm,target,test_size=0.2,random_state=1)"
   ]
  },
  {
   "cell_type": "markdown",
   "id": "fc9db2be",
   "metadata": {},
   "source": [
    "# Support Vector Machine"
   ]
  },
  {
   "cell_type": "code",
   "execution_count": 67,
   "id": "89729bb4",
   "metadata": {},
   "outputs": [
    {
     "name": "stdout",
     "output_type": "stream",
     "text": [
      "--------------------------------------------------------------------------\n",
      "Classification Report for Train Data\n",
      "                   precision    recall  f1-score   support\n",
      "\n",
      "     Dissatisfied       0.61      0.09      0.15       344\n",
      "          Neutral       0.60      0.24      0.34       571\n",
      "        Satisfied       0.48      0.51      0.50       982\n",
      "Very dissatisfied       1.00      0.02      0.03       113\n",
      "   Very satisfied       0.51      0.81      0.62      1183\n",
      "\n",
      "         accuracy                           0.51      3193\n",
      "        macro avg       0.64      0.33      0.33      3193\n",
      "     weighted avg       0.55      0.51      0.46      3193\n",
      "\n",
      "Classification Report for Test Data\n",
      "                   precision    recall  f1-score   support\n",
      "\n",
      "     Dissatisfied       0.15      0.02      0.04        88\n",
      "          Neutral       0.50      0.15      0.23       154\n",
      "        Satisfied       0.42      0.43      0.43       263\n",
      "Very dissatisfied       0.00      0.00      0.00        27\n",
      "   Very satisfied       0.44      0.77      0.56       267\n",
      "\n",
      "         accuracy                           0.43       799\n",
      "        macro avg       0.30      0.27      0.25       799\n",
      "     weighted avg       0.40      0.43      0.38       799\n",
      "\n",
      "--------------------------------------------------------------------------\n",
      "Accuracy on Train Data is: 0.51\n",
      "Accuracy on Test Data is: 0.43\n",
      "--------------------------------------------------------------------------\n",
      "Precision on Train Data is: 0.55\n",
      "Precision on Test Data is: 0.4\n",
      "--------------------------------------------------------------------------\n",
      "Recall on Train Data is: 0.51\n",
      "Recall on Test Data is: 0.43\n",
      "--------------------------------------------------------------------------\n",
      "F1 Score on Train Data is: 0.46\n",
      "F1 Score on Test Data is: 0.38\n",
      "--------------------------------------------------------------------------\n"
     ]
    }
   ],
   "source": [
    "svc=SVC()\n",
    "svc.fit(xtrain,ytrain)\n",
    "trainpredict = svc.predict(xtrain)\n",
    "testpredict = svc.predict(xtest)\n",
    "\n",
    "evaluation_parametrics(ytrain,trainpredict,ytest,testpredict)\n",
    "accuracy.append(np.round(accuracy_score(ytest,testpredict),2))\n",
    "\n",
    "f1.append(np.round(f1_score(ytest,testpredict,average='weighted'),2))\n",
    "\n",
    "precision.append(np.round(precision_score(ytrain,trainpredict,average = \"weighted\"),2))\n",
    "\n",
    "model.append('Support Vector Machine')"
   ]
  },
  {
   "cell_type": "markdown",
   "id": "16fd33b3",
   "metadata": {},
   "source": [
    "# K-Neighbors Classifier"
   ]
  },
  {
   "cell_type": "code",
   "execution_count": 68,
   "id": "e1ba11c7",
   "metadata": {},
   "outputs": [
    {
     "name": "stdout",
     "output_type": "stream",
     "text": [
      "--------------------------------------------------------------------------\n",
      "Classification Report for Train Data\n",
      "                   precision    recall  f1-score   support\n",
      "\n",
      "     Dissatisfied       0.99      0.98      0.99       344\n",
      "          Neutral       0.99      0.99      0.99       571\n",
      "        Satisfied       0.98      0.99      0.99       982\n",
      "Very dissatisfied       1.00      1.00      1.00       113\n",
      "   Very satisfied       0.99      0.98      0.99      1183\n",
      "\n",
      "         accuracy                           0.99      3193\n",
      "        macro avg       0.99      0.99      0.99      3193\n",
      "     weighted avg       0.99      0.99      0.99      3193\n",
      "\n",
      "Classification Report for Test Data\n",
      "                   precision    recall  f1-score   support\n",
      "\n",
      "     Dissatisfied       0.90      0.86      0.88        88\n",
      "          Neutral       0.89      0.86      0.87       154\n",
      "        Satisfied       0.86      0.85      0.86       263\n",
      "Very dissatisfied       0.76      0.93      0.83        27\n",
      "   Very satisfied       0.87      0.90      0.88       267\n",
      "\n",
      "         accuracy                           0.87       799\n",
      "        macro avg       0.86      0.88      0.87       799\n",
      "     weighted avg       0.87      0.87      0.87       799\n",
      "\n",
      "--------------------------------------------------------------------------\n",
      "Accuracy on Train Data is: 0.99\n",
      "Accuracy on Test Data is: 0.87\n",
      "--------------------------------------------------------------------------\n",
      "Precision on Train Data is: 0.99\n",
      "Precision on Test Data is: 0.87\n",
      "--------------------------------------------------------------------------\n",
      "Recall on Train Data is: 0.99\n",
      "Recall on Test Data is: 0.87\n",
      "--------------------------------------------------------------------------\n",
      "F1 Score on Train Data is: 0.99\n",
      "F1 Score on Test Data is: 0.87\n",
      "--------------------------------------------------------------------------\n"
     ]
    }
   ],
   "source": [
    "KNN = KNeighborsClassifier(n_neighbors = 1)\n",
    "KNN.fit(xtrain, ytrain)\n",
    "\n",
    "trainpredict = KNN.predict(xtrain)\n",
    "testpredict = KNN.predict(xtest)\n",
    "\n",
    "evaluation_parametrics(ytrain,trainpredict,ytest,testpredict)\n",
    "\n",
    "accuracy.append(np.round(accuracy_score(ytest,testpredict),2))\n",
    "\n",
    "f1.append(np.round(f1_score(ytest,testpredict,average='weighted'),2))\n",
    "\n",
    "precision.append(np.round(precision_score(ytrain,trainpredict,average = \"weighted\"),2))\n",
    "\n",
    "model.append('K-Neighbors Classifier')"
   ]
  },
  {
   "cell_type": "markdown",
   "id": "0ceaacad",
   "metadata": {},
   "source": [
    "# Gaussian Naive Bayes"
   ]
  },
  {
   "cell_type": "code",
   "execution_count": 69,
   "id": "23c6a00c",
   "metadata": {},
   "outputs": [
    {
     "name": "stdout",
     "output_type": "stream",
     "text": [
      "--------------------------------------------------------------------------\n",
      "Classification Report for Train Data\n",
      "                   precision    recall  f1-score   support\n",
      "\n",
      "     Dissatisfied       0.18      0.07      0.10       344\n",
      "          Neutral       0.30      0.23      0.26       571\n",
      "        Satisfied       0.35      0.23      0.28       982\n",
      "Very dissatisfied       0.62      0.04      0.08       113\n",
      "   Very satisfied       0.44      0.72      0.54      1183\n",
      "\n",
      "         accuracy                           0.39      3193\n",
      "        macro avg       0.38      0.26      0.25      3193\n",
      "     weighted avg       0.36      0.39      0.35      3193\n",
      "\n",
      "Classification Report for Test Data\n",
      "                   precision    recall  f1-score   support\n",
      "\n",
      "     Dissatisfied       0.14      0.06      0.08        88\n",
      "          Neutral       0.33      0.25      0.28       154\n",
      "        Satisfied       0.33      0.22      0.26       263\n",
      "Very dissatisfied       0.50      0.04      0.07        27\n",
      "   Very satisfied       0.41      0.72      0.52       267\n",
      "\n",
      "         accuracy                           0.37       799\n",
      "        macro avg       0.34      0.26      0.24       799\n",
      "     weighted avg       0.34      0.37      0.33       799\n",
      "\n",
      "--------------------------------------------------------------------------\n",
      "Accuracy on Train Data is: 0.39\n",
      "Accuracy on Test Data is: 0.37\n",
      "--------------------------------------------------------------------------\n",
      "Precision on Train Data is: 0.36\n",
      "Precision on Test Data is: 0.34\n",
      "--------------------------------------------------------------------------\n",
      "Recall on Train Data is: 0.39\n",
      "Recall on Test Data is: 0.37\n",
      "--------------------------------------------------------------------------\n",
      "F1 Score on Train Data is: 0.35\n",
      "F1 Score on Test Data is: 0.33\n",
      "--------------------------------------------------------------------------\n"
     ]
    }
   ],
   "source": [
    "GNB = GaussianNB()\n",
    "GNB.fit(xtrain, ytrain)\n",
    "\n",
    "trainpredict = GNB.predict(xtrain)\n",
    "testpredict = GNB.predict(xtest)\n",
    "\n",
    "evaluation_parametrics(ytrain,trainpredict,ytest,testpredict)\n",
    "\n",
    "accuracy.append(np.round(accuracy_score(ytest,testpredict),2))\n",
    "f1.append(np.round(f1_score(ytest,testpredict,average='weighted'),2))\n",
    "\n",
    "precision.append(np.round(precision_score(ytrain,trainpredict,average = \"weighted\"),2))\n",
    "model.append('Gaussian Naive Bayes')"
   ]
  },
  {
   "cell_type": "markdown",
   "id": "38122bd2",
   "metadata": {},
   "source": [
    "# Decision Tree Classifier"
   ]
  },
  {
   "cell_type": "code",
   "execution_count": 70,
   "id": "3d0785ae",
   "metadata": {},
   "outputs": [
    {
     "name": "stdout",
     "output_type": "stream",
     "text": [
      "--------------------------------------------------------------------------\n",
      "Classification Report for Train Data\n",
      "                   precision    recall  f1-score   support\n",
      "\n",
      "     Dissatisfied       0.97      0.99      0.98       344\n",
      "          Neutral       0.99      1.00      0.99       571\n",
      "        Satisfied       0.98      0.99      0.99       982\n",
      "Very dissatisfied       1.00      1.00      1.00       113\n",
      "   Very satisfied       1.00      0.98      0.99      1183\n",
      "\n",
      "         accuracy                           0.99      3193\n",
      "        macro avg       0.99      0.99      0.99      3193\n",
      "     weighted avg       0.99      0.99      0.99      3193\n",
      "\n",
      "Classification Report for Test Data\n",
      "                   precision    recall  f1-score   support\n",
      "\n",
      "     Dissatisfied       0.94      0.86      0.90        88\n",
      "          Neutral       0.79      0.87      0.83       154\n",
      "        Satisfied       0.83      0.80      0.82       263\n",
      "Very dissatisfied       0.81      0.93      0.86        27\n",
      "   Very satisfied       0.85      0.84      0.85       267\n",
      "\n",
      "         accuracy                           0.84       799\n",
      "        macro avg       0.84      0.86      0.85       799\n",
      "     weighted avg       0.84      0.84      0.84       799\n",
      "\n",
      "--------------------------------------------------------------------------\n",
      "Accuracy on Train Data is: 0.99\n",
      "Accuracy on Test Data is: 0.84\n",
      "--------------------------------------------------------------------------\n",
      "Precision on Train Data is: 0.99\n",
      "Precision on Test Data is: 0.84\n",
      "--------------------------------------------------------------------------\n",
      "Recall on Train Data is: 0.99\n",
      "Recall on Test Data is: 0.84\n",
      "--------------------------------------------------------------------------\n",
      "F1 Score on Train Data is: 0.99\n",
      "F1 Score on Test Data is: 0.84\n",
      "--------------------------------------------------------------------------\n"
     ]
    }
   ],
   "source": [
    "dst=tree.DecisionTreeClassifier(criterion='entropy')\n",
    "dst.fit(xtrain,ytrain)\n",
    "\n",
    "trainpredict = dst.predict(xtrain)\n",
    "testpredict = dst.predict(xtest)\n",
    "\n",
    "evaluation_parametrics(ytrain,trainpredict,ytest,testpredict)\n",
    "\n",
    "accuracy.append(np.round(accuracy_score(ytest,testpredict),2))\n",
    "f1.append(np.round(f1_score(ytest,testpredict,average='weighted'),2))\n",
    "\n",
    "precision.append(np.round(precision_score(ytrain,trainpredict,average = \"weighted\"),2))\n",
    "model.append('Decision Tree Classifier')"
   ]
  },
  {
   "cell_type": "markdown",
   "id": "47b98eee",
   "metadata": {},
   "source": [
    "# Random Forest Classifier"
   ]
  },
  {
   "cell_type": "code",
   "execution_count": 71,
   "id": "db89d6a5",
   "metadata": {},
   "outputs": [
    {
     "name": "stdout",
     "output_type": "stream",
     "text": [
      "--------------------------------------------------------------------------\n",
      "Classification Report for Train Data\n",
      "                   precision    recall  f1-score   support\n",
      "\n",
      "     Dissatisfied       0.98      0.98      0.98       344\n",
      "          Neutral       0.99      1.00      0.99       571\n",
      "        Satisfied       0.99      0.99      0.99       982\n",
      "Very dissatisfied       1.00      1.00      1.00       113\n",
      "   Very satisfied       0.99      0.98      0.99      1183\n",
      "\n",
      "         accuracy                           0.99      3193\n",
      "        macro avg       0.99      0.99      0.99      3193\n",
      "     weighted avg       0.99      0.99      0.99      3193\n",
      "\n",
      "Classification Report for Test Data\n",
      "                   precision    recall  f1-score   support\n",
      "\n",
      "     Dissatisfied       0.95      0.84      0.89        88\n",
      "          Neutral       0.89      0.87      0.88       154\n",
      "        Satisfied       0.85      0.84      0.85       263\n",
      "Very dissatisfied       0.86      0.93      0.89        27\n",
      "   Very satisfied       0.84      0.88      0.86       267\n",
      "\n",
      "         accuracy                           0.86       799\n",
      "        macro avg       0.88      0.87      0.87       799\n",
      "     weighted avg       0.87      0.86      0.87       799\n",
      "\n",
      "--------------------------------------------------------------------------\n",
      "Accuracy on Train Data is: 0.99\n",
      "Accuracy on Test Data is: 0.86\n",
      "--------------------------------------------------------------------------\n",
      "Precision on Train Data is: 0.99\n",
      "Precision on Test Data is: 0.87\n",
      "--------------------------------------------------------------------------\n",
      "Recall on Train Data is: 0.99\n",
      "Recall on Test Data is: 0.86\n",
      "--------------------------------------------------------------------------\n",
      "F1 Score on Train Data is: 0.99\n",
      "F1 Score on Test Data is: 0.87\n",
      "--------------------------------------------------------------------------\n"
     ]
    }
   ],
   "source": [
    "RF_CL = RandomForestClassifier()\n",
    "RF_CL.fit(xtrain, ytrain)\n",
    "\n",
    "trainpredict = RF_CL.predict(xtrain)\n",
    "testpredict = RF_CL.predict(xtest)\n",
    "\n",
    "evaluation_parametrics(ytrain,trainpredict,ytest,testpredict)\n",
    "\n",
    "accuracy.append(np.round(accuracy_score(ytest,testpredict),2))\n",
    "f1.append(np.round(f1_score(ytest,testpredict,average='weighted'),2))\n",
    "\n",
    "precision.append(np.round(precision_score(ytrain,trainpredict,average = \"weighted\"),2))\n",
    "model.append('Random Forest')"
   ]
  },
  {
   "cell_type": "code",
   "execution_count": 72,
   "id": "07ccf9d8",
   "metadata": {},
   "outputs": [
    {
     "data": {
      "text/plain": [
       "['Support Vector Machine',\n",
       " 'K-Neighbors Classifier',\n",
       " 'Gaussian Naive Bayes',\n",
       " 'Decision Tree Classifier',\n",
       " 'Random Forest']"
      ]
     },
     "execution_count": 72,
     "metadata": {},
     "output_type": "execute_result"
    }
   ],
   "source": [
    "model"
   ]
  },
  {
   "cell_type": "code",
   "execution_count": 74,
   "id": "86eb3cc8",
   "metadata": {},
   "outputs": [],
   "source": [
    "output=pd.DataFrame({'Model':model,\n",
    "                    'Accuracy':accuracy,\n",
    "                    'Precision':precision,\n",
    "                    'F1 score':f1})"
   ]
  },
  {
   "cell_type": "code",
   "execution_count": 75,
   "id": "769675e6",
   "metadata": {},
   "outputs": [
    {
     "data": {
      "text/html": [
       "<div>\n",
       "<style scoped>\n",
       "    .dataframe tbody tr th:only-of-type {\n",
       "        vertical-align: middle;\n",
       "    }\n",
       "\n",
       "    .dataframe tbody tr th {\n",
       "        vertical-align: top;\n",
       "    }\n",
       "\n",
       "    .dataframe thead th {\n",
       "        text-align: right;\n",
       "    }\n",
       "</style>\n",
       "<table border=\"1\" class=\"dataframe\">\n",
       "  <thead>\n",
       "    <tr style=\"text-align: right;\">\n",
       "      <th></th>\n",
       "      <th>Model</th>\n",
       "      <th>Accuracy</th>\n",
       "      <th>Precision</th>\n",
       "      <th>F1 score</th>\n",
       "    </tr>\n",
       "  </thead>\n",
       "  <tbody>\n",
       "    <tr>\n",
       "      <th>0</th>\n",
       "      <td>Support Vector Machine</td>\n",
       "      <td>0.43</td>\n",
       "      <td>0.55</td>\n",
       "      <td>0.38</td>\n",
       "    </tr>\n",
       "    <tr>\n",
       "      <th>1</th>\n",
       "      <td>K-Neighbors Classifier</td>\n",
       "      <td>0.87</td>\n",
       "      <td>0.99</td>\n",
       "      <td>0.87</td>\n",
       "    </tr>\n",
       "    <tr>\n",
       "      <th>2</th>\n",
       "      <td>Gaussian Naive Bayes</td>\n",
       "      <td>0.37</td>\n",
       "      <td>0.36</td>\n",
       "      <td>0.33</td>\n",
       "    </tr>\n",
       "    <tr>\n",
       "      <th>3</th>\n",
       "      <td>Decision Tree Classifier</td>\n",
       "      <td>0.84</td>\n",
       "      <td>0.99</td>\n",
       "      <td>0.84</td>\n",
       "    </tr>\n",
       "    <tr>\n",
       "      <th>4</th>\n",
       "      <td>Random Forest</td>\n",
       "      <td>0.86</td>\n",
       "      <td>0.99</td>\n",
       "      <td>0.87</td>\n",
       "    </tr>\n",
       "  </tbody>\n",
       "</table>\n",
       "</div>"
      ],
      "text/plain": [
       "                      Model  Accuracy  Precision  F1 score\n",
       "0    Support Vector Machine      0.43       0.55      0.38\n",
       "1    K-Neighbors Classifier      0.87       0.99      0.87\n",
       "2      Gaussian Naive Bayes      0.37       0.36      0.33\n",
       "3  Decision Tree Classifier      0.84       0.99      0.84\n",
       "4             Random Forest      0.86       0.99      0.87"
      ]
     },
     "execution_count": 75,
     "metadata": {},
     "output_type": "execute_result"
    }
   ],
   "source": [
    "output"
   ]
  }
 ],
 "metadata": {
  "kernelspec": {
   "display_name": "Python 3 (ipykernel)",
   "language": "python",
   "name": "python3"
  },
  "language_info": {
   "codemirror_mode": {
    "name": "ipython",
    "version": 3
   },
   "file_extension": ".py",
   "mimetype": "text/x-python",
   "name": "python",
   "nbconvert_exporter": "python",
   "pygments_lexer": "ipython3",
   "version": "3.9.12"
  }
 },
 "nbformat": 4,
 "nbformat_minor": 5
}
