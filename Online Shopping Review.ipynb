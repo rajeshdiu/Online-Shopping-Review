{
 "cells": [
  {
   "cell_type": "code",
   "execution_count": 150,
   "id": "78f19ae7",
   "metadata": {},
   "outputs": [],
   "source": [
    "import pandas as pd\n",
    "import numpy as np\n",
    "import matplotlib.pyplot as plt \n",
    "import seaborn as sns\n",
    "from sklearn.model_selection import train_test_split\n",
    "from sklearn.metrics import accuracy_score\n",
    "from sklearn.preprocessing import LabelEncoder\n",
    "from sklearn.preprocessing import OrdinalEncoder\n",
    "from sklearn.metrics import accuracy_score,classification_report,confusion_matrix,precision_score,recall_score,f1_score\n",
    "from sklearn.svm import SVC\n",
    "from sklearn import tree\n",
    "import plotly.offline as py\n",
    "import xgboost as xgb\n",
    "from sklearn.neighbors import KNeighborsClassifier\n",
    "from sklearn.tree import DecisionTreeClassifier\n",
    "from sklearn.ensemble import RandomForestClassifier\n",
    "from sklearn.ensemble import GradientBoostingClassifier\n",
    "from sklearn.ensemble import AdaBoostClassifier\n",
    "from sklearn.neighbors import KNeighborsClassifier\n",
    "from sklearn.naive_bayes import MultinomialNB\n",
    "from sklearn.ensemble import RandomForestClassifier\n",
    "from sklearn.linear_model import LogisticRegression\n",
    "from sklearn.naive_bayes import GaussianNB\n",
    "from sklearn.ensemble import AdaBoostClassifier\n",
    "import warnings\n",
    "from sklearn.feature_selection import SelectKBest\n",
    "from sklearn.feature_selection import f_classif\n",
    "warnings.filterwarnings('ignore')"
   ]
  },
  {
   "cell_type": "code",
   "execution_count": 151,
   "id": "bf877ed7",
   "metadata": {},
   "outputs": [],
   "source": [
    "df=pd.read_csv(\"C:\\\\Users\\\\User\\\\Desktop\\\\Data Science\\\\Research Work\\\\MyProject\\\\Online-Shopping-Review\\\\Dataset\\\\Online Shopping Review.csv\")"
   ]
  },
  {
   "cell_type": "markdown",
   "id": "4e4cb2c2",
   "metadata": {},
   "source": [
    "# Rename The Column Names"
   ]
  },
  {
   "cell_type": "code",
   "execution_count": 152,
   "id": "9522cd3f",
   "metadata": {},
   "outputs": [],
   "source": [
    "my_cols=[\"Time\",\"Name\",\"Age\",\"Gender\",\"About Shopping\",\"Shopping For\",\"Finding For\",\n",
    "         \"Visiting Issue\",\"Compared to OS\",\"Complacency\",\"Find ERP\",\"Payment Complacency\",\n",
    "         \"CheckOut Experience\",\"Product Receive TimeLine\",\"Rider Review\",\"CS Experience\"]"
   ]
  },
  {
   "cell_type": "code",
   "execution_count": 153,
   "id": "d9f0a78e",
   "metadata": {},
   "outputs": [],
   "source": [
    "df.columns=my_cols"
   ]
  },
  {
   "cell_type": "code",
   "execution_count": 154,
   "id": "91c2e964",
   "metadata": {},
   "outputs": [
    {
     "data": {
      "text/plain": [
       "['Time',\n",
       " 'Name',\n",
       " 'Age',\n",
       " 'Gender',\n",
       " 'About_Shopping',\n",
       " 'Shopping_For',\n",
       " 'Finding_For',\n",
       " 'Visiting_Issue',\n",
       " 'Compared_to_OS',\n",
       " 'Complacency',\n",
       " 'Find_ERP',\n",
       " 'Payment_Complacency',\n",
       " 'CheckOut_Experience',\n",
       " 'Product_Receive_TimeLine',\n",
       " 'Rider_Review',\n",
       " 'CS_Experience']"
      ]
     },
     "execution_count": 154,
     "metadata": {},
     "output_type": "execute_result"
    }
   ],
   "source": [
    "#Using ' ' to replace the column names\n",
    "columns= list(df.columns)\n",
    "adder = \"\"\n",
    "new_columns =[]\n",
    "for each_column in columns:\n",
    "    for letter in each_column:\n",
    "        if letter==\" \":\n",
    "            adder = adder + \"_\"\n",
    "        else:\n",
    "            adder = adder + letter\n",
    "    new_columns.append(adder)\n",
    "    adder=\"\"\n",
    "new_columns"
   ]
  },
  {
   "cell_type": "code",
   "execution_count": 155,
   "id": "ea19b77f",
   "metadata": {},
   "outputs": [],
   "source": [
    "df.columns=new_columns"
   ]
  },
  {
   "cell_type": "code",
   "execution_count": 156,
   "id": "e7e2e2e7",
   "metadata": {},
   "outputs": [
    {
     "data": {
      "text/html": [
       "<div>\n",
       "<style scoped>\n",
       "    .dataframe tbody tr th:only-of-type {\n",
       "        vertical-align: middle;\n",
       "    }\n",
       "\n",
       "    .dataframe tbody tr th {\n",
       "        vertical-align: top;\n",
       "    }\n",
       "\n",
       "    .dataframe thead th {\n",
       "        text-align: right;\n",
       "    }\n",
       "</style>\n",
       "<table border=\"1\" class=\"dataframe\">\n",
       "  <thead>\n",
       "    <tr style=\"text-align: right;\">\n",
       "      <th></th>\n",
       "      <th>Time</th>\n",
       "      <th>Name</th>\n",
       "      <th>Age</th>\n",
       "      <th>Gender</th>\n",
       "      <th>About_Shopping</th>\n",
       "      <th>Shopping_For</th>\n",
       "      <th>Finding_For</th>\n",
       "      <th>Visiting_Issue</th>\n",
       "      <th>Compared_to_OS</th>\n",
       "      <th>Complacency</th>\n",
       "      <th>Find_ERP</th>\n",
       "      <th>Payment_Complacency</th>\n",
       "      <th>CheckOut_Experience</th>\n",
       "      <th>Product_Receive_TimeLine</th>\n",
       "      <th>Rider_Review</th>\n",
       "      <th>CS_Experience</th>\n",
       "    </tr>\n",
       "  </thead>\n",
       "  <tbody>\n",
       "    <tr>\n",
       "      <th>0</th>\n",
       "      <td>2022/06/17 12:46:08 AM GMT+6</td>\n",
       "      <td>Rajesh Das</td>\n",
       "      <td>25</td>\n",
       "      <td>Male</td>\n",
       "      <td>Newspaper</td>\n",
       "      <td>Friend</td>\n",
       "      <td>Yes</td>\n",
       "      <td>Product Information</td>\n",
       "      <td>Pricing</td>\n",
       "      <td>Neutral</td>\n",
       "      <td>Yes</td>\n",
       "      <td>Very Safe</td>\n",
       "      <td>3</td>\n",
       "      <td>No</td>\n",
       "      <td>2</td>\n",
       "      <td>3</td>\n",
       "    </tr>\n",
       "    <tr>\n",
       "      <th>1</th>\n",
       "      <td>2022/06/17 1:55:46 AM GMT+6</td>\n",
       "      <td>Radhika</td>\n",
       "      <td>22</td>\n",
       "      <td>Female</td>\n",
       "      <td>Social Media</td>\n",
       "      <td>Friend</td>\n",
       "      <td>Yes</td>\n",
       "      <td>Product Information</td>\n",
       "      <td>Website performance</td>\n",
       "      <td>Very satisfied</td>\n",
       "      <td>Yes</td>\n",
       "      <td>Safe</td>\n",
       "      <td>3</td>\n",
       "      <td>Yes</td>\n",
       "      <td>5</td>\n",
       "      <td>5</td>\n",
       "    </tr>\n",
       "    <tr>\n",
       "      <th>2</th>\n",
       "      <td>2022/06/17 1:57:37 AM GMT+6</td>\n",
       "      <td>Ritu</td>\n",
       "      <td>21</td>\n",
       "      <td>Female</td>\n",
       "      <td>Social Media</td>\n",
       "      <td>Friend</td>\n",
       "      <td>Yes</td>\n",
       "      <td>Buying Products</td>\n",
       "      <td>Website performance</td>\n",
       "      <td>Very satisfied</td>\n",
       "      <td>Yes</td>\n",
       "      <td>Safe</td>\n",
       "      <td>5</td>\n",
       "      <td>Yes</td>\n",
       "      <td>5</td>\n",
       "      <td>5</td>\n",
       "    </tr>\n",
       "    <tr>\n",
       "      <th>3</th>\n",
       "      <td>2022/06/17 2:01:02 AM GMT+6</td>\n",
       "      <td>Nandini</td>\n",
       "      <td>24</td>\n",
       "      <td>Female</td>\n",
       "      <td>Friend</td>\n",
       "      <td>Parent</td>\n",
       "      <td>Yes</td>\n",
       "      <td>Buying Products</td>\n",
       "      <td>Website performance</td>\n",
       "      <td>Very satisfied</td>\n",
       "      <td>Yes</td>\n",
       "      <td>Safe</td>\n",
       "      <td>5</td>\n",
       "      <td>Yes</td>\n",
       "      <td>5</td>\n",
       "      <td>5</td>\n",
       "    </tr>\n",
       "    <tr>\n",
       "      <th>4</th>\n",
       "      <td>2022/06/17 2:02:39 AM GMT+6</td>\n",
       "      <td>Ranu mondal</td>\n",
       "      <td>30</td>\n",
       "      <td>Female</td>\n",
       "      <td>Social Media</td>\n",
       "      <td>Colleague</td>\n",
       "      <td>Yes</td>\n",
       "      <td>Product Information</td>\n",
       "      <td>Product catalog</td>\n",
       "      <td>Satisfied</td>\n",
       "      <td>Yes</td>\n",
       "      <td>Very Safe</td>\n",
       "      <td>4</td>\n",
       "      <td>Maybe</td>\n",
       "      <td>4</td>\n",
       "      <td>4</td>\n",
       "    </tr>\n",
       "  </tbody>\n",
       "</table>\n",
       "</div>"
      ],
      "text/plain": [
       "                           Time         Name  Age  Gender About_Shopping  \\\n",
       "0  2022/06/17 12:46:08 AM GMT+6   Rajesh Das   25    Male      Newspaper   \n",
       "1   2022/06/17 1:55:46 AM GMT+6      Radhika   22  Female   Social Media   \n",
       "2   2022/06/17 1:57:37 AM GMT+6         Ritu   21  Female   Social Media   \n",
       "3   2022/06/17 2:01:02 AM GMT+6     Nandini    24  Female         Friend   \n",
       "4   2022/06/17 2:02:39 AM GMT+6  Ranu mondal   30  Female   Social Media   \n",
       "\n",
       "  Shopping_For Finding_For       Visiting_Issue       Compared_to_OS  \\\n",
       "0       Friend         Yes  Product Information              Pricing   \n",
       "1       Friend         Yes  Product Information  Website performance   \n",
       "2       Friend         Yes      Buying Products  Website performance   \n",
       "3       Parent         Yes      Buying Products  Website performance   \n",
       "4    Colleague         Yes  Product Information      Product catalog   \n",
       "\n",
       "      Complacency Find_ERP Payment_Complacency  CheckOut_Experience  \\\n",
       "0         Neutral      Yes           Very Safe                    3   \n",
       "1  Very satisfied      Yes                Safe                    3   \n",
       "2  Very satisfied      Yes                Safe                    5   \n",
       "3  Very satisfied      Yes                Safe                    5   \n",
       "4       Satisfied      Yes           Very Safe                    4   \n",
       "\n",
       "  Product_Receive_TimeLine  Rider_Review  CS_Experience  \n",
       "0                       No             2              3  \n",
       "1                      Yes             5              5  \n",
       "2                      Yes             5              5  \n",
       "3                      Yes             5              5  \n",
       "4                    Maybe             4              4  "
      ]
     },
     "execution_count": 156,
     "metadata": {},
     "output_type": "execute_result"
    }
   ],
   "source": [
    "df.head()"
   ]
  },
  {
   "cell_type": "markdown",
   "id": "6a9136ab",
   "metadata": {},
   "source": [
    "# Drop  Unnecessary Columns"
   ]
  },
  {
   "cell_type": "code",
   "execution_count": 157,
   "id": "f291d149",
   "metadata": {},
   "outputs": [],
   "source": [
    "df1=df.drop([\"Time\",\"Name\"],axis=1)"
   ]
  },
  {
   "cell_type": "code",
   "execution_count": 158,
   "id": "067e0caa",
   "metadata": {},
   "outputs": [
    {
     "data": {
      "text/plain": [
       "(4026, 14)"
      ]
     },
     "execution_count": 158,
     "metadata": {},
     "output_type": "execute_result"
    }
   ],
   "source": [
    "df1.shape"
   ]
  },
  {
   "cell_type": "code",
   "execution_count": 159,
   "id": "f807cf1a",
   "metadata": {},
   "outputs": [
    {
     "name": "stdout",
     "output_type": "stream",
     "text": [
      "<class 'pandas.core.frame.DataFrame'>\n",
      "RangeIndex: 4026 entries, 0 to 4025\n",
      "Data columns (total 14 columns):\n",
      " #   Column                    Non-Null Count  Dtype \n",
      "---  ------                    --------------  ----- \n",
      " 0   Age                       4026 non-null   int64 \n",
      " 1   Gender                    4026 non-null   object\n",
      " 2   About_Shopping            4026 non-null   object\n",
      " 3   Shopping_For              4026 non-null   object\n",
      " 4   Finding_For               4026 non-null   object\n",
      " 5   Visiting_Issue            4026 non-null   object\n",
      " 6   Compared_to_OS            4026 non-null   object\n",
      " 7   Complacency               4026 non-null   object\n",
      " 8   Find_ERP                  4026 non-null   object\n",
      " 9   Payment_Complacency       4026 non-null   object\n",
      " 10  CheckOut_Experience       4026 non-null   int64 \n",
      " 11  Product_Receive_TimeLine  4026 non-null   object\n",
      " 12  Rider_Review              4026 non-null   int64 \n",
      " 13  CS_Experience             4026 non-null   int64 \n",
      "dtypes: int64(4), object(10)\n",
      "memory usage: 440.5+ KB\n"
     ]
    }
   ],
   "source": [
    "df1.info()"
   ]
  },
  {
   "cell_type": "code",
   "execution_count": 160,
   "id": "dca82d71",
   "metadata": {},
   "outputs": [
    {
     "data": {
      "text/html": [
       "<div>\n",
       "<style scoped>\n",
       "    .dataframe tbody tr th:only-of-type {\n",
       "        vertical-align: middle;\n",
       "    }\n",
       "\n",
       "    .dataframe tbody tr th {\n",
       "        vertical-align: top;\n",
       "    }\n",
       "\n",
       "    .dataframe thead th {\n",
       "        text-align: right;\n",
       "    }\n",
       "</style>\n",
       "<table border=\"1\" class=\"dataframe\">\n",
       "  <thead>\n",
       "    <tr style=\"text-align: right;\">\n",
       "      <th></th>\n",
       "      <th>Age</th>\n",
       "      <th>CheckOut_Experience</th>\n",
       "      <th>Rider_Review</th>\n",
       "      <th>CS_Experience</th>\n",
       "    </tr>\n",
       "  </thead>\n",
       "  <tbody>\n",
       "    <tr>\n",
       "      <th>count</th>\n",
       "      <td>4026.000000</td>\n",
       "      <td>4026.000000</td>\n",
       "      <td>4026.000000</td>\n",
       "      <td>4026.000000</td>\n",
       "    </tr>\n",
       "    <tr>\n",
       "      <th>mean</th>\n",
       "      <td>29.962742</td>\n",
       "      <td>4.004719</td>\n",
       "      <td>3.955042</td>\n",
       "      <td>3.614257</td>\n",
       "    </tr>\n",
       "    <tr>\n",
       "      <th>std</th>\n",
       "      <td>9.304836</td>\n",
       "      <td>1.069151</td>\n",
       "      <td>1.085748</td>\n",
       "      <td>1.284977</td>\n",
       "    </tr>\n",
       "    <tr>\n",
       "      <th>min</th>\n",
       "      <td>8.000000</td>\n",
       "      <td>1.000000</td>\n",
       "      <td>1.000000</td>\n",
       "      <td>1.000000</td>\n",
       "    </tr>\n",
       "    <tr>\n",
       "      <th>25%</th>\n",
       "      <td>23.000000</td>\n",
       "      <td>3.000000</td>\n",
       "      <td>3.000000</td>\n",
       "      <td>3.000000</td>\n",
       "    </tr>\n",
       "    <tr>\n",
       "      <th>50%</th>\n",
       "      <td>28.000000</td>\n",
       "      <td>4.000000</td>\n",
       "      <td>4.000000</td>\n",
       "      <td>4.000000</td>\n",
       "    </tr>\n",
       "    <tr>\n",
       "      <th>75%</th>\n",
       "      <td>34.000000</td>\n",
       "      <td>5.000000</td>\n",
       "      <td>5.000000</td>\n",
       "      <td>5.000000</td>\n",
       "    </tr>\n",
       "    <tr>\n",
       "      <th>max</th>\n",
       "      <td>76.000000</td>\n",
       "      <td>5.000000</td>\n",
       "      <td>5.000000</td>\n",
       "      <td>5.000000</td>\n",
       "    </tr>\n",
       "  </tbody>\n",
       "</table>\n",
       "</div>"
      ],
      "text/plain": [
       "               Age  CheckOut_Experience  Rider_Review  CS_Experience\n",
       "count  4026.000000          4026.000000   4026.000000    4026.000000\n",
       "mean     29.962742             4.004719      3.955042       3.614257\n",
       "std       9.304836             1.069151      1.085748       1.284977\n",
       "min       8.000000             1.000000      1.000000       1.000000\n",
       "25%      23.000000             3.000000      3.000000       3.000000\n",
       "50%      28.000000             4.000000      4.000000       4.000000\n",
       "75%      34.000000             5.000000      5.000000       5.000000\n",
       "max      76.000000             5.000000      5.000000       5.000000"
      ]
     },
     "execution_count": 160,
     "metadata": {},
     "output_type": "execute_result"
    }
   ],
   "source": [
    "df1.describe()"
   ]
  },
  {
   "cell_type": "markdown",
   "id": "2e149853",
   "metadata": {},
   "source": [
    "# Checking Null Values"
   ]
  },
  {
   "cell_type": "code",
   "execution_count": 161,
   "id": "49061635",
   "metadata": {},
   "outputs": [
    {
     "data": {
      "image/png": "[encoded data removed]",
      "text/plain": [
       "<Figure size 432x288 with 2 Axes>"
      ]
     },
     "metadata": {
      "needs_background": "light"
     },
     "output_type": "display_data"
    }
   ],
   "source": [
    "sns.heatmap(df1.isnull())\n",
    "plt.show()"
   ]
  },
  {
   "cell_type": "code",
   "execution_count": 162,
   "id": "bd3ed6e4",
   "metadata": {},
   "outputs": [
    {
     "data": {
      "text/html": [
       "<div>\n",
       "<style scoped>\n",
       "    .dataframe tbody tr th:only-of-type {\n",
       "        vertical-align: middle;\n",
       "    }\n",
       "\n",
       "    .dataframe tbody tr th {\n",
       "        vertical-align: top;\n",
       "    }\n",
       "\n",
       "    .dataframe thead th {\n",
       "        text-align: right;\n",
       "    }\n",
       "</style>\n",
       "<table border=\"1\" class=\"dataframe\">\n",
       "  <thead>\n",
       "    <tr style=\"text-align: right;\">\n",
       "      <th></th>\n",
       "      <th>Age</th>\n",
       "      <th>Gender</th>\n",
       "      <th>About_Shopping</th>\n",
       "      <th>Shopping_For</th>\n",
       "      <th>Finding_For</th>\n",
       "      <th>Visiting_Issue</th>\n",
       "      <th>Compared_to_OS</th>\n",
       "      <th>Complacency</th>\n",
       "      <th>Find_ERP</th>\n",
       "      <th>Payment_Complacency</th>\n",
       "      <th>CheckOut_Experience</th>\n",
       "      <th>Product_Receive_TimeLine</th>\n",
       "      <th>Rider_Review</th>\n",
       "      <th>CS_Experience</th>\n",
       "    </tr>\n",
       "  </thead>\n",
       "  <tbody>\n",
       "  </tbody>\n",
       "</table>\n",
       "</div>"
      ],
      "text/plain": [
       "Empty DataFrame\n",
       "Columns: [Age, Gender, About_Shopping, Shopping_For, Finding_For, Visiting_Issue, Compared_to_OS, Complacency, Find_ERP, Payment_Complacency, CheckOut_Experience, Product_Receive_TimeLine, Rider_Review, CS_Experience]\n",
       "Index: []"
      ]
     },
     "execution_count": 162,
     "metadata": {},
     "output_type": "execute_result"
    }
   ],
   "source": [
    "df1[df1.isnull().any(axis=1)].head()"
   ]
  },
  {
   "cell_type": "code",
   "execution_count": 163,
   "id": "6995d82c",
   "metadata": {},
   "outputs": [
    {
     "data": {
      "text/plain": [
       "Age                         0\n",
       "Gender                      0\n",
       "About_Shopping              0\n",
       "Shopping_For                0\n",
       "Finding_For                 0\n",
       "Visiting_Issue              0\n",
       "Compared_to_OS              0\n",
       "Complacency                 0\n",
       "Find_ERP                    0\n",
       "Payment_Complacency         0\n",
       "CheckOut_Experience         0\n",
       "Product_Receive_TimeLine    0\n",
       "Rider_Review                0\n",
       "CS_Experience               0\n",
       "dtype: int64"
      ]
     },
     "execution_count": 163,
     "metadata": {},
     "output_type": "execute_result"
    }
   ],
   "source": [
    "df1.isnull().sum()"
   ]
  },
  {
   "cell_type": "code",
   "execution_count": 166,
   "id": "24f81185",
   "metadata": {},
   "outputs": [
    {
     "name": "stdout",
     "output_type": "stream",
     "text": [
      "       Column Name  Data Type    #Distinct  NA Values\n",
      "               Age      int64         55          0\n",
      "            Gender     object          3          0\n",
      "    About_Shopping     object          6          0\n",
      "      Shopping_For     object          6          0\n",
      "       Finding_For     object          3          0\n",
      "    Visiting_Issue     object          5          0\n",
      "    Compared_to_OS     object          8          0\n",
      "       Complacency     object          5          0\n",
      "          Find_ERP     object          3          0\n",
      "Payment_Complacency     object          5          0\n",
      "CheckOut_Experience      int64          5          0\n",
      "Product_Receive_TimeLine     object          3          0\n",
      "      Rider_Review      int64          5          0\n",
      "     CS_Experience      int64          5          0\n"
     ]
    }
   ],
   "source": [
    "print(\"%18s %10s   %10s %10s\" % (\"Column Name\", \"Data Type\", \"#Distinct\", \"NA Values\"))\n",
    "for col in df1.columns:\n",
    "    dtyp = df1[col].dtype\n",
    "    uniq = df1[col].nunique()\n",
    "    na = df1[col].isna().sum()\n",
    "    print(\"%18s %10s %10s %10s\" % (col, dtyp, uniq, na))"
   ]
  },
  {
   "cell_type": "markdown",
   "id": "fada1095",
   "metadata": {},
   "source": [
    "# Seperate Categorical and Numerical Features"
   ]
  },
  {
   "cell_type": "code",
   "execution_count": 167,
   "id": "854ee328",
   "metadata": {},
   "outputs": [],
   "source": [
    "categorical_features=[]\n",
    "numerical_features=[]"
   ]
  },
  {
   "cell_type": "code",
   "execution_count": 168,
   "id": "04c18d31",
   "metadata": {},
   "outputs": [],
   "source": [
    "for i in df1.columns.tolist():\n",
    "    if df1[i].dtype==\"object\":\n",
    "        categorical_features.append(i)\n",
    "    else:\n",
    "        numerical_features.append(i)"
   ]
  },
  {
   "cell_type": "code",
   "execution_count": 169,
   "id": "f2120234",
   "metadata": {},
   "outputs": [
    {
     "name": "stdout",
     "output_type": "stream",
     "text": [
      "----------------------------------------\n",
      "Numerical Features\n",
      "----------------------------------------\n",
      "Feature:  Age\n",
      "Feature:  CheckOut_Experience\n",
      "Feature:  Rider_Review\n",
      "Feature:  CS_Experience\n"
     ]
    }
   ],
   "source": [
    "print(\"-\"*40)\n",
    "print(\"Numerical Features\")\n",
    "print(\"-\"*40)\n",
    "for i in numerical_features:\n",
    "    print('Feature: ',i)"
   ]
  },
  {
   "cell_type": "code",
   "execution_count": 170,
   "id": "43b26576",
   "metadata": {},
   "outputs": [
    {
     "name": "stdout",
     "output_type": "stream",
     "text": [
      "----------------------------------------\n",
      "Categorical Features\n",
      "----------------------------------------\n",
      "Feature: Gender\n",
      "Feature: About_Shopping\n",
      "Feature: Shopping_For\n",
      "Feature: Finding_For\n",
      "Feature: Visiting_Issue\n",
      "Feature: Compared_to_OS\n",
      "Feature: Complacency\n",
      "Feature: Find_ERP\n",
      "Feature: Payment_Complacency\n",
      "Feature: Product_Receive_TimeLine\n"
     ]
    }
   ],
   "source": [
    "print(\"-\"*40)\n",
    "print(\"Categorical Features\")\n",
    "print(\"-\"*40)\n",
    "for i in categorical_features:\n",
    "    print('Feature:',i)"
   ]
  },
  {
   "cell_type": "markdown",
   "id": "83491fa7",
   "metadata": {},
   "source": [
    "# Checking Unique Value Per Column"
   ]
  },
  {
   "cell_type": "code",
   "execution_count": 171,
   "id": "d2a9f417",
   "metadata": {},
   "outputs": [
    {
     "name": "stdout",
     "output_type": "stream",
     "text": [
      "-------------------\n",
      "Column Name Is Gender\n",
      "-------------------\n",
      "['Male' 'Female' 'Other']\n",
      "-------------------\n",
      "Column Name Is About_Shopping\n",
      "-------------------\n",
      "['Newspaper' 'Social Media' 'Friend' 'TV' 'Other' 'Search Engine']\n",
      "-------------------\n",
      "Column Name Is Shopping_For\n",
      "-------------------\n",
      "['Friend' 'Parent' 'Colleague' 'Boss' 'Other' 'Me']\n",
      "-------------------\n",
      "Column Name Is Finding_For\n",
      "-------------------\n",
      "['Yes' 'Maybe' 'No']\n",
      "-------------------\n",
      "Column Name Is Visiting_Issue\n",
      "-------------------\n",
      "['Product Information' 'Buying Products' 'Contact Information' 'Other'\n",
      " 'About Company']\n",
      "-------------------\n",
      "Column Name Is Compared_to_OS\n",
      "-------------------\n",
      "['Pricing' 'Website performance' 'Product catalog' 'Overall'\n",
      " 'Product information' 'Shipping options' 'Payment experience'\n",
      " 'Online help']\n",
      "-------------------\n",
      "Column Name Is Complacency\n",
      "-------------------\n",
      "['Neutral' 'Very satisfied' 'Satisfied' 'Dissatisfied' 'Very dissatisfied']\n",
      "-------------------\n",
      "Column Name Is Find_ERP\n",
      "-------------------\n",
      "['Yes' 'Maybe' 'No']\n",
      "-------------------\n",
      "Column Name Is Payment_Complacency\n",
      "-------------------\n",
      "['Very Safe' 'Safe' 'Neutral' 'Not Safe' 'Very Unsafe']\n",
      "-------------------\n",
      "Column Name Is CheckOut_Experience\n",
      "-------------------\n",
      "[3 5 4 2 1]\n",
      "-------------------\n",
      "Column Name Is Product_Receive_TimeLine\n",
      "-------------------\n",
      "['No' 'Yes' 'Maybe']\n",
      "-------------------\n",
      "Column Name Is Rider_Review\n",
      "-------------------\n",
      "[2 5 4 3 1]\n",
      "-------------------\n",
      "Column Name Is CS_Experience\n",
      "-------------------\n",
      "[3 5 4 2 1]\n"
     ]
    }
   ],
   "source": [
    "for col in new_columns[3:]:\n",
    "    print(\"-------------------\")\n",
    "    print(\"Column Name Is\",col)\n",
    "    print(\"-------------------\")\n",
    "    print(df1[col].unique())  "
   ]
  },
  {
   "cell_type": "code",
   "execution_count": 172,
   "id": "199fe67f",
   "metadata": {},
   "outputs": [
    {
     "name": "stdout",
     "output_type": "stream",
     "text": [
      "-------------------\n",
      "Column Name Is Gender\n",
      "-------------------\n",
      "Female    2116\n",
      "Male      1904\n",
      "Other        6\n",
      "Name: Gender, dtype: int64\n",
      "-------------------\n",
      "Column Name Is About_Shopping\n",
      "-------------------\n",
      "Social Media     978\n",
      "Friend           850\n",
      "Search Engine    836\n",
      "Newspaper        714\n",
      "TV               388\n",
      "Other            260\n",
      "Name: About_Shopping, dtype: int64\n",
      "-------------------\n",
      "Column Name Is Shopping_For\n",
      "-------------------\n",
      "Parent       898\n",
      "Friend       776\n",
      "Colleague    735\n",
      "Me           674\n",
      "Boss         567\n",
      "Other        376\n",
      "Name: Shopping_For, dtype: int64\n",
      "-------------------\n",
      "Column Name Is Finding_For\n",
      "-------------------\n",
      "Yes      1812\n",
      "Maybe    1144\n",
      "No       1070\n",
      "Name: Finding_For, dtype: int64\n",
      "-------------------\n",
      "Column Name Is Visiting_Issue\n",
      "-------------------\n",
      "Contact Information    947\n",
      "Product Information    934\n",
      "Buying Products        919\n",
      "About Company          856\n",
      "Other                  370\n",
      "Name: Visiting_Issue, dtype: int64\n",
      "-------------------\n",
      "Column Name Is Compared_to_OS\n",
      "-------------------\n",
      "Shipping options       616\n",
      "Product catalog        614\n",
      "Product information    611\n",
      "Pricing                557\n",
      "Payment experience     536\n",
      "Online help            394\n",
      "Website performance    352\n",
      "Overall                346\n",
      "Name: Compared_to_OS, dtype: int64\n",
      "-------------------\n",
      "Column Name Is Complacency\n",
      "-------------------\n",
      "Very satisfied       1462\n",
      "Satisfied            1249\n",
      "Neutral               731\n",
      "Dissatisfied          440\n",
      "Very dissatisfied     144\n",
      "Name: Complacency, dtype: int64\n",
      "-------------------\n",
      "Column Name Is Find_ERP\n",
      "-------------------\n",
      "Yes      1869\n",
      "Maybe    1157\n",
      "No       1000\n",
      "Name: Find_ERP, dtype: int64\n",
      "-------------------\n",
      "Column Name Is Payment_Complacency\n",
      "-------------------\n",
      "Safe           1187\n",
      "Very Safe      1083\n",
      "Neutral         894\n",
      "Not Safe        658\n",
      "Very Unsafe     204\n",
      "Name: Payment_Complacency, dtype: int64\n",
      "-------------------\n",
      "Column Name Is CheckOut_Experience\n",
      "-------------------\n",
      "5    1658\n",
      "4    1265\n",
      "3     683\n",
      "2     304\n",
      "1     116\n",
      "Name: CheckOut_Experience, dtype: int64\n",
      "-------------------\n",
      "Column Name Is Product_Receive_TimeLine\n",
      "-------------------\n",
      "Yes      2492\n",
      "No        818\n",
      "Maybe     716\n",
      "Name: Product_Receive_TimeLine, dtype: int64\n",
      "-------------------\n",
      "Column Name Is Rider_Review\n",
      "-------------------\n",
      "5    1558\n",
      "4    1317\n",
      "3     703\n",
      "2     308\n",
      "1     140\n",
      "Name: Rider_Review, dtype: int64\n",
      "-------------------\n",
      "Column Name Is CS_Experience\n",
      "-------------------\n",
      "5    1342\n",
      "4     977\n",
      "3     835\n",
      "2     556\n",
      "1     316\n",
      "Name: CS_Experience, dtype: int64\n"
     ]
    }
   ],
   "source": [
    "for col in new_columns[3:]:\n",
    "    print(\"-------------------\")\n",
    "    print(\"Column Name Is\",col)\n",
    "    print(\"-------------------\")\n",
    "    print(df1[col].value_counts())  "
   ]
  },
  {
   "cell_type": "markdown",
   "id": "8567a56a",
   "metadata": {},
   "source": [
    "# Co-Relation"
   ]
  },
  {
   "cell_type": "code",
   "execution_count": 173,
   "id": "a3c478c1",
   "metadata": {},
   "outputs": [
    {
     "data": {
      "text/plain": [
       "<AxesSubplot:>"
      ]
     },
     "execution_count": 173,
     "metadata": {},
     "output_type": "execute_result"
    },
    {
     "data": {
      "image/png": "[encoded data removed]",
      "text/plain": [
       "<Figure size 720x360 with 2 Axes>"
      ]
     },
     "metadata": {
      "needs_background": "light"
     },
     "output_type": "display_data"
    }
   ],
   "source": [
    "f,ax = plt.subplots(figsize=(10, 5))\n",
    "sns.heatmap(df1.corr(), annot=True, linewidths=.5, fmt= '.1f',ax=ax)"
   ]
  },
  {
   "cell_type": "code",
   "execution_count": 174,
   "id": "31693938",
   "metadata": {},
   "outputs": [
    {
     "data": {
      "text/html": [
       "<div>\n",
       "<style scoped>\n",
       "    .dataframe tbody tr th:only-of-type {\n",
       "        vertical-align: middle;\n",
       "    }\n",
       "\n",
       "    .dataframe tbody tr th {\n",
       "        vertical-align: top;\n",
       "    }\n",
       "\n",
       "    .dataframe thead th {\n",
       "        text-align: right;\n",
       "    }\n",
       "</style>\n",
       "<table border=\"1\" class=\"dataframe\">\n",
       "  <thead>\n",
       "    <tr style=\"text-align: right;\">\n",
       "      <th></th>\n",
       "      <th>Age</th>\n",
       "      <th>Gender</th>\n",
       "      <th>About_Shopping</th>\n",
       "      <th>Shopping_For</th>\n",
       "      <th>Finding_For</th>\n",
       "      <th>Visiting_Issue</th>\n",
       "      <th>Compared_to_OS</th>\n",
       "      <th>Complacency</th>\n",
       "      <th>Find_ERP</th>\n",
       "      <th>Payment_Complacency</th>\n",
       "      <th>CheckOut_Experience</th>\n",
       "      <th>Product_Receive_TimeLine</th>\n",
       "      <th>Rider_Review</th>\n",
       "      <th>CS_Experience</th>\n",
       "    </tr>\n",
       "  </thead>\n",
       "  <tbody>\n",
       "    <tr>\n",
       "      <th>0</th>\n",
       "      <td>25</td>\n",
       "      <td>Male</td>\n",
       "      <td>Newspaper</td>\n",
       "      <td>Friend</td>\n",
       "      <td>Yes</td>\n",
       "      <td>Product Information</td>\n",
       "      <td>Pricing</td>\n",
       "      <td>Neutral</td>\n",
       "      <td>Yes</td>\n",
       "      <td>Very Safe</td>\n",
       "      <td>3</td>\n",
       "      <td>No</td>\n",
       "      <td>2</td>\n",
       "      <td>3</td>\n",
       "    </tr>\n",
       "    <tr>\n",
       "      <th>1</th>\n",
       "      <td>22</td>\n",
       "      <td>Female</td>\n",
       "      <td>Social Media</td>\n",
       "      <td>Friend</td>\n",
       "      <td>Yes</td>\n",
       "      <td>Product Information</td>\n",
       "      <td>Website performance</td>\n",
       "      <td>Very satisfied</td>\n",
       "      <td>Yes</td>\n",
       "      <td>Safe</td>\n",
       "      <td>3</td>\n",
       "      <td>Yes</td>\n",
       "      <td>5</td>\n",
       "      <td>5</td>\n",
       "    </tr>\n",
       "    <tr>\n",
       "      <th>2</th>\n",
       "      <td>21</td>\n",
       "      <td>Female</td>\n",
       "      <td>Social Media</td>\n",
       "      <td>Friend</td>\n",
       "      <td>Yes</td>\n",
       "      <td>Buying Products</td>\n",
       "      <td>Website performance</td>\n",
       "      <td>Very satisfied</td>\n",
       "      <td>Yes</td>\n",
       "      <td>Safe</td>\n",
       "      <td>5</td>\n",
       "      <td>Yes</td>\n",
       "      <td>5</td>\n",
       "      <td>5</td>\n",
       "    </tr>\n",
       "    <tr>\n",
       "      <th>3</th>\n",
       "      <td>24</td>\n",
       "      <td>Female</td>\n",
       "      <td>Friend</td>\n",
       "      <td>Parent</td>\n",
       "      <td>Yes</td>\n",
       "      <td>Buying Products</td>\n",
       "      <td>Website performance</td>\n",
       "      <td>Very satisfied</td>\n",
       "      <td>Yes</td>\n",
       "      <td>Safe</td>\n",
       "      <td>5</td>\n",
       "      <td>Yes</td>\n",
       "      <td>5</td>\n",
       "      <td>5</td>\n",
       "    </tr>\n",
       "    <tr>\n",
       "      <th>4</th>\n",
       "      <td>30</td>\n",
       "      <td>Female</td>\n",
       "      <td>Social Media</td>\n",
       "      <td>Colleague</td>\n",
       "      <td>Yes</td>\n",
       "      <td>Product Information</td>\n",
       "      <td>Product catalog</td>\n",
       "      <td>Satisfied</td>\n",
       "      <td>Yes</td>\n",
       "      <td>Very Safe</td>\n",
       "      <td>4</td>\n",
       "      <td>Maybe</td>\n",
       "      <td>4</td>\n",
       "      <td>4</td>\n",
       "    </tr>\n",
       "  </tbody>\n",
       "</table>\n",
       "</div>"
      ],
      "text/plain": [
       "   Age  Gender About_Shopping Shopping_For Finding_For       Visiting_Issue  \\\n",
       "0   25    Male      Newspaper       Friend         Yes  Product Information   \n",
       "1   22  Female   Social Media       Friend         Yes  Product Information   \n",
       "2   21  Female   Social Media       Friend         Yes      Buying Products   \n",
       "3   24  Female         Friend       Parent         Yes      Buying Products   \n",
       "4   30  Female   Social Media    Colleague         Yes  Product Information   \n",
       "\n",
       "        Compared_to_OS     Complacency Find_ERP Payment_Complacency  \\\n",
       "0              Pricing         Neutral      Yes           Very Safe   \n",
       "1  Website performance  Very satisfied      Yes                Safe   \n",
       "2  Website performance  Very satisfied      Yes                Safe   \n",
       "3  Website performance  Very satisfied      Yes                Safe   \n",
       "4      Product catalog       Satisfied      Yes           Very Safe   \n",
       "\n",
       "   CheckOut_Experience Product_Receive_TimeLine  Rider_Review  CS_Experience  \n",
       "0                    3                       No             2              3  \n",
       "1                    3                      Yes             5              5  \n",
       "2                    5                      Yes             5              5  \n",
       "3                    5                      Yes             5              5  \n",
       "4                    4                    Maybe             4              4  "
      ]
     },
     "execution_count": 174,
     "metadata": {},
     "output_type": "execute_result"
    }
   ],
   "source": [
    "df1.head()"
   ]
  },
  {
   "cell_type": "markdown",
   "id": "723c9fb7",
   "metadata": {},
   "source": [
    "# Explority Data Analysis ( EDA )"
   ]
  },
  {
   "cell_type": "markdown",
   "id": "b897a467",
   "metadata": {},
   "source": [
    "# Payment_Complacency"
   ]
  },
  {
   "cell_type": "code",
   "execution_count": 175,
   "id": "53d397e0",
   "metadata": {},
   "outputs": [
    {
     "data": {
      "text/plain": [
       "Safe           1187\n",
       "Very Safe      1083\n",
       "Neutral         894\n",
       "Not Safe        658\n",
       "Very Unsafe     204\n",
       "Name: Payment_Complacency, dtype: int64"
      ]
     },
     "execution_count": 175,
     "metadata": {},
     "output_type": "execute_result"
    }
   ],
   "source": [
    "df1[\"Payment_Complacency\"].value_counts()"
   ]
  },
  {
   "cell_type": "code",
   "execution_count": 176,
   "id": "64979680",
   "metadata": {},
   "outputs": [
    {
     "data": {
      "image/png": "[encoded data removed]",
      "text/plain": [
       "<Figure size 360x360 with 1 Axes>"
      ]
     },
     "metadata": {},
     "output_type": "display_data"
    },
    {
     "data": {
      "image/png": "[encoded data removed]",
      "text/plain": [
       "<Figure size 1080x360 with 1 Axes>"
      ]
     },
     "metadata": {
      "needs_background": "light"
     },
     "output_type": "display_data"
    }
   ],
   "source": [
    "plt.figure(figsize=(5,5))\n",
    "plt.pie(list(df1[\"Payment_Complacency\"].value_counts()[0:5]),labels=list(df1[\"Payment_Complacency\"].value_counts()[0:5].keys()),autopct='%0.1f%%')\n",
    "plt.title('Payment_Complacency Percentage')\n",
    "plt.show()\n",
    "\n",
    "plt.figure(figsize=(15,5))\n",
    "sns.countplot('Payment_Complacency',data=df1)\n",
    "plt.title('Payment_Complacency')\n",
    "plt.show()"
   ]
  },
  {
   "cell_type": "markdown",
   "id": "f6030709",
   "metadata": {},
   "source": [
    "# Complacency"
   ]
  },
  {
   "cell_type": "code",
   "execution_count": 177,
   "id": "aa422a2b",
   "metadata": {},
   "outputs": [
    {
     "data": {
      "text/plain": [
       "Very satisfied       1462\n",
       "Satisfied            1249\n",
       "Neutral               731\n",
       "Dissatisfied          440\n",
       "Very dissatisfied     144\n",
       "Name: Complacency, dtype: int64"
      ]
     },
     "execution_count": 177,
     "metadata": {},
     "output_type": "execute_result"
    }
   ],
   "source": [
    "df1[\"Complacency\"].value_counts()"
   ]
  },
  {
   "cell_type": "code",
   "execution_count": 178,
   "id": "8ad4bfce",
   "metadata": {},
   "outputs": [
    {
     "data": {
      "image/png": "[encoded data removed]",
      "text/plain": [
       "<Figure size 360x360 with 1 Axes>"
      ]
     },
     "metadata": {},
     "output_type": "display_data"
    },
    {
     "data": {
      "image/png": "[encoded data removed]",
      "text/plain": [
       "<Figure size 1080x360 with 1 Axes>"
      ]
     },
     "metadata": {
      "needs_background": "light"
     },
     "output_type": "display_data"
    }
   ],
   "source": [
    "plt.figure(figsize=(5,5))\n",
    "plt.pie(list(df1[\"Complacency\"].value_counts()[0:5]),labels=list(df[\"Complacency\"].value_counts()[0:5].keys()),autopct='%0.1f%%')\n",
    "plt.title('Complacency Percentage')\n",
    "plt.show()\n",
    "\n",
    "plt.figure(figsize=(15,5))\n",
    "sns.countplot('Complacency',data=df1)\n",
    "plt.title('Complacency')\n",
    "plt.show()"
   ]
  },
  {
   "cell_type": "markdown",
   "id": "e4621287",
   "metadata": {},
   "source": [
    "# Compared_to_OS"
   ]
  },
  {
   "cell_type": "code",
   "execution_count": 179,
   "id": "bc31669e",
   "metadata": {},
   "outputs": [
    {
     "data": {
      "text/plain": [
       "Shipping options       616\n",
       "Product catalog        614\n",
       "Product information    611\n",
       "Pricing                557\n",
       "Payment experience     536\n",
       "Online help            394\n",
       "Website performance    352\n",
       "Overall                346\n",
       "Name: Compared_to_OS, dtype: int64"
      ]
     },
     "execution_count": 179,
     "metadata": {},
     "output_type": "execute_result"
    }
   ],
   "source": [
    "df1[\"Compared_to_OS\"].value_counts()"
   ]
  },
  {
   "cell_type": "code",
   "execution_count": 180,
   "id": "7bf84f6f",
   "metadata": {},
   "outputs": [
    {
     "data": {
      "image/png": "[encoded data removed]",
      "text/plain": [
       "<Figure size 360x360 with 1 Axes>"
      ]
     },
     "metadata": {},
     "output_type": "display_data"
    },
    {
     "data": {
      "image/png": "[encoded data removed]",
      "text/plain": [
       "<Figure size 1080x360 with 1 Axes>"
      ]
     },
     "metadata": {
      "needs_background": "light"
     },
     "output_type": "display_data"
    }
   ],
   "source": [
    "plt.figure(figsize=(5,5))\n",
    "plt.pie(list(df1[\"Compared_to_OS\"].value_counts()[0:7]),labels=list(df1[\"Compared_to_OS\"].value_counts()[0:7].keys()),autopct='%0.1f%%')\n",
    "plt.title('Compared to OS Percentage')\n",
    "plt.show()\n",
    "\n",
    "plt.figure(figsize=(15,5))\n",
    "sns.countplot('Compared_to_OS',data=df1)\n",
    "plt.title('Compared_to_OS')\n",
    "plt.show()"
   ]
  },
  {
   "cell_type": "markdown",
   "id": "1214d2e9",
   "metadata": {},
   "source": [
    "# Visiting_Issue"
   ]
  },
  {
   "cell_type": "code",
   "execution_count": 181,
   "id": "44e92bc3",
   "metadata": {},
   "outputs": [
    {
     "data": {
      "text/plain": [
       "Contact Information    947\n",
       "Product Information    934\n",
       "Buying Products        919\n",
       "About Company          856\n",
       "Other                  370\n",
       "Name: Visiting_Issue, dtype: int64"
      ]
     },
     "execution_count": 181,
     "metadata": {},
     "output_type": "execute_result"
    }
   ],
   "source": [
    "df1[\"Visiting_Issue\"].value_counts()"
   ]
  },
  {
   "cell_type": "code",
   "execution_count": 182,
   "id": "02ce1090",
   "metadata": {},
   "outputs": [
    {
     "data": {
      "image/png": "[encoded data removed]",
      "text/plain": [
       "<Figure size 720x504 with 1 Axes>"
      ]
     },
     "metadata": {},
     "output_type": "display_data"
    },
    {
     "data": {
      "image/png": "[encoded data removed]",
      "text/plain": [
       "<Figure size 720x504 with 1 Axes>"
      ]
     },
     "metadata": {
      "needs_background": "light"
     },
     "output_type": "display_data"
    }
   ],
   "source": [
    "plt.figure(figsize=(10,7))\n",
    "plt.pie(list(df1[\"Visiting_Issue\"].value_counts()[0:5]),labels=list(df1[\"Visiting_Issue\"].value_counts()[0:5].keys()),autopct='%0.1f%%')\n",
    "plt.title('Visiting Issue Percentage')\n",
    "plt.show()\n",
    "\n",
    "plt.figure(figsize=(10,7))\n",
    "sns.countplot('Visiting_Issue',data=df1)\n",
    "plt.title('Visiting_Issue')\n",
    "plt.show()"
   ]
  },
  {
   "cell_type": "markdown",
   "id": "0a72f7b2",
   "metadata": {},
   "source": [
    "# About_Shopping"
   ]
  },
  {
   "cell_type": "code",
   "execution_count": 183,
   "id": "557dab5b",
   "metadata": {},
   "outputs": [
    {
     "data": {
      "text/plain": [
       "Social Media     978\n",
       "Friend           850\n",
       "Search Engine    836\n",
       "Newspaper        714\n",
       "TV               388\n",
       "Other            260\n",
       "Name: About_Shopping, dtype: int64"
      ]
     },
     "execution_count": 183,
     "metadata": {},
     "output_type": "execute_result"
    }
   ],
   "source": [
    "df1[\"About_Shopping\"].value_counts()"
   ]
  },
  {
   "cell_type": "code",
   "execution_count": 184,
   "id": "57ad86b3",
   "metadata": {},
   "outputs": [
    {
     "data": {
      "image/png": "[encoded data removed]",
      "text/plain": [
       "<Figure size 720x504 with 1 Axes>"
      ]
     },
     "metadata": {},
     "output_type": "display_data"
    },
    {
     "data": {
      "image/png": "[encoded data removed]",
      "text/plain": [
       "<Figure size 720x504 with 1 Axes>"
      ]
     },
     "metadata": {
      "needs_background": "light"
     },
     "output_type": "display_data"
    }
   ],
   "source": [
    "plt.figure(figsize=(10,7))\n",
    "plt.pie(list(df1[\"About_Shopping\"].value_counts()[0:5]),labels=list(df1[\"About_Shopping\"].value_counts()[0:5].keys()),autopct='%0.1f%%')\n",
    "plt.title('About Shopping For Percentage')\n",
    "plt.show()\n",
    "\n",
    "plt.figure(figsize=(10,7))\n",
    "sns.countplot('About_Shopping',data=df)\n",
    "plt.title('About_Shopping')\n",
    "plt.show()"
   ]
  },
  {
   "cell_type": "code",
   "execution_count": 280,
   "id": "0f28e049",
   "metadata": {},
   "outputs": [
    {
     "data": {
      "text/plain": [
       "Female    2116\n",
       "Male      1904\n",
       "Name: Gender, dtype: int64"
      ]
     },
     "execution_count": 280,
     "metadata": {},
     "output_type": "execute_result"
    }
   ],
   "source": [
    "df1[\"Gender\"].value_counts()"
   ]
  },
  {
   "cell_type": "code",
   "execution_count": 281,
   "id": "dc51fc4c",
   "metadata": {},
   "outputs": [],
   "source": [
    "df1.drop(df1[(df1['Gender'] ==\"Other\")].index, inplace=True)"
   ]
  },
  {
   "cell_type": "code",
   "execution_count": 279,
   "id": "a99b188e",
   "metadata": {},
   "outputs": [
    {
     "data": {
      "text/plain": [
       "Female    2116\n",
       "Male      1904\n",
       "Name: Gender, dtype: int64"
      ]
     },
     "execution_count": 279,
     "metadata": {},
     "output_type": "execute_result"
    }
   ],
   "source": [
    "df1[\"Gender\"].value_counts()"
   ]
  },
  {
   "cell_type": "code",
   "execution_count": 282,
   "id": "864dd500",
   "metadata": {},
   "outputs": [
    {
     "data": {
      "image/png": "[encoded data removed]",
      "text/plain": [
       "<Figure size 720x360 with 2 Axes>"
      ]
     },
     "metadata": {
      "needs_background": "light"
     },
     "output_type": "display_data"
    }
   ],
   "source": [
    "f,ax=plt.subplots(1,2,figsize=(10,5))\n",
    "df1['Gender'].value_counts().plot.pie(explode=[0,0.05],autopct='%1.1f%%',ax=ax[0],shadow=True)\n",
    "ax[0].set_title('Gender')\n",
    "ax[0].set_ylabel('')\n",
    "sns.countplot('Gender',data=df,ax=ax[1])\n",
    "ax[1].set_title('Gender')\n",
    "plt.show()"
   ]
  },
  {
   "cell_type": "code",
   "execution_count": 283,
   "id": "56fce4f8",
   "metadata": {},
   "outputs": [
    {
     "data": {
      "text/plain": [
       "Parent       898\n",
       "Friend       776\n",
       "Colleague    733\n",
       "Me           670\n",
       "Boss         567\n",
       "Other        376\n",
       "Name: Shopping_For, dtype: int64"
      ]
     },
     "execution_count": 283,
     "metadata": {},
     "output_type": "execute_result"
    }
   ],
   "source": [
    "df1[\"Shopping_For\"].value_counts()"
   ]
  },
  {
   "cell_type": "code",
   "execution_count": 284,
   "id": "8667c660",
   "metadata": {},
   "outputs": [
    {
     "data": {
      "image/png": "[encoded data removed]",
      "text/plain": [
       "<Figure size 504x504 with 1 Axes>"
      ]
     },
     "metadata": {},
     "output_type": "display_data"
    },
    {
     "data": {
      "image/png": "[encoded data removed]",
      "text/plain": [
       "<Figure size 432x288 with 1 Axes>"
      ]
     },
     "metadata": {
      "needs_background": "light"
     },
     "output_type": "display_data"
    }
   ],
   "source": [
    "plt.figure(figsize=(7,7))\n",
    "plt.pie(list(df1[\"Shopping_For\"].value_counts()[0:5]),labels=list(df1[\"Shopping_For\"].value_counts()[0:5].keys()),autopct='%0.1f%%')\n",
    "plt.title('Shopping For Percentage')\n",
    "plt.show()\n",
    "\n",
    "sns.countplot('Shopping_For',data=df1)\n",
    "plt.title('Shopping_For')\n",
    "plt.show()"
   ]
  },
  {
   "cell_type": "markdown",
   "id": "e83a9eae",
   "metadata": {},
   "source": [
    "# Separate X and Y"
   ]
  },
  {
   "cell_type": "code",
   "execution_count": 285,
   "id": "ccd7fd66",
   "metadata": {},
   "outputs": [],
   "source": [
    "target=df1[\"Complacency\"]"
   ]
  },
  {
   "cell_type": "code",
   "execution_count": 286,
   "id": "27593f24",
   "metadata": {},
   "outputs": [],
   "source": [
    "features=df1.drop([\"Complacency\"],axis=1)"
   ]
  },
  {
   "cell_type": "code",
   "execution_count": 287,
   "id": "b51c21f3",
   "metadata": {},
   "outputs": [
    {
     "data": {
      "text/plain": [
       "Index(['Age', 'Gender', 'About_Shopping', 'Shopping_For', 'Finding_For',\n",
       "       'Visiting_Issue', 'Compared_to_OS', 'Find_ERP', 'Payment_Complacency',\n",
       "       'CheckOut_Experience', 'Product_Receive_TimeLine', 'Rider_Review',\n",
       "       'CS_Experience'],\n",
       "      dtype='object')"
      ]
     },
     "execution_count": 287,
     "metadata": {},
     "output_type": "execute_result"
    }
   ],
   "source": [
    "features.columns"
   ]
  },
  {
   "cell_type": "code",
   "execution_count": 288,
   "id": "b48d381d",
   "metadata": {},
   "outputs": [],
   "source": [
    "Features_categorical_features=[]\n",
    "Features_numerical_features=[]"
   ]
  },
  {
   "cell_type": "code",
   "execution_count": 289,
   "id": "25c4230a",
   "metadata": {},
   "outputs": [],
   "source": [
    "for i in features.columns.tolist():\n",
    "    if features[i].dtype==\"object\":\n",
    "        Features_categorical_features.append(i)\n",
    "    else:\n",
    "        Features_numerical_features.append(i)"
   ]
  },
  {
   "cell_type": "code",
   "execution_count": 290,
   "id": "ba6bf67c",
   "metadata": {},
   "outputs": [
    {
     "data": {
      "text/plain": [
       "['Age', 'CheckOut_Experience', 'Rider_Review', 'CS_Experience']"
      ]
     },
     "execution_count": 290,
     "metadata": {},
     "output_type": "execute_result"
    }
   ],
   "source": [
    "Features_numerical_features"
   ]
  },
  {
   "cell_type": "code",
   "execution_count": 291,
   "id": "ab079f78",
   "metadata": {},
   "outputs": [
    {
     "data": {
      "text/plain": [
       "['Gender',\n",
       " 'About_Shopping',\n",
       " 'Shopping_For',\n",
       " 'Finding_For',\n",
       " 'Visiting_Issue',\n",
       " 'Compared_to_OS',\n",
       " 'Find_ERP',\n",
       " 'Payment_Complacency',\n",
       " 'Product_Receive_TimeLine']"
      ]
     },
     "execution_count": 291,
     "metadata": {},
     "output_type": "execute_result"
    }
   ],
   "source": [
    "Features_categorical_features"
   ]
  },
  {
   "cell_type": "code",
   "execution_count": 292,
   "id": "f8acc850",
   "metadata": {},
   "outputs": [],
   "source": [
    "le=LabelEncoder()\n",
    "for i in Features_categorical_features:\n",
    "    features[i]=le.fit_transform(features[i])"
   ]
  },
  {
   "cell_type": "code",
   "execution_count": 293,
   "id": "b16cd287",
   "metadata": {},
   "outputs": [
    {
     "data": {
      "text/html": [
       "<div>\n",
       "<style scoped>\n",
       "    .dataframe tbody tr th:only-of-type {\n",
       "        vertical-align: middle;\n",
       "    }\n",
       "\n",
       "    .dataframe tbody tr th {\n",
       "        vertical-align: top;\n",
       "    }\n",
       "\n",
       "    .dataframe thead th {\n",
       "        text-align: right;\n",
       "    }\n",
       "</style>\n",
       "<table border=\"1\" class=\"dataframe\">\n",
       "  <thead>\n",
       "    <tr style=\"text-align: right;\">\n",
       "      <th></th>\n",
       "      <th>Age</th>\n",
       "      <th>Gender</th>\n",
       "      <th>About_Shopping</th>\n",
       "      <th>Shopping_For</th>\n",
       "      <th>Finding_For</th>\n",
       "      <th>Visiting_Issue</th>\n",
       "      <th>Compared_to_OS</th>\n",
       "      <th>Find_ERP</th>\n",
       "      <th>Payment_Complacency</th>\n",
       "      <th>CheckOut_Experience</th>\n",
       "      <th>Product_Receive_TimeLine</th>\n",
       "      <th>Rider_Review</th>\n",
       "      <th>CS_Experience</th>\n",
       "    </tr>\n",
       "  </thead>\n",
       "  <tbody>\n",
       "    <tr>\n",
       "      <th>0</th>\n",
       "      <td>25</td>\n",
       "      <td>1</td>\n",
       "      <td>1</td>\n",
       "      <td>2</td>\n",
       "      <td>2</td>\n",
       "      <td>4</td>\n",
       "      <td>3</td>\n",
       "      <td>2</td>\n",
       "      <td>3</td>\n",
       "      <td>3</td>\n",
       "      <td>1</td>\n",
       "      <td>2</td>\n",
       "      <td>3</td>\n",
       "    </tr>\n",
       "    <tr>\n",
       "      <th>1</th>\n",
       "      <td>22</td>\n",
       "      <td>0</td>\n",
       "      <td>4</td>\n",
       "      <td>2</td>\n",
       "      <td>2</td>\n",
       "      <td>4</td>\n",
       "      <td>7</td>\n",
       "      <td>2</td>\n",
       "      <td>2</td>\n",
       "      <td>3</td>\n",
       "      <td>2</td>\n",
       "      <td>5</td>\n",
       "      <td>5</td>\n",
       "    </tr>\n",
       "    <tr>\n",
       "      <th>2</th>\n",
       "      <td>21</td>\n",
       "      <td>0</td>\n",
       "      <td>4</td>\n",
       "      <td>2</td>\n",
       "      <td>2</td>\n",
       "      <td>1</td>\n",
       "      <td>7</td>\n",
       "      <td>2</td>\n",
       "      <td>2</td>\n",
       "      <td>5</td>\n",
       "      <td>2</td>\n",
       "      <td>5</td>\n",
       "      <td>5</td>\n",
       "    </tr>\n",
       "    <tr>\n",
       "      <th>3</th>\n",
       "      <td>24</td>\n",
       "      <td>0</td>\n",
       "      <td>0</td>\n",
       "      <td>5</td>\n",
       "      <td>2</td>\n",
       "      <td>1</td>\n",
       "      <td>7</td>\n",
       "      <td>2</td>\n",
       "      <td>2</td>\n",
       "      <td>5</td>\n",
       "      <td>2</td>\n",
       "      <td>5</td>\n",
       "      <td>5</td>\n",
       "    </tr>\n",
       "    <tr>\n",
       "      <th>4</th>\n",
       "      <td>30</td>\n",
       "      <td>0</td>\n",
       "      <td>4</td>\n",
       "      <td>1</td>\n",
       "      <td>2</td>\n",
       "      <td>4</td>\n",
       "      <td>4</td>\n",
       "      <td>2</td>\n",
       "      <td>3</td>\n",
       "      <td>4</td>\n",
       "      <td>0</td>\n",
       "      <td>4</td>\n",
       "      <td>4</td>\n",
       "    </tr>\n",
       "  </tbody>\n",
       "</table>\n",
       "</div>"
      ],
      "text/plain": [
       "   Age  Gender  About_Shopping  Shopping_For  Finding_For  Visiting_Issue  \\\n",
       "0   25       1               1             2            2               4   \n",
       "1   22       0               4             2            2               4   \n",
       "2   21       0               4             2            2               1   \n",
       "3   24       0               0             5            2               1   \n",
       "4   30       0               4             1            2               4   \n",
       "\n",
       "   Compared_to_OS  Find_ERP  Payment_Complacency  CheckOut_Experience  \\\n",
       "0               3         2                    3                    3   \n",
       "1               7         2                    2                    3   \n",
       "2               7         2                    2                    5   \n",
       "3               7         2                    2                    5   \n",
       "4               4         2                    3                    4   \n",
       "\n",
       "   Product_Receive_TimeLine  Rider_Review  CS_Experience  \n",
       "0                         1             2              3  \n",
       "1                         2             5              5  \n",
       "2                         2             5              5  \n",
       "3                         2             5              5  \n",
       "4                         0             4              4  "
      ]
     },
     "execution_count": 293,
     "metadata": {},
     "output_type": "execute_result"
    }
   ],
   "source": [
    "features.head()"
   ]
  },
  {
   "cell_type": "markdown",
   "id": "9e168287",
   "metadata": {},
   "source": [
    "# Feature Selection"
   ]
  },
  {
   "cell_type": "code",
   "execution_count": 338,
   "id": "554eaf24",
   "metadata": {},
   "outputs": [],
   "source": [
    "from sklearn.feature_selection import SelectKBest\n",
    "from sklearn.feature_selection import f_classif\n",
    "\n",
    "test = SelectKBest(score_func=f_classif, k=4)\n",
    "fit_features = test.fit(features,target)\n",
    "score_col=pd.DataFrame(fit_features.scores_,columns=[\"Score_Value\"])"
   ]
  },
  {
   "cell_type": "code",
   "execution_count": 339,
   "id": "8d3379c2",
   "metadata": {},
   "outputs": [
    {
     "data": {
      "text/html": [
       "<div>\n",
       "<style scoped>\n",
       "    .dataframe tbody tr th:only-of-type {\n",
       "        vertical-align: middle;\n",
       "    }\n",
       "\n",
       "    .dataframe tbody tr th {\n",
       "        vertical-align: top;\n",
       "    }\n",
       "\n",
       "    .dataframe thead th {\n",
       "        text-align: right;\n",
       "    }\n",
       "</style>\n",
       "<table border=\"1\" class=\"dataframe\">\n",
       "  <thead>\n",
       "    <tr style=\"text-align: right;\">\n",
       "      <th></th>\n",
       "      <th>Score_Value</th>\n",
       "    </tr>\n",
       "  </thead>\n",
       "  <tbody>\n",
       "    <tr>\n",
       "      <th>0</th>\n",
       "      <td>15.993216</td>\n",
       "    </tr>\n",
       "    <tr>\n",
       "      <th>1</th>\n",
       "      <td>13.105300</td>\n",
       "    </tr>\n",
       "    <tr>\n",
       "      <th>2</th>\n",
       "      <td>1.980686</td>\n",
       "    </tr>\n",
       "    <tr>\n",
       "      <th>3</th>\n",
       "      <td>1.148897</td>\n",
       "    </tr>\n",
       "    <tr>\n",
       "      <th>4</th>\n",
       "      <td>12.196394</td>\n",
       "    </tr>\n",
       "    <tr>\n",
       "      <th>5</th>\n",
       "      <td>6.462861</td>\n",
       "    </tr>\n",
       "    <tr>\n",
       "      <th>6</th>\n",
       "      <td>33.969174</td>\n",
       "    </tr>\n",
       "    <tr>\n",
       "      <th>7</th>\n",
       "      <td>5.683158</td>\n",
       "    </tr>\n",
       "    <tr>\n",
       "      <th>8</th>\n",
       "      <td>13.321991</td>\n",
       "    </tr>\n",
       "    <tr>\n",
       "      <th>9</th>\n",
       "      <td>23.329069</td>\n",
       "    </tr>\n",
       "    <tr>\n",
       "      <th>10</th>\n",
       "      <td>18.151090</td>\n",
       "    </tr>\n",
       "    <tr>\n",
       "      <th>11</th>\n",
       "      <td>12.727654</td>\n",
       "    </tr>\n",
       "    <tr>\n",
       "      <th>12</th>\n",
       "      <td>13.180804</td>\n",
       "    </tr>\n",
       "  </tbody>\n",
       "</table>\n",
       "</div>"
      ],
      "text/plain": [
       "    Score_Value\n",
       "0     15.993216\n",
       "1     13.105300\n",
       "2      1.980686\n",
       "3      1.148897\n",
       "4     12.196394\n",
       "5      6.462861\n",
       "6     33.969174\n",
       "7      5.683158\n",
       "8     13.321991\n",
       "9     23.329069\n",
       "10    18.151090\n",
       "11    12.727654\n",
       "12    13.180804"
      ]
     },
     "execution_count": 339,
     "metadata": {},
     "output_type": "execute_result"
    }
   ],
   "source": [
    "score_col"
   ]
  },
  {
   "cell_type": "code",
   "execution_count": 360,
   "id": "b3ecd96c",
   "metadata": {},
   "outputs": [
    {
     "data": {
      "text/html": [
       "<div>\n",
       "<style scoped>\n",
       "    .dataframe tbody tr th:only-of-type {\n",
       "        vertical-align: middle;\n",
       "    }\n",
       "\n",
       "    .dataframe tbody tr th {\n",
       "        vertical-align: top;\n",
       "    }\n",
       "\n",
       "    .dataframe thead th {\n",
       "        text-align: right;\n",
       "    }\n",
       "</style>\n",
       "<table border=\"1\" class=\"dataframe\">\n",
       "  <thead>\n",
       "    <tr style=\"text-align: right;\">\n",
       "      <th></th>\n",
       "      <th>0</th>\n",
       "    </tr>\n",
       "  </thead>\n",
       "  <tbody>\n",
       "    <tr>\n",
       "      <th>0</th>\n",
       "      <td>Age</td>\n",
       "    </tr>\n",
       "    <tr>\n",
       "      <th>1</th>\n",
       "      <td>Gender</td>\n",
       "    </tr>\n",
       "    <tr>\n",
       "      <th>2</th>\n",
       "      <td>About_Shopping</td>\n",
       "    </tr>\n",
       "    <tr>\n",
       "      <th>3</th>\n",
       "      <td>Shopping_For</td>\n",
       "    </tr>\n",
       "    <tr>\n",
       "      <th>4</th>\n",
       "      <td>Finding_For</td>\n",
       "    </tr>\n",
       "    <tr>\n",
       "      <th>5</th>\n",
       "      <td>Visiting_Issue</td>\n",
       "    </tr>\n",
       "    <tr>\n",
       "      <th>6</th>\n",
       "      <td>Compared_to_OS</td>\n",
       "    </tr>\n",
       "    <tr>\n",
       "      <th>7</th>\n",
       "      <td>Find_ERP</td>\n",
       "    </tr>\n",
       "    <tr>\n",
       "      <th>8</th>\n",
       "      <td>Payment_Complacency</td>\n",
       "    </tr>\n",
       "    <tr>\n",
       "      <th>9</th>\n",
       "      <td>CheckOut_Experience</td>\n",
       "    </tr>\n",
       "    <tr>\n",
       "      <th>10</th>\n",
       "      <td>Product_Receive_TimeLine</td>\n",
       "    </tr>\n",
       "    <tr>\n",
       "      <th>11</th>\n",
       "      <td>Rider_Review</td>\n",
       "    </tr>\n",
       "    <tr>\n",
       "      <th>12</th>\n",
       "      <td>CS_Experience</td>\n",
       "    </tr>\n",
       "  </tbody>\n",
       "</table>\n",
       "</div>"
      ],
      "text/plain": [
       "                           0\n",
       "0                        Age\n",
       "1                     Gender\n",
       "2             About_Shopping\n",
       "3               Shopping_For\n",
       "4                Finding_For\n",
       "5             Visiting_Issue\n",
       "6             Compared_to_OS\n",
       "7                   Find_ERP\n",
       "8        Payment_Complacency\n",
       "9        CheckOut_Experience\n",
       "10  Product_Receive_TimeLine\n",
       "11              Rider_Review\n",
       "12             CS_Experience"
      ]
     },
     "execution_count": 360,
     "metadata": {},
     "output_type": "execute_result"
    }
   ],
   "source": [
    "Name_col=pd.DataFrame(features.columns)\n",
    "Name_col"
   ]
  },
  {
   "cell_type": "code",
   "execution_count": 362,
   "id": "94144083",
   "metadata": {},
   "outputs": [
    {
     "data": {
      "text/html": [
       "<div>\n",
       "<style scoped>\n",
       "    .dataframe tbody tr th:only-of-type {\n",
       "        vertical-align: middle;\n",
       "    }\n",
       "\n",
       "    .dataframe tbody tr th {\n",
       "        vertical-align: top;\n",
       "    }\n",
       "\n",
       "    .dataframe thead th {\n",
       "        text-align: right;\n",
       "    }\n",
       "</style>\n",
       "<table border=\"1\" class=\"dataframe\">\n",
       "  <thead>\n",
       "    <tr style=\"text-align: right;\">\n",
       "      <th></th>\n",
       "      <th>0</th>\n",
       "      <th>Score_Value</th>\n",
       "    </tr>\n",
       "  </thead>\n",
       "  <tbody>\n",
       "    <tr>\n",
       "      <th>0</th>\n",
       "      <td>Age</td>\n",
       "      <td>15.993216</td>\n",
       "    </tr>\n",
       "    <tr>\n",
       "      <th>1</th>\n",
       "      <td>Gender</td>\n",
       "      <td>13.105300</td>\n",
       "    </tr>\n",
       "    <tr>\n",
       "      <th>2</th>\n",
       "      <td>About_Shopping</td>\n",
       "      <td>1.980686</td>\n",
       "    </tr>\n",
       "    <tr>\n",
       "      <th>3</th>\n",
       "      <td>Shopping_For</td>\n",
       "      <td>1.148897</td>\n",
       "    </tr>\n",
       "    <tr>\n",
       "      <th>4</th>\n",
       "      <td>Finding_For</td>\n",
       "      <td>12.196394</td>\n",
       "    </tr>\n",
       "    <tr>\n",
       "      <th>5</th>\n",
       "      <td>Visiting_Issue</td>\n",
       "      <td>6.462861</td>\n",
       "    </tr>\n",
       "    <tr>\n",
       "      <th>6</th>\n",
       "      <td>Compared_to_OS</td>\n",
       "      <td>33.969174</td>\n",
       "    </tr>\n",
       "    <tr>\n",
       "      <th>7</th>\n",
       "      <td>Find_ERP</td>\n",
       "      <td>5.683158</td>\n",
       "    </tr>\n",
       "    <tr>\n",
       "      <th>8</th>\n",
       "      <td>Payment_Complacency</td>\n",
       "      <td>13.321991</td>\n",
       "    </tr>\n",
       "    <tr>\n",
       "      <th>9</th>\n",
       "      <td>CheckOut_Experience</td>\n",
       "      <td>23.329069</td>\n",
       "    </tr>\n",
       "    <tr>\n",
       "      <th>10</th>\n",
       "      <td>Product_Receive_TimeLine</td>\n",
       "      <td>18.151090</td>\n",
       "    </tr>\n",
       "    <tr>\n",
       "      <th>11</th>\n",
       "      <td>Rider_Review</td>\n",
       "      <td>12.727654</td>\n",
       "    </tr>\n",
       "    <tr>\n",
       "      <th>12</th>\n",
       "      <td>CS_Experience</td>\n",
       "      <td>13.180804</td>\n",
       "    </tr>\n",
       "  </tbody>\n",
       "</table>\n",
       "</div>"
      ],
      "text/plain": [
       "                           0  Score_Value\n",
       "0                        Age    15.993216\n",
       "1                     Gender    13.105300\n",
       "2             About_Shopping     1.980686\n",
       "3               Shopping_For     1.148897\n",
       "4                Finding_For    12.196394\n",
       "5             Visiting_Issue     6.462861\n",
       "6             Compared_to_OS    33.969174\n",
       "7                   Find_ERP     5.683158\n",
       "8        Payment_Complacency    13.321991\n",
       "9        CheckOut_Experience    23.329069\n",
       "10  Product_Receive_TimeLine    18.151090\n",
       "11              Rider_Review    12.727654\n",
       "12             CS_Experience    13.180804"
      ]
     },
     "execution_count": 362,
     "metadata": {},
     "output_type": "execute_result"
    }
   ],
   "source": [
    "top_features=pd.concat([Name_col,score_col],axis=1)\n",
    "top_features"
   ]
  },
  {
   "cell_type": "code",
   "execution_count": 364,
   "id": "ef378fca",
   "metadata": {},
   "outputs": [],
   "source": [
    "top_features.columns=[\"Name\",\"Score Value\"]"
   ]
  },
  {
   "cell_type": "code",
   "execution_count": 365,
   "id": "5b5e83b7",
   "metadata": {},
   "outputs": [
    {
     "data": {
      "text/html": [
       "<div>\n",
       "<style scoped>\n",
       "    .dataframe tbody tr th:only-of-type {\n",
       "        vertical-align: middle;\n",
       "    }\n",
       "\n",
       "    .dataframe tbody tr th {\n",
       "        vertical-align: top;\n",
       "    }\n",
       "\n",
       "    .dataframe thead th {\n",
       "        text-align: right;\n",
       "    }\n",
       "</style>\n",
       "<table border=\"1\" class=\"dataframe\">\n",
       "  <thead>\n",
       "    <tr style=\"text-align: right;\">\n",
       "      <th></th>\n",
       "      <th>Name</th>\n",
       "      <th>Score Value</th>\n",
       "    </tr>\n",
       "  </thead>\n",
       "  <tbody>\n",
       "    <tr>\n",
       "      <th>6</th>\n",
       "      <td>Compared_to_OS</td>\n",
       "      <td>33.969174</td>\n",
       "    </tr>\n",
       "    <tr>\n",
       "      <th>9</th>\n",
       "      <td>CheckOut_Experience</td>\n",
       "      <td>23.329069</td>\n",
       "    </tr>\n",
       "    <tr>\n",
       "      <th>10</th>\n",
       "      <td>Product_Receive_TimeLine</td>\n",
       "      <td>18.151090</td>\n",
       "    </tr>\n",
       "    <tr>\n",
       "      <th>0</th>\n",
       "      <td>Age</td>\n",
       "      <td>15.993216</td>\n",
       "    </tr>\n",
       "    <tr>\n",
       "      <th>8</th>\n",
       "      <td>Payment_Complacency</td>\n",
       "      <td>13.321991</td>\n",
       "    </tr>\n",
       "    <tr>\n",
       "      <th>12</th>\n",
       "      <td>CS_Experience</td>\n",
       "      <td>13.180804</td>\n",
       "    </tr>\n",
       "    <tr>\n",
       "      <th>1</th>\n",
       "      <td>Gender</td>\n",
       "      <td>13.105300</td>\n",
       "    </tr>\n",
       "    <tr>\n",
       "      <th>11</th>\n",
       "      <td>Rider_Review</td>\n",
       "      <td>12.727654</td>\n",
       "    </tr>\n",
       "    <tr>\n",
       "      <th>4</th>\n",
       "      <td>Finding_For</td>\n",
       "      <td>12.196394</td>\n",
       "    </tr>\n",
       "    <tr>\n",
       "      <th>5</th>\n",
       "      <td>Visiting_Issue</td>\n",
       "      <td>6.462861</td>\n",
       "    </tr>\n",
       "    <tr>\n",
       "      <th>7</th>\n",
       "      <td>Find_ERP</td>\n",
       "      <td>5.683158</td>\n",
       "    </tr>\n",
       "    <tr>\n",
       "      <th>2</th>\n",
       "      <td>About_Shopping</td>\n",
       "      <td>1.980686</td>\n",
       "    </tr>\n",
       "    <tr>\n",
       "      <th>3</th>\n",
       "      <td>Shopping_For</td>\n",
       "      <td>1.148897</td>\n",
       "    </tr>\n",
       "  </tbody>\n",
       "</table>\n",
       "</div>"
      ],
      "text/plain": [
       "                        Name  Score Value\n",
       "6             Compared_to_OS    33.969174\n",
       "9        CheckOut_Experience    23.329069\n",
       "10  Product_Receive_TimeLine    18.151090\n",
       "0                        Age    15.993216\n",
       "8        Payment_Complacency    13.321991\n",
       "12             CS_Experience    13.180804\n",
       "1                     Gender    13.105300\n",
       "11              Rider_Review    12.727654\n",
       "4                Finding_For    12.196394\n",
       "5             Visiting_Issue     6.462861\n",
       "7                   Find_ERP     5.683158\n",
       "2             About_Shopping     1.980686\n",
       "3               Shopping_For     1.148897"
      ]
     },
     "execution_count": 365,
     "metadata": {},
     "output_type": "execute_result"
    }
   ],
   "source": [
    "top_features.sort_values( by = 'Score Value' , ascending = False , inplace = True)\n",
    "top_features"
   ]
  },
  {
   "cell_type": "code",
   "execution_count": 344,
   "id": "3bad8484",
   "metadata": {},
   "outputs": [
    {
     "data": {
      "text/plain": [
       "Age                         int64\n",
       "Gender                      int32\n",
       "About_Shopping              int32\n",
       "Shopping_For                int32\n",
       "Finding_For                 int32\n",
       "Visiting_Issue              int32\n",
       "Compared_to_OS              int32\n",
       "Find_ERP                    int32\n",
       "Payment_Complacency         int32\n",
       "CheckOut_Experience         int64\n",
       "Product_Receive_TimeLine    int32\n",
       "Rider_Review                int64\n",
       "CS_Experience               int64\n",
       "dtype: object"
      ]
     },
     "execution_count": 344,
     "metadata": {},
     "output_type": "execute_result"
    }
   ],
   "source": [
    "features.dtypes"
   ]
  },
  {
   "cell_type": "markdown",
   "id": "8701152c",
   "metadata": {},
   "source": [
    "# Dropping Less Importants Column"
   ]
  },
  {
   "cell_type": "code",
   "execution_count": 366,
   "id": "98fe8763",
   "metadata": {},
   "outputs": [],
   "source": [
    "top_features=features.drop([\"Shopping_For\",\"About_Shopping\",\"Find_ERP\",\"Visiting_Issue\",\"Finding_For\"],axis=1)"
   ]
  },
  {
   "cell_type": "code",
   "execution_count": 367,
   "id": "586d7026",
   "metadata": {},
   "outputs": [
    {
     "data": {
      "text/html": [
       "<div>\n",
       "<style scoped>\n",
       "    .dataframe tbody tr th:only-of-type {\n",
       "        vertical-align: middle;\n",
       "    }\n",
       "\n",
       "    .dataframe tbody tr th {\n",
       "        vertical-align: top;\n",
       "    }\n",
       "\n",
       "    .dataframe thead th {\n",
       "        text-align: right;\n",
       "    }\n",
       "</style>\n",
       "<table border=\"1\" class=\"dataframe\">\n",
       "  <thead>\n",
       "    <tr style=\"text-align: right;\">\n",
       "      <th></th>\n",
       "      <th>Age</th>\n",
       "      <th>Gender</th>\n",
       "      <th>Compared_to_OS</th>\n",
       "      <th>Payment_Complacency</th>\n",
       "      <th>CheckOut_Experience</th>\n",
       "      <th>Product_Receive_TimeLine</th>\n",
       "      <th>Rider_Review</th>\n",
       "      <th>CS_Experience</th>\n",
       "    </tr>\n",
       "  </thead>\n",
       "  <tbody>\n",
       "    <tr>\n",
       "      <th>0</th>\n",
       "      <td>25</td>\n",
       "      <td>1</td>\n",
       "      <td>3</td>\n",
       "      <td>3</td>\n",
       "      <td>3</td>\n",
       "      <td>1</td>\n",
       "      <td>2</td>\n",
       "      <td>3</td>\n",
       "    </tr>\n",
       "    <tr>\n",
       "      <th>1</th>\n",
       "      <td>22</td>\n",
       "      <td>0</td>\n",
       "      <td>7</td>\n",
       "      <td>2</td>\n",
       "      <td>3</td>\n",
       "      <td>2</td>\n",
       "      <td>5</td>\n",
       "      <td>5</td>\n",
       "    </tr>\n",
       "    <tr>\n",
       "      <th>2</th>\n",
       "      <td>21</td>\n",
       "      <td>0</td>\n",
       "      <td>7</td>\n",
       "      <td>2</td>\n",
       "      <td>5</td>\n",
       "      <td>2</td>\n",
       "      <td>5</td>\n",
       "      <td>5</td>\n",
       "    </tr>\n",
       "    <tr>\n",
       "      <th>3</th>\n",
       "      <td>24</td>\n",
       "      <td>0</td>\n",
       "      <td>7</td>\n",
       "      <td>2</td>\n",
       "      <td>5</td>\n",
       "      <td>2</td>\n",
       "      <td>5</td>\n",
       "      <td>5</td>\n",
       "    </tr>\n",
       "    <tr>\n",
       "      <th>4</th>\n",
       "      <td>30</td>\n",
       "      <td>0</td>\n",
       "      <td>4</td>\n",
       "      <td>3</td>\n",
       "      <td>4</td>\n",
       "      <td>0</td>\n",
       "      <td>4</td>\n",
       "      <td>4</td>\n",
       "    </tr>\n",
       "  </tbody>\n",
       "</table>\n",
       "</div>"
      ],
      "text/plain": [
       "   Age  Gender  Compared_to_OS  Payment_Complacency  CheckOut_Experience  \\\n",
       "0   25       1               3                    3                    3   \n",
       "1   22       0               7                    2                    3   \n",
       "2   21       0               7                    2                    5   \n",
       "3   24       0               7                    2                    5   \n",
       "4   30       0               4                    3                    4   \n",
       "\n",
       "   Product_Receive_TimeLine  Rider_Review  CS_Experience  \n",
       "0                         1             2              3  \n",
       "1                         2             5              5  \n",
       "2                         2             5              5  \n",
       "3                         2             5              5  \n",
       "4                         0             4              4  "
      ]
     },
     "execution_count": 367,
     "metadata": {},
     "output_type": "execute_result"
    }
   ],
   "source": [
    "top_features.head()"
   ]
  },
  {
   "cell_type": "markdown",
   "id": "447bc56c",
   "metadata": {},
   "source": [
    "# Normalization of the Dataset"
   ]
  },
  {
   "cell_type": "code",
   "execution_count": 368,
   "id": "693b0242",
   "metadata": {},
   "outputs": [
    {
     "data": {
      "text/plain": [
       "array([[-0.53295953,  1.05420327, -0.31656397,  1.0210596 , -0.93863319,\n",
       "        -0.5722685 , -1.79933172, -0.47653815],\n",
       "       [-0.85530115, -0.94858366,  1.57998919,  0.1953385 , -0.93863319,\n",
       "         0.71870758,  0.96393589,  1.08029513],\n",
       "       [-0.96274836, -0.94858366,  1.57998919,  0.1953385 ,  0.9316545 ,\n",
       "         0.71870758,  0.96393589,  1.08029513],\n",
       "       [-0.64040674, -0.94858366,  1.57998919,  0.1953385 ,  0.9316545 ,\n",
       "         0.71870758,  0.96393589,  1.08029513],\n",
       "       [ 0.00427651, -0.94858366,  0.15757432,  1.0210596 , -0.00348934,\n",
       "        -1.86324457,  0.04284669,  0.30187849]])"
      ]
     },
     "execution_count": 368,
     "metadata": {},
     "output_type": "execute_result"
    }
   ],
   "source": [
    "from sklearn.preprocessing import StandardScaler\n",
    "X_norm=StandardScaler().fit_transform(top_features)\n",
    "X_norm[0:5]"
   ]
  },
  {
   "cell_type": "code",
   "execution_count": 369,
   "id": "36b7f5e2",
   "metadata": {},
   "outputs": [],
   "source": [
    "# top_features.head()"
   ]
  },
  {
   "cell_type": "code",
   "execution_count": 379,
   "id": "427d4570",
   "metadata": {},
   "outputs": [],
   "source": [
    "accuracy=[]\n",
    "f1=[]\n",
    "model=[]"
   ]
  },
  {
   "cell_type": "code",
   "execution_count": 380,
   "id": "feecd60c",
   "metadata": {},
   "outputs": [],
   "source": [
    "xtrain,xtest,ytrain,ytest=train_test_split(X_norm,target,test_size=0.25,random_state=1)"
   ]
  },
  {
   "cell_type": "markdown",
   "id": "fc9db2be",
   "metadata": {},
   "source": [
    "# Support Vector Machine"
   ]
  },
  {
   "cell_type": "code",
   "execution_count": 381,
   "id": "89729bb4",
   "metadata": {},
   "outputs": [],
   "source": [
    "svc=SVC()\n",
    "svc.fit(xtrain,ytrain)\n",
    "testpredict=svc.predict(xtest)\n",
    "accuracy.append(np.round(accuracy_score(ytest,testpredict),2))\n",
    "f1.append(np.round(f1_score(ytest,testpredict,average='weighted'),2))\n",
    "model.append('Support Vector Machine')"
   ]
  },
  {
   "cell_type": "markdown",
   "id": "16fd33b3",
   "metadata": {},
   "source": [
    "# K-Neighbors Classifier"
   ]
  },
  {
   "cell_type": "code",
   "execution_count": 382,
   "id": "e1ba11c7",
   "metadata": {},
   "outputs": [],
   "source": [
    "KNN = KNeighborsClassifier(n_neighbors = 1)\n",
    "KNN.fit(xtrain, ytrain)\n",
    "testpredict = KNN.predict(xtest)\n",
    "accuracy.append(np.round(accuracy_score(ytest,testpredict),2))\n",
    "f1.append(np.round(f1_score(ytest,testpredict,average='weighted'),2))\n",
    "model.append('K-Neighbors Classifier')"
   ]
  },
  {
   "cell_type": "markdown",
   "id": "0ceaacad",
   "metadata": {},
   "source": [
    "# Gaussian Naive Bayes"
   ]
  },
  {
   "cell_type": "code",
   "execution_count": 383,
   "id": "23c6a00c",
   "metadata": {},
   "outputs": [],
   "source": [
    "GNB = GaussianNB()\n",
    "GNB.fit(xtrain, ytrain)\n",
    "testpredict = GNB.predict(xtest)\n",
    "\n",
    "accuracy.append(np.round(accuracy_score(ytest,testpredict),2))\n",
    "f1.append(np.round(f1_score(ytest,testpredict,average='weighted'),2))\n",
    "model.append('Gaussian Naive Bayes')\n"
   ]
  },
  {
   "cell_type": "markdown",
   "id": "38122bd2",
   "metadata": {},
   "source": [
    "# Decision Tree Classifier"
   ]
  },
  {
   "cell_type": "code",
   "execution_count": 384,
   "id": "3d0785ae",
   "metadata": {},
   "outputs": [],
   "source": [
    "dst=tree.DecisionTreeClassifier(criterion='entropy')\n",
    "dst.fit(xtrain,ytrain)\n",
    "testpredict=dst.predict(xtest)\n",
    "accuracy.append(np.round(accuracy_score(ytest,testpredict),2))\n",
    "f1.append(np.round(f1_score(ytest,testpredict,average='weighted'),2))\n",
    "model.append('Decision Tree Classifier')"
   ]
  },
  {
   "cell_type": "markdown",
   "id": "47b98eee",
   "metadata": {},
   "source": [
    "# Random Forest Classifier"
   ]
  },
  {
   "cell_type": "code",
   "execution_count": 385,
   "id": "db89d6a5",
   "metadata": {},
   "outputs": [],
   "source": [
    "rfc=RandomForestClassifier(n_estimators=100)\n",
    "rfc.fit(xtrain,ytrain)\n",
    "testpredict=rfc.predict(xtest)\n",
    "accuracy.append(np.round(accuracy_score(ytest,testpredict),2))\n",
    "f1.append(np.round(f1_score(ytest,testpredict,average='weighted'),2))\n",
    "model.append('Random Forest')"
   ]
  },
  {
   "cell_type": "code",
   "execution_count": 386,
   "id": "86eb3cc8",
   "metadata": {},
   "outputs": [],
   "source": [
    "output=pd.DataFrame({'Model':model,\n",
    "                    'Accuracy':accuracy,\n",
    "                    'F1 score':f1})"
   ]
  },
  {
   "cell_type": "code",
   "execution_count": 387,
   "id": "769675e6",
   "metadata": {},
   "outputs": [
    {
     "data": {
      "text/html": [
       "<div>\n",
       "<style scoped>\n",
       "    .dataframe tbody tr th:only-of-type {\n",
       "        vertical-align: middle;\n",
       "    }\n",
       "\n",
       "    .dataframe tbody tr th {\n",
       "        vertical-align: top;\n",
       "    }\n",
       "\n",
       "    .dataframe thead th {\n",
       "        text-align: right;\n",
       "    }\n",
       "</style>\n",
       "<table border=\"1\" class=\"dataframe\">\n",
       "  <thead>\n",
       "    <tr style=\"text-align: right;\">\n",
       "      <th></th>\n",
       "      <th>Model</th>\n",
       "      <th>Accuracy</th>\n",
       "      <th>F1 score</th>\n",
       "    </tr>\n",
       "  </thead>\n",
       "  <tbody>\n",
       "    <tr>\n",
       "      <th>0</th>\n",
       "      <td>Support Vector Machine</td>\n",
       "      <td>0.44</td>\n",
       "      <td>0.39</td>\n",
       "    </tr>\n",
       "    <tr>\n",
       "      <th>1</th>\n",
       "      <td>K-Neighbors Classifier</td>\n",
       "      <td>0.85</td>\n",
       "      <td>0.85</td>\n",
       "    </tr>\n",
       "    <tr>\n",
       "      <th>2</th>\n",
       "      <td>Gaussian Naive Bayes</td>\n",
       "      <td>0.39</td>\n",
       "      <td>0.35</td>\n",
       "    </tr>\n",
       "    <tr>\n",
       "      <th>3</th>\n",
       "      <td>Decision Tree Classifier</td>\n",
       "      <td>0.84</td>\n",
       "      <td>0.84</td>\n",
       "    </tr>\n",
       "    <tr>\n",
       "      <th>4</th>\n",
       "      <td>Random Forest</td>\n",
       "      <td>0.86</td>\n",
       "      <td>0.86</td>\n",
       "    </tr>\n",
       "  </tbody>\n",
       "</table>\n",
       "</div>"
      ],
      "text/plain": [
       "                      Model  Accuracy  F1 score\n",
       "0    Support Vector Machine      0.44      0.39\n",
       "1    K-Neighbors Classifier      0.85      0.85\n",
       "2      Gaussian Naive Bayes      0.39      0.35\n",
       "3  Decision Tree Classifier      0.84      0.84\n",
       "4             Random Forest      0.86      0.86"
      ]
     },
     "execution_count": 387,
     "metadata": {},
     "output_type": "execute_result"
    }
   ],
   "source": [
    "output"
   ]
  }
 ],
 "metadata": {
  "kernelspec": {
   "display_name": "Python 3 (ipykernel)",
   "language": "python",
   "name": "python3"
  },
  "language_info": {
   "codemirror_mode": {
    "name": "ipython",
    "version": 3
   },
   "file_extension": ".py",
   "mimetype": "text/x-python",
   "name": "python",
   "nbconvert_exporter": "python",
   "pygments_lexer": "ipython3",
   "version": "3.9.12"
  }
 },
 "nbformat": 4,
 "nbformat_minor": 5
}
